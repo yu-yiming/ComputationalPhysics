{
 "cells": [
  {
   "cell_type": "markdown",
   "id": "9aeab04a",
   "metadata": {},
   "source": [
    "# Quantum Computing"
   ]
  },
  {
   "cell_type": "markdown",
   "id": "1c358b31",
   "metadata": {},
   "source": [
    "## Dirac Notation\n",
    "\n",
    "A **qubit** is a \"quantum bit\" that owns a state of either 0 or 1. Unlike in the classical interpretaion that the bit should be either 0 or 1 exclusively at a time, a qubit can be \"partially\" 0 and partially 1. We specify the \"partially\" by a complex number called **amplitude**. For example, $|\\psi\\rangle = \\sqrt{0.2}|{0}\\rangle + i\\sqrt{0.8}|1\\rangle$ represents a legal state of a qubit, where $\\sqrt{0.2}$ and $i\\sqrt{0.8}$ are the amplitudes of state $0$ and $1$, respectively. We call this \"$|\\rangle$\" the **dirac notation**, which is widely used in quantum mechanics.\n",
    "\n",
    "Here, the certificate for a legal qubit is that the sqaures of the amplitudes sum up to $1$. There will be no surprise if you know that these factors are essentially the square roots of the probability of each state. \n",
    "\n",
    "If the state is represented by multiple qubits, we need more factors to describe the probability distribution. In gerneral it's $2^w$ factors for a $w$-qubit state. For example:\n",
    "\n",
    "$$\n",
    "    \\alpha|00\\rangle + \\beta|01\\rangle + \\gamma|10\\rangle + \\delta|11\\rangle \\quad \\alpha, \\beta, \\gamma, \\delta \\in \\mathbb{C}\n",
    "$$\n",
    "\n",
    "is the general form for 2-qubit quantum states. A concrete example may be $\\sqrt{0.1}|00\\rangle + \\sqrt{0.4}|01\\rangle -\\sqrt{0.5}|11\\rangle$. For simplicity (arguable), we can also write the bits in base 10, in which case we will have $\\sqrt{0.1}|0\\rangle + \\sqrt{0.4}|1\\rangle - \\sqrt{0.5}|3\\rangle$ for the same example.\n",
    "\n",
    "If we already have two wires each carrying one qubit of states $\\psi_1$ and $\\psi_2$, how can we get the overall state? i.e. how to get the 4 factors out of the original ones? Say $\\psi_1 = \\sqrt{0.2}|0\\rangle + \\sqrt{0.8}|1\\rangle$, $\\psi_2 = \\sqrt{0.4}|0\\rangle + \\sqrt{0.6}|1\\rangle$, the tensor product is helpful here:\n",
    "\n",
    "$$\n",
    "\\begin{align*}\n",
    "    \\psi &= \\psi_1 \\otimes \\psi_2 \\\\\n",
    "    &= (\\sqrt{0.2}|0\\rangle + \\sqrt{0.8}|1\\rangle)\\otimes(\\sqrt{0.4}|0\\rangle + \\sqrt{0.6}|1\\rangle) \\\\\n",
    "    &= \\sqrt{0.2\\times0.4}|00\\rangle + \\sqrt{0.2\\times0.6}|01\\rangle + \\sqrt{0.8\\times0.4}|10\\rangle + \\sqrt{0.8\\times0.6}|11\\rangle \\\\\n",
    "    &= \\sqrt{0.08}|00\\rangle + \\sqrt{0.12}|01\\rangle + \\sqrt{0.32}|10\\rangle + \\sqrt{0.48}|11\\rangle\n",
    "\\end{align*}\n",
    "$$\n",
    "\n",
    "Note that *not* all states can be derived from tensor products. States that can be represented as a tensor product are called **product states**. Others are called **entangled states**. An example of the latter is $\\psi = \\frac{1}{\\sqrt{2}}|01\\rangle + \\frac{1}{\\sqrt{2}}|10\\rangle$, in which case the measured results of the qubits are dependent on each other (say we get 1 for the first qubit, then it's sure the other qubit is 0)."
   ]
  },
  {
   "cell_type": "markdown",
   "id": "337c20fc",
   "metadata": {},
   "source": [
    "## Vector Notation\n",
    "\n",
    "Another notation for quantum states is the **vector notation**. Since conventially, each possible state are listed in the increasing order, we can just keep the amplitudes of each state and write them in the vector form. For example, $\\psi = \\sqrt{0.2}|0\\rangle + \\sqrt{0.8}|1\\rangle$ can be equivalently written as:\n",
    "\n",
    "$$\n",
    "    \\psi = \n",
    "    \\begin{bmatrix}\n",
    "        \\sqrt{0.2} \\\\ \\sqrt{0.8}\n",
    "    \\end{bmatrix}\n",
    "$$\n",
    "\n",
    "Note that in this notation we cannot omit the items with 0 amplitude.\n",
    "\n",
    "It's natural to consider each possible state as a basic vector, so that the total state can be represented by the weighed sum of these vectors, just like how we interpret a vector in $\\mathbb{R}^k$. For example, for a $w$-qubit state where $w = 2$, we have the following basic vectors in $\\mathbb{R}^{2^w}$:\n",
    "\n",
    "$$\n",
    "    |00\\rangle =\n",
    "    \\begin{bmatrix}\n",
    "        1 \\\\ 0 \\\\ 0 \\\\ 0\n",
    "    \\end{bmatrix}\n",
    "    \\qquad\n",
    "    |01\\rangle =\n",
    "    \\begin{bmatrix}\n",
    "        0 \\\\ 1 \\\\ 0 \\\\ 0\n",
    "    \\end{bmatrix}\n",
    "    \\qquad\n",
    "    |10\\rangle =\n",
    "    \\begin{bmatrix}\n",
    "        0 \\\\ 0 \\\\ 1 \\\\ 0\n",
    "    \\end{bmatrix}\n",
    "    \\qquad\n",
    "    |11\\rangle =\n",
    "    \\begin{bmatrix}\n",
    "        0 \\\\ 0 \\\\ 0 \\\\ 1\n",
    "    \\end{bmatrix}\n",
    "$$\n",
    "\n",
    "Then, a state $\\psi = \\sqrt{0.08}|00\\rangle + \\sqrt{0.12}|01\\rangle + \\sqrt{0.32}|10\\rangle + \\sqrt{0.48}|11\\rangle$ can be written in the following vector form:\n",
    "\n",
    "$$\n",
    "\\begin{align*}\n",
    "    \\psi &= \\sqrt{0.08}|00\\rangle + \\sqrt{0.12}|01\\rangle + \\sqrt{0.32}|10\\rangle + \\sqrt{0.48}|11\\rangle \\\\\n",
    "    &=\n",
    "    \\sqrt{0.08}\\,\n",
    "    \\begin{bmatrix}\n",
    "        1 & 0 & 0 & 0\n",
    "    \\end{bmatrix}^T + \n",
    "    \\sqrt{0.12}\\,\n",
    "    \\begin{bmatrix}\n",
    "        0 & 1 & 0 & 0\n",
    "    \\end{bmatrix}^T + \n",
    "    \\sqrt{0.32}\\,\n",
    "    \\begin{bmatrix}\n",
    "        0 & 0 & 1 & 0\n",
    "    \\end{bmatrix}^T + \n",
    "    \\sqrt{0.48}\\,\n",
    "    \\begin{bmatrix}\n",
    "        0 & 0 & 0 & 1\n",
    "    \\end{bmatrix} \\\\\n",
    "    &= \n",
    "    \\begin{bmatrix}\n",
    "        0.08 & 0.12 & 0.32 & 0.48\n",
    "    \\end{bmatrix}^T\n",
    "\\end{align*}\n",
    "$$\n",
    "\n",
    "Earlier we've said that the square sum of all amplitudes should be $1$, this can be formally expressed in mathematical form:\n",
    "\n",
    "$$\n",
    "    \\langle \\psi|\\psi\\rangle = |\\psi\\rangle(|\\psi\\rangle^T)^* = 1\n",
    "$$\n",
    "\n",
    "\n",
    "We will find vectors very helpful later when doing calculations."
   ]
  },
  {
   "cell_type": "markdown",
   "id": "f34194df",
   "metadata": {},
   "source": [
    "## Simulating Qubits\n",
    "\n",
    "We will use data structures in python to simulate qubits. Let's first import some useful packages:"
   ]
  },
  {
   "cell_type": "code",
   "execution_count": 49,
   "id": "3a340d9b",
   "metadata": {},
   "outputs": [
    {
     "data": {
      "application/javascript": [
       "Jupyter.notebook.execute_cells([-1,-3])"
      ],
      "text/plain": [
       "<IPython.core.display.Javascript object>"
      ]
     },
     "execution_count": 49,
     "metadata": {},
     "output_type": "execute_result"
    }
   ],
   "source": [
    "import math\n",
    "import numpy\n",
    "from numpy import pi, e, kron, sqrt, random\n",
    "from scipy import sparse\n",
    "from qiskit import QuantumCircuit\n",
    "from IPython.display import Javascript\n",
    "Javascript(\"Jupyter.notebook.execute_cells([-1,-3])\")"
   ]
  },
  {
   "cell_type": "markdown",
   "id": "094cdcac",
   "metadata": {},
   "source": [
    "A state can be expressed in the following form:"
   ]
  },
  {
   "cell_type": "code",
   "execution_count": 11,
   "id": "a3a5b460",
   "metadata": {},
   "outputs": [],
   "source": [
    "state = [\n",
    "    (numpy.sqrt(0.1), '00'),\n",
    "    (numpy.sqrt(0.4), '01'),\n",
    "    (numpy.sqrt(0.5), '11')\n",
    "]"
   ]
  },
  {
   "cell_type": "markdown",
   "id": "643430bd",
   "metadata": {},
   "source": [
    "The following function is used to print a state in the dirac notation, one in binary and one in decimal"
   ]
  },
  {
   "cell_type": "code",
   "execution_count": 12,
   "id": "f168019b",
   "metadata": {},
   "outputs": [],
   "source": [
    "def print_dirac_binary(state):\n",
    "    result = '('\n",
    "    for (p, bits) in state:\n",
    "        result += str(p) + ' |' + bits + '> + '\n",
    "    result = result[:-3] + ')'\n",
    "    print(result)\n",
    "\n",
    "def print_dirac_decimal(state):\n",
    "    result = '('\n",
    "    for (p, bits) in state:\n",
    "        result += str(p) + ' |' + binary_to_decimal(bits) + '> + '\n",
    "    result = result[:-3] + ')'\n",
    "    print(result)"
   ]
  },
  {
   "cell_type": "markdown",
   "id": "104d4296",
   "metadata": {},
   "source": [
    "Here's the effect:"
   ]
  },
  {
   "cell_type": "code",
   "execution_count": 13,
   "id": "74b80478",
   "metadata": {},
   "outputs": [
    {
     "name": "stdout",
     "output_type": "stream",
     "text": [
      "(0.31622776601683794 |00> + 0.6324555320336759 |01> + 0.7071067811865476 |11>)\n",
      "(0.31622776601683794 |0> + 0.6324555320336759 |1> + 0.7071067811865476 |3>)\n"
     ]
    }
   ],
   "source": [
    "print_dirac_binary(state)\n",
    "print_dirac_decimal(state)"
   ]
  },
  {
   "cell_type": "markdown",
   "id": "07929d6b",
   "metadata": {},
   "source": [
    "We may also want to convert between states and their vector forms:"
   ]
  },
  {
   "cell_type": "code",
   "execution_count": 14,
   "id": "fd722e7e",
   "metadata": {},
   "outputs": [],
   "source": [
    "def state_to_vector(state):\n",
    "    limit = 2 ** len(state[0][1])\n",
    "    result = numpy.zeros(limit)\n",
    "    j = 0\n",
    "    for i in range(0, limit):\n",
    "        (p, bits) = state[j]\n",
    "        if i == int(bits, 2):\n",
    "            result[i] = p\n",
    "            j += 1\n",
    "        else:\n",
    "            result[i] = 0.0\n",
    "    return result\n",
    "\n",
    "def vector_to_state(vec):\n",
    "    length = math.frexp(len(vec))[1] - 1  \n",
    "    return [(p, decimal_to_binary(i, length)) for i, p in enumerate(vec)]"
   ]
  },
  {
   "cell_type": "markdown",
   "id": "dbc0105d",
   "metadata": {},
   "source": [
    "Let's see what we've got:"
   ]
  },
  {
   "cell_type": "code",
   "execution_count": 15,
   "id": "797810d6",
   "metadata": {},
   "outputs": [
    {
     "name": "stdout",
     "output_type": "stream",
     "text": [
      "[0.31622777 0.63245553 0.         0.70710678]\n",
      "(0.31622776601683794 |00> + 0.6324555320336759 |01> + 0.0 |10> + 0.7071067811865476 |11>)\n"
     ]
    }
   ],
   "source": [
    "print(state_to_vector(state))\n",
    "print_dirac_binary(vector_to_state(state_to_vector(state)))"
   ]
  },
  {
   "cell_type": "markdown",
   "id": "84d15379",
   "metadata": {},
   "source": [
    "Finally, it could be helpful to write a function to check validity of states and vectors of quantum systems, i.e. whether the possiblilies of states sum up to 1:"
   ]
  },
  {
   "cell_type": "code",
   "execution_count": 16,
   "id": "19044964",
   "metadata": {},
   "outputs": [],
   "source": [
    "def check_state_validity(state):\n",
    "    s = 0\n",
    "    for (p, bits) in state:\n",
    "        s += p * p.conj()\n",
    "    return math.isclose(s.real, 1.0) and math.isclose(s.imag, 0.0)\n",
    "def check_vector_validity(vec):\n",
    "    s = 0\n",
    "    for p in vec:\n",
    "        s += p * p.conj()\n",
    "    return math.isclose(s.real, 1.0) and math.isclose(s.imag, 0.0)"
   ]
  },
  {
   "cell_type": "markdown",
   "id": "9ebcc5e6",
   "metadata": {},
   "source": [
    "## Quantum Gates\n",
    "\n",
    "Just like logic gates for classical system, there are **quantum gates** that modify the states of a quantum system. Let's introduce some of them:\n",
    "\n",
    "### Hadamard Gate\n",
    "\n",
    "The Hadamard gate operates on a single qubit with the following mapping rule:\n",
    "\n",
    "$$\n",
    "    |0\\rangle \\mapsto \\frac{1}{\\sqrt{2}}|0\\rangle + \\frac{1}{\\sqrt{2}}|1\\rangle\n",
    "    \\qquad\n",
    "    |1\\rangle \\mapsto \\frac{1}{\\sqrt{2}}|0\\rangle - \\frac{1}{\\sqrt{2}}|1\\rangle\n",
    "$$\n",
    "\n",
    "As usual, it can be represented by a matrix:\n",
    "\n",
    "$$\n",
    "    H = \\frac{1}{\\sqrt{2}}\n",
    "    \\begin{bmatrix}\n",
    "        1 & 1 \\\\ 1 & -1\n",
    "    \\end{bmatrix}\n",
    "$$\n",
    "\n",
    "For a 1-qubit state, we can apply $H$ to it to get the state after the Hadamard gate. Say $\\psi = \\sqrt{0.5}|0\\rangle + \\sqrt{0.5}|1\\rangle$, then:\n",
    "\n",
    "$$\n",
    "    H\\psi = \n",
    "    \\frac{1}{\\sqrt{2}}\n",
    "    \\begin{bmatrix}\n",
    "        1 & 1 \\\\ 1 & -1\n",
    "    \\end{bmatrix}\n",
    "    \\begin{bmatrix}\n",
    "        \\sqrt{0.5} \\\\ \\sqrt{0.5}\n",
    "    \\end{bmatrix}\n",
    "    = \n",
    "    \\begin{bmatrix}\n",
    "        1 \\\\ 0\n",
    "    \\end{bmatrix}\n",
    "    = |0\\rangle\n",
    "$$\n",
    "\n",
    "A Hadamard gate in quantum circuits are usually depicted in the following form:"
   ]
  },
  {
   "cell_type": "code",
   "execution_count": 17,
   "id": "95e5965b",
   "metadata": {},
   "outputs": [
    {
     "data": {
      "image/png": "[encoded data removed]",
      "text/plain": [
       "<Figure size 133.526x84.28 with 1 Axes>"
      ]
     },
     "execution_count": 17,
     "metadata": {},
     "output_type": "execute_result"
    }
   ],
   "source": [
    "draw_hadamard_gate() # defined at the end of the notebook"
   ]
  },
  {
   "cell_type": "markdown",
   "id": "0ac7b6af",
   "metadata": {},
   "source": [
    "### Phase Shift Gate\n",
    "\n",
    "The phase shift gate has the following rule:\n",
    "\n",
    "$$\n",
    "    |0\\rangle \\mapsto |0\\rangle\n",
    "    \\qquad\n",
    "    |1\\rangle \\mapsto e^{i\\theta}|1\\rangle\n",
    "$$\n",
    "\n",
    "Here $\\theta$ is some given value. Note that the probability of either $|0\\rangle$ or $|1\\rangle$ doesn't change, since $|e^{i\\theta}|$ is always 1. It, however, modifies the phase of the quantum state.\n",
    "\n",
    "The matrix form is as follows:\n",
    "\n",
    "$$\n",
    "    P(\\theta) =\n",
    "    \\begin{bmatrix}\n",
    "        1 & 0 \\\\ 0 & e^{i\\theta}\n",
    "    \\end{bmatrix}\n",
    "$$\n",
    "\n",
    "The plot version of a phase shift gate is:"
   ]
  },
  {
   "cell_type": "code",
   "execution_count": 18,
   "id": "0d9d680c",
   "metadata": {},
   "outputs": [
    {
     "data": {
      "image/png": "[encoded data removed]",
      "text/plain": [
       "<Figure size 133.526x84.28 with 1 Axes>"
      ]
     },
     "execution_count": 18,
     "metadata": {},
     "output_type": "execute_result"
    }
   ],
   "source": [
    "draw_phase_gate(numpy.pi/2) # defined at the end of the notebook"
   ]
  },
  {
   "cell_type": "markdown",
   "id": "b76ab89c",
   "metadata": {},
   "source": [
    "### CNOT Gate\n",
    "\n",
    "The CNOT gate is a controlled gate that takes two qubits and performs NOT operation on the second qubit if the first qubit is 1:\n",
    "\n",
    "$$\n",
    "    |00\\rangle \\mapsto |00\\rangle\n",
    "    \\qquad\n",
    "    |01\\rangle \\mapsto |01\\rangle\n",
    "    \\qquad\n",
    "    |10\\rangle \\mapsto |11\\rangle\n",
    "    \\qquad\n",
    "    |11\\rangle \\mapsto |10\\rangle\n",
    "$$\n",
    "\n",
    "If we carefully look into this tranformation, the output qubit (the second qubit on the right side) is actually the XOR of the input qubit and the control qubit. The difference is that we preserve one of the inputs, namely the control qubit. Thus, it's always possible to reverse the process using that control qubit.\n",
    "\n",
    "The matrix form of the CNOT gate is:\n",
    "\n",
    "$$\n",
    "    CNOT =\n",
    "    \\begin{bmatrix}\n",
    "        1 & 0 & 0 & 0 \\\\\n",
    "        0 & 1 & 0 & 0 \\\\\n",
    "        0 & 0 & 0 & 1 \\\\\n",
    "        0 & 0 & 1 & 0\n",
    "    \\end{bmatrix}\n",
    "$$\n",
    "\n",
    "The CNOT gate is depicted as follows:"
   ]
  },
  {
   "cell_type": "code",
   "execution_count": 19,
   "id": "042a3c33",
   "metadata": {},
   "outputs": [
    {
     "data": {
      "image/png": "[encoded data removed]",
      "text/plain": [
       "<Figure size 146.652x144.48 with 1 Axes>"
      ]
     },
     "execution_count": 19,
     "metadata": {},
     "output_type": "execute_result"
    }
   ],
   "source": [
    "draw_cnot_gate() # defined at the end of the notebook"
   ]
  },
  {
   "cell_type": "markdown",
   "id": "889b1de0",
   "metadata": {},
   "source": [
    "The three gates introduced above will be our **universal gate set**, like the NAND and NOR gates among the classical gates. In other words, we can use these three gates to perform anything in quantum computing. All the gates we will learn later can be constructed from the universal gates.\n",
    "\n",
    "Here's a typical quantum circuit consisting of Hadamard, phase shift, and CNOT gates:"
   ]
  },
  {
   "cell_type": "code",
   "execution_count": 20,
   "id": "20590b3c",
   "metadata": {},
   "outputs": [
    {
     "data": {
      "image/png": "[encoded data removed]",
      "text/plain": [
       "<Figure size 387.597x204.68 with 1 Axes>"
      ]
     },
     "execution_count": 20,
     "metadata": {},
     "output_type": "execute_result"
    }
   ],
   "source": [
    "draw_qcircuit_example() # defined at the end of the notebook"
   ]
  },
  {
   "cell_type": "markdown",
   "id": "2d62bee9",
   "metadata": {},
   "source": [
    "We can simulate these gates and quantum circuits by defining variables and functions:"
   ]
  },
  {
   "cell_type": "code",
   "execution_count": 21,
   "id": "95229222",
   "metadata": {},
   "outputs": [],
   "source": [
    "H = numpy.array([[1, 1], [1, -1]]) / numpy.sqrt(2)\n",
    "def P(theta):\n",
    "    return numpy.array([[1, 0], [0, numpy.exp(1j * theta)]])\n",
    "CNOT = numpy.array([[1, 0, 0, 0], [0, 1, 0, 0], [0, 0, 0, 1], [0, 0, 1, 0]])"
   ]
  },
  {
   "cell_type": "markdown",
   "id": "c86f0d9c",
   "metadata": {},
   "source": [
    "Let's first try trivial cases to show that these matrices work:"
   ]
  },
  {
   "cell_type": "code",
   "execution_count": 22,
   "id": "9da05231",
   "metadata": {},
   "outputs": [
    {
     "name": "stdout",
     "output_type": "stream",
     "text": [
      "[ 0.89442719 -0.4472136 ]\n",
      "[ 0.31622777+0.00000000e+00j -0.9486833 +1.16180196e-16j]\n",
      "[0.31622777 0.4472136  0.63245553 0.54772256]\n"
     ]
    }
   ],
   "source": [
    "state = state_to_vector([(numpy.sqrt(0.1), '0'), (numpy.sqrt(0.9), '1')])\n",
    "controlled_state = state_to_vector([(numpy.sqrt(0.1), '00'), (numpy.sqrt(0.2), '01'), (numpy.sqrt(0.3), '10'), (numpy.sqrt(0.4), '11')])\n",
    "print(H @ state)\n",
    "print(P(numpy.pi) @ state)\n",
    "print(CNOT @ controlled_state)"
   ]
  },
  {
   "cell_type": "markdown",
   "id": "2618d838",
   "metadata": {},
   "source": [
    "### Adapt Matrices to Multi-Qubit Circuits\n",
    "\n",
    "In real quantum circuits, there are always more than one qubits, yet each quantum gate only affect one to several qubits. Therefore, we need to adjust our matrices so that for arbitrary count of qubits we can map them to the correct result."
   ]
  },
  {
   "cell_type": "markdown",
   "id": "36b73e71",
   "metadata": {},
   "source": [
    "#### Hadamard Gate\n",
    "\n",
    "For example, let $\\Psi = \\sqrt{0.1}|00\\rangle + \\sqrt{0.2}|01\\rangle + \\sqrt{0.3}|10\\rangle + \\sqrt{0.4}|11\\rangle$. the Hadamard gate on the second qubit will trasform $\\Psi$ into:\n",
    "\n",
    "$$\n",
    "    H(2, 2)\\Psi = \\sqrt{0.1}|00\\rangle + \\sqrt{0.2}|01\\rangle + \\frac{\\sqrt{0.3} + \\sqrt{0.4}}{\\sqrt{2}}|10\\rangle + \\frac{\\sqrt{0.3} - \\sqrt{0.4}}{\\sqrt{2}}|11\\rangle\n",
    "$$\n",
    "\n",
    "Here $H(i, k)$ stands for an extended Hadamard matrix taht has $k$ qubits in total, but only the $i$-th will be affected. To construct this matrix, we need to find patterns in $H(i, k)$. Let's start with some examples:\n",
    "\n",
    "$$\n",
    "    H(1, 2) = \n",
    "    \\begin{bmatrix}\n",
    "        \\frac{1}{\\sqrt{2}} & 0 & \\frac{1}{\\sqrt{2}} & 0 \\\\\n",
    "        0 & \\frac{1}{\\sqrt{2}} & 0 & \\frac{1}{\\sqrt{2}} \\\\\n",
    "        \\frac{1}{\\sqrt{2}} & 0 & -\\frac{1}{\\sqrt{2}} & 0 \\\\\n",
    "        0 & \\frac{1}{\\sqrt{2}} & 0 & -\\frac{1}{\\sqrt{2}}\n",
    "    \\end{bmatrix}\n",
    "    \\qquad\n",
    "    H(2, 2) = \n",
    "    \\begin{bmatrix}\n",
    "        \\frac{1}{\\sqrt{2}} & \\frac{1}{\\sqrt{2}} & 0 & 0 \\\\\n",
    "        \\frac{1}{\\sqrt{2}} & -\\frac{1}{\\sqrt{2}} & 0 & 0 \\\\\n",
    "        0 & 0 & \\frac{1}{\\sqrt{2}} & \\frac{1}{\\sqrt{2}} \\\\\n",
    "        0 & 0 & \\frac{1}{\\sqrt{2}} & -\\frac{1}{\\sqrt{2}} \\\\\n",
    "    \\end{bmatrix} \\\\\n",
    "    H(1, 3) = \n",
    "    \\begin{bmatrix}\n",
    "        \\frac{1}{\\sqrt{2}} & 0 & 0 & 0 & \\frac{1}{\\sqrt{2}} & 0 & 0 & 0 \\\\\n",
    "        0 & \\frac{1}{\\sqrt{2}} & 0 & 0 & 0 & \\frac{1}{\\sqrt{2}} & 0 & 0 \\\\\n",
    "        0 & 0 & \\frac{1}{\\sqrt{2}} & 0 & 0 & 0 & \\frac{1}{\\sqrt{2}} & 0 \\\\\n",
    "        0 & 0 & 0 & \\frac{1}{\\sqrt{2}} & 0 & 0 & 0 & \\frac{1}{\\sqrt{2}} \\\\\n",
    "        \\frac{1}{\\sqrt{2}} & 0 & 0 & 0 & -\\frac{1}{\\sqrt{2}} & 0 & 0 & 0 \\\\\n",
    "        0 & \\frac{1}{\\sqrt{2}} & 0 & 0 & 0 & -\\frac{1}{\\sqrt{2}} & 0 & 0 \\\\\n",
    "        0 & 0 & \\frac{1}{\\sqrt{2}} & 0 & 0 & 0 & -\\frac{1}{\\sqrt{2}} & 0 \\\\\n",
    "        0 & 0 & 0 & \\frac{1}{\\sqrt{2}} & 0 & 0 & 0 & -\\frac{1}{\\sqrt{2}} \\\\\n",
    "    \\end{bmatrix}\n",
    "    \\qquad\n",
    "    H(2, 3) = \n",
    "    \\begin{bmatrix}\n",
    "        \\frac{1}{\\sqrt{2}} & 0 & \\frac{1}{\\sqrt{2}} & 0 & 0 & 0 & 0 & 0 \\\\\n",
    "        0 & \\frac{1}{\\sqrt{2}} & 0 & \\frac{1}{\\sqrt{2}} & 0 & 0 & 0 & 0 \\\\\n",
    "        \\frac{1}{\\sqrt{2}} & 0 & -\\frac{1}{\\sqrt{2}} & 0 & 0 & 0 & 0 & 0 \\\\\n",
    "        0 & \\frac{1}{\\sqrt{2}} & 0 & -\\frac{1}{\\sqrt{2}} & 0 & 0 & 0 & 0 \\\\\n",
    "        0 & 0 & 0 & 0 & \\frac{1}{\\sqrt{2}} & 0 & \\frac{1}{\\sqrt{2}} & 0 \\\\\n",
    "        0 & 0 & 0 & 0 & 0 & \\frac{1}{\\sqrt{2}} & 0 & \\frac{1}{\\sqrt{2}} \\\\\n",
    "        0 & 0 & 0 & 0 & \\frac{1}{\\sqrt{2}} & 0 & -\\frac{1}{\\sqrt{2}} & 0 \\\\\n",
    "        0 & 0 & 0 & 0 & 0 & \\frac{1}{\\sqrt{2}} & 0 & -\\frac{1}{\\sqrt{2}} \\\\\n",
    "    \\end{bmatrix} \\\\\n",
    "    H(3, 3) = \n",
    "    \\begin{bmatrix}\n",
    "        \\frac{1}{\\sqrt{2}} & \\frac{1}{\\sqrt{2}} & 0 & 0 & 0 & 0 & 0 & 0 \\\\\n",
    "        \\frac{1}{\\sqrt{2}} & -\\frac{1}{\\sqrt{2}} & 0 & 0 & 0 & 0 & 0 & 0 \\\\\n",
    "        0 & 0 & \\frac{1}{\\sqrt{2}} & \\frac{1}{\\sqrt{2}} & 0 & 0 & 0 & 0 \\\\\n",
    "        0 & 0 & \\frac{1}{\\sqrt{2}} & -\\frac{1}{\\sqrt{2}} & 0 & 0 & 0 & 0 \\\\\n",
    "        0 & 0 & 0 & 0 & \\frac{1}{\\sqrt{2}} & \\frac{1}{\\sqrt{2}} & 0 & 0 \\\\\n",
    "        0 & 0 & 0 & 0 & \\frac{1}{\\sqrt{2}} & -\\frac{1}{\\sqrt{2}} & 0 & 0 \\\\\n",
    "        0 & 0 & 0 & 0 & 0 & 0 & \\frac{1}{\\sqrt{2}} & \\frac{1}{\\sqrt{2}} \\\\\n",
    "        0 & 0 & 0 & 0 & 0 & 0 & \\frac{1}{\\sqrt{2}} & -\\frac{1}{\\sqrt{2}} \\\\\n",
    "    \\end{bmatrix}\n",
    "$$\n",
    "\n",
    "If you are aware, $H(1, 2)$ resembles $H(1, 1)$, $H(2, 2)$ resembles $H(1, 1)$, $H(1, 3)$ resembles $H(1, 2)$, and $H(2, 3)$ resembles $H(1, 2)$. To explore these similarities, let's introduce the **Kronecker product** between two matrices. Suppose $A$, $B$ are square matrices of mxm and nxn, then:\n",
    "\n",
    "$$\n",
    "    A \\otimes B =\n",
    "    \\begin{bmatrix}\n",
    "        a_{11} & \\dots & a_{1m} \\\\\n",
    "        \\vdots & \\ddots & \\vdots \\\\\n",
    "        a_{m1} & \\dots & a_{mm}\n",
    "    \\end{bmatrix}\n",
    "    \\otimes\n",
    "    \\begin{bmatrix}\n",
    "        b_{11} & \\dots & b_{1n} \\\\\n",
    "        \\vdots & \\ddots & \\vdots \\\\\n",
    "        b_{n1} & \\dots & b_{nn}\n",
    "    \\end{bmatrix}\n",
    "    =\n",
    "    \\begin{bmatrix}\n",
    "        \\begin{matrix}\n",
    "            a_{11}b_{11} & \\dots & a_{11}b_{1n} \\\\\n",
    "            \\vdots & \\ddots & \\vdots \\\\\n",
    "            a_{11}b_{n1} & \\dots & a_{11}b_{nn}\n",
    "        \\end{matrix}\n",
    "        & \\dots &\n",
    "        \\begin{matrix}\n",
    "            a_{1m}b_{11} & \\dots & a_{1m}b_{1n} \\\\\n",
    "            \\vdots & \\ddots & \\vdots \\\\\n",
    "            a_{1m}b_{n1} & \\dots & a_{1m}b_{nn}\n",
    "        \\end{matrix} \\\\\n",
    "        \\vdots & \\ddots & \\vdots \\\\\n",
    "        \\begin{matrix}\n",
    "            a_{m1}b_{11} & \\dots & a_{m1}b_{1n} \\\\\n",
    "            \\vdots & \\ddots & \\vdots \\\\\n",
    "            a_{m1}b_{m1} & \\dots & a_{m1}b_{mm}\n",
    "        \\end{matrix}\n",
    "        & \\dots &\n",
    "        \\begin{matrix}\n",
    "            a_{mm}b_{11} & \\dots & a_{mm}b_{1n} \\\\\n",
    "            \\vdots & \\ddots & \\vdots \\\\\n",
    "            a_{mm}b_{m1} & \\dots & a_{mm}b_{mm}\n",
    "        \\end{matrix}\n",
    "    \\end{bmatrix}\n",
    "$$\n",
    "\n",
    "It's almost identical to the tensor product (and even shares the operator), but it restricts the operands to be in a space of matrices. Now look at the examples we gave before, it's not hard to come up with:\n",
    "\n",
    "$$\n",
    "    H(1, 2) = H \\otimes I \\qquad H(2, 2) = I \\otimes H \\\\\n",
    "    H(1, 3) = H \\otimes I \\otimes I  \\qquad H(2, 3) = I \\otimes H \\otimes I \\qquad H(3, 3) = I \\otimes I \\otimes H\n",
    "$$\n",
    "\n",
    "The pattern is obvious. Let me write down the general form (the product notation used below is *not* conventional, the multiplicative operator should be $\\otimes$ instead of $\\times$):\n",
    "\n",
    "$$\n",
    "    H(i, k) = \\left(\\prod_1^{i-1} I\\right)\\otimes H \\otimes \\left(\\prod_{i+1}^k I\\right)\n",
    "$$\n",
    "\n"
   ]
  },
  {
   "cell_type": "markdown",
   "id": "20c1c11c",
   "metadata": {},
   "source": [
    "#### Phase Shift Gate\n",
    "\n",
    "With the conclusion of extended Hadamard matrix, we can easily get the extended version of phase shift matrix. $P(\\theta, i, k)$, where $i$ , $k$ represent for transformed qubit and the total count of qubits, can be calculated as follows:\n",
    "\n",
    "$$\n",
    "    P(\\theta, i, k) = \\left(\\prod_1^{i-1} I\\right)\\otimes P(\\theta) \\otimes \\left(\\prod_{i+1}^k I\\right)\n",
    "$$"
   ]
  },
  {
   "cell_type": "markdown",
   "id": "8d2c5057",
   "metadata": {},
   "source": [
    "#### CNOT Gate\n",
    "\n",
    "The big challenge comes from the CNOT gate. So far, we *cannot* give a general matrix of the form $CNOT(c, i, k)$, where $c$ is for the control qubit, $i$ for the transformed qubit, and $k$ for the total count of qubits. This will be resolved later in another way to simulate quantum circuits, but for now we will just use $CNOT(i, k)$, where $i$ is the control qubit, and $i + 1$ is the transformed qubit."
   ]
  },
  {
   "cell_type": "markdown",
   "id": "de8c02cc",
   "metadata": {},
   "source": [
    "The following are functions to generate extended matrices for the three quantum gates we discussed before:"
   ]
  },
  {
   "cell_type": "code",
   "execution_count": 23,
   "id": "eb8dbe67",
   "metadata": {},
   "outputs": [],
   "source": [
    "# Note that all following indices are 1-indexed.\n",
    "def hadamard_matrix(i, k):\n",
    "    if k >= 14:\n",
    "        print(\"The input is too large, expect to wait exponential time.\")\n",
    "    result = numpy.array([[1]])\n",
    "    for j in range(1, i):\n",
    "        result = numpy.kron(result, numpy.identity(2))\n",
    "    result = numpy.kron(result, H)\n",
    "    for j in range(i + 1, k + 1):\n",
    "        result = numpy.kron(result, numpy.identity(2))\n",
    "    return result\n",
    "\n",
    "def phase_matrix(theta, i, k):\n",
    "    if k >= 14:\n",
    "        print(\"The input is too large, expect to wait exponential time.\")\n",
    "    result = numpy.array([[1]])\n",
    "    for j in range(1, i):\n",
    "        result = numpy.kron(result, numpy.identity(2))\n",
    "    result = numpy.kron(result, P(theta))\n",
    "    for j in range(i + 1, k + 1):\n",
    "        result = numpy.kron(result, numpy.identity(2))\n",
    "    return result   \n",
    "\n",
    "def cnot_matrix(ctrl, i, k):\n",
    "    return numpy.identity(2 ** k)"
   ]
  },
  {
   "cell_type": "markdown",
   "id": "f1467a62",
   "metadata": {},
   "source": [
    "Now that any gates of any-qubit system can be represented by matrices, we can move on and try to construct a quantum simulator."
   ]
  },
  {
   "cell_type": "markdown",
   "id": "3b2e7daf",
   "metadata": {},
   "source": [
    "## Quantum Simulator\n"
   ]
  },
  {
   "cell_type": "markdown",
   "id": "6a7fce8c",
   "metadata": {},
   "source": [
    "Let's first look at an example of quantum circuit:"
   ]
  },
  {
   "cell_type": "code",
   "execution_count": 24,
   "id": "f846c5a5",
   "metadata": {},
   "outputs": [
    {
     "data": {
      "image/png": "[encoded data removed]",
      "text/plain": [
       "<Figure size 387.597x204.68 with 1 Axes>"
      ]
     },
     "execution_count": 24,
     "metadata": {},
     "output_type": "execute_result"
    }
   ],
   "source": [
    "draw_qcircuit_example()"
   ]
  },
  {
   "cell_type": "markdown",
   "id": "3316807e",
   "metadata": {},
   "source": [
    "It is equivalent to the following sequence of commands:\n",
    "\n",
    "```python\n",
    "QC 3\n",
    "INITSTATE BASIS |100>\n",
    "H 1\n",
    "H 2\n",
    "P pi/6 2\n",
    "CNOT 2 1\n",
    "H 1\n",
    "H 2\n",
    "CNOT 2 0\n",
    "```\n",
    "\n",
    "The first line gives the count of qubits in the circuit, the second line gives the initial state (if not given, the default input state will be $|0...0\\rangle$, and each of the following lines is a gate. The gates are already topologically sorted, so we don't need to worry about the ordering problems. Now, given a text file like the above, we will simulate the qunatum circuit and give random results based on the probabililty of each possible states at the end of the circuit.\n",
    "\n",
    "We will first need a parser to extract the commands and arguments from a circuit text file:"
   ]
  },
  {
   "cell_type": "code",
   "execution_count": 25,
   "id": "8be4ef94",
   "metadata": {},
   "outputs": [],
   "source": [
    "def read_circuit_file(file_name):\n",
    "    lines = open(file_name).readlines()\n",
    "    result = []\n",
    "    wire_ct = int(lines[0].split()[1])\n",
    "    for line in lines[1:]:\n",
    "        result.append(line.split())\n",
    "    return (wire_ct, result)"
   ]
  },
  {
   "cell_type": "markdown",
   "id": "888a144d",
   "metadata": {},
   "source": [
    "Here are parsed data from two prepared examples:"
   ]
  },
  {
   "cell_type": "code",
   "execution_count": 26,
   "id": "e31de89f",
   "metadata": {},
   "outputs": [
    {
     "name": "stdout",
     "output_type": "stream",
     "text": [
      "(3, [['INITSTATE', 'BASIS', '|000>'], ['H', '1'], ['CNOT', '1', '2'], ['P', '0', '0.45']])\n",
      "(3, [['H', '1'], ['H', '2'], ['P', 'pi/6', '2'], ['CNOT', '2', '1'], ['H', '1'], ['H', '2'], ['CNOT', '2', '0']])\n"
     ]
    }
   ],
   "source": [
    "circ_1 = read_circuit_file('data/1.circuit')\n",
    "print(circ_1)\n",
    "circ_2 = read_circuit_file('data/2.circuit')\n",
    "print(circ_2)"
   ]
  },
  {
   "cell_type": "markdown",
   "id": "96bfeaa9",
   "metadata": {},
   "source": [
    "Also, for a final vector of probabilities of states, we would like to define a random number generator to give a result:"
   ]
  },
  {
   "cell_type": "code",
   "execution_count": 27,
   "id": "2a7c868e",
   "metadata": {},
   "outputs": [],
   "source": [
    "def measure(state_vec):\n",
    "    bits = []\n",
    "    width = int(math.log(len(state_vec), 2.0))\n",
    "    for i in range(0, len(state_vec)):\n",
    "        bits.append(decimal_to_binary(i, width))\n",
    "    p_vec = (state_vec * state_vec.conj()).view(numpy.float64)[::2]\n",
    "    while True:\n",
    "        yield numpy.random.choice(bits, 1, p=p_vec)[0]"
   ]
  },
  {
   "cell_type": "markdown",
   "id": "d7cc97fe",
   "metadata": {},
   "source": [
    "### Unitary Matrix\n",
    "\n",
    "Since each command is essentially a linear transformation, we can represent the whole quantum circuit by a complex matrix $U$, which is the product of all matrices. We call it an **unitary matrix** because it has the following property:\n",
    "\n",
    "$$\n",
    "    UU^\\dagger = U^\\dagger U = I\n",
    "$$\n",
    "\n",
    "where $U$ is a square matrix and $U^\\dagger$ is its conjugate transpose. For example, for a 2x2 matrix $U \\in GL(\\mathbb{C})$:\n",
    "\n",
    "$$\n",
    "    U = \n",
    "    \\begin{bmatrix}\n",
    "        a & b \\\\ c & d\n",
    "    \\end{bmatrix}\n",
    "$$\n",
    "\n",
    "It's conjugate transpose is:\n",
    "\n",
    "$$\n",
    "    U^\\dagger = \n",
    "    \\begin{bmatrix}\n",
    "        a^* & c^* \\\\ b^* & d^*\n",
    "    \\end{bmatrix}\n",
    "$$\n",
    "\n",
    "It's not hard to confirm that all three matrices we had ($H$, $P(\\theta)$, and $CNOT$) are unitary, then it's plain that their products are also unitary, since for any unitary matrix $U_1, U_2$, we have:\n",
    "\n",
    "$$\n",
    "    \\begin{align*}\n",
    "        (U_1U_2)(U_1U_2)^\\dagger &= (U_1U_2)(U_2^\\dagger U_1^\\dagger) \\\\\n",
    "        &= U_1(U_2U_2^\\dagger)U_1^\\dagger \\\\\n",
    "        &= U_1IU_1^\\dagger \\\\\n",
    "        &= U_1U_1^\\dagger = I\n",
    "    \\end{align*}\n",
    "$$\n",
    "\n",
    "Here's the function to get the unitary matrix of a quantum circuit:"
   ]
  },
  {
   "cell_type": "code",
   "execution_count": 28,
   "id": "517feffe",
   "metadata": {},
   "outputs": [],
   "source": [
    "def init_from_file(file_name):\n",
    "    lines = open(file_name).readlines()\n",
    "    state = []\n",
    "    for line in lines:\n",
    "        [real, imag] = line.split()\n",
    "        state.append(float(real) + float(imag) * 1j) \n",
    "    return state\n",
    "\n",
    "def init_from_basis(b, limit):\n",
    "    try:\n",
    "        basis = int(b)\n",
    "    except:\n",
    "        basis = int(binary_to_decimal(b[1:-1]))\n",
    "    return [0 for i in range(0, basis)] + [1] + [0 for i in range(basis + 1, limit)] \n",
    "\n",
    "def quantum_simulator_1(circ):\n",
    "    (w, gates) = circ\n",
    "    limit = 2 ** w\n",
    "    result = numpy.identity(limit)\n",
    "    state = []\n",
    "    \n",
    "    for g in gates[::-1]:\n",
    "        if g[0] == 'H':\n",
    "            i = int(g[1])\n",
    "            reuslt = result @ hadamard_matrix(i+1, w)\n",
    "            \n",
    "        elif g[0] == 'P':\n",
    "            theta = eval(g[2])     # eval() is to allow inputs like pi/3\n",
    "            i = int(g[1])\n",
    "            result = result @ phase_matrix(theta, i+1, w)\n",
    "            \n",
    "        elif g[0] == 'CNOT':\n",
    "            ctrl = int(g[1])\n",
    "            i = int(g[2])\n",
    "            result = result @ phase_matrix(ctrl, i+1, w)\n",
    "            \n",
    "        elif g[0] == 'INITSTATE':\n",
    "            if g[1] == 'FILE':\n",
    "                state = init_from_file(g[2])\n",
    "            elif g[1] == 'BASIS':\n",
    "                state = init_from_basis(g[2], limit)\n",
    "    if (len(state) == 0):\n",
    "        state = [1] + [0 for i in range(0, limit - 1)]\n",
    "    return result @ state"
   ]
  },
  {
   "cell_type": "markdown",
   "id": "e7ee0c27",
   "metadata": {},
   "source": [
    "Here's an example of constructing the quantum circuit, and generate results from the final vector:"
   ]
  },
  {
   "cell_type": "code",
   "execution_count": 29,
   "id": "3be1cdb3",
   "metadata": {},
   "outputs": [
    {
     "name": "stdout",
     "output_type": "stream",
     "text": [
      "['11110', '01110', '00000', '01111', '10001', '11010', '00010', '11111', '01000', '10100']\n"
     ]
    }
   ],
   "source": [
    "circ = read_circuit_file('./data/input.circuit')\n",
    "qs = quantum_simulator_1(circ)\n",
    "mgen = measure(qs)\n",
    "mlist = []\n",
    "for i in range(0, 10):\n",
    "    mlist.append(next(mgen))\n",
    "print(mlist)"
   ]
  },
  {
   "cell_type": "markdown",
   "id": "8ca01c2d",
   "metadata": {},
   "source": [
    "Great! We've made a quantum simulator! But how efficient is it? For a $w$-qubit system, let $N = 2^w$ be the scale of our data. Then, we need a $O(N^2)$ space for the matrices we use throughout the algorithm. Also, suppose there are $g$ gates, each represented by a $O(N^2)$-sized matrix, then a single matrix multiplication will take $O(N^3)$ time. In total, the time complexity is $O(gN^3)$, which is a considerable amount if we plug $w$ in, resulting in a $O(g8^w)$ runtime.\n",
    "\n",
    "The program will lag severely when our circuit grows. We need a better algorithm."
   ]
  },
  {
   "cell_type": "markdown",
   "id": "93b34ab8",
   "metadata": {},
   "source": [
    "### State-to-State Transformation\n",
    "\n",
    "A quick improvement is to keep a state vector, and do multiplication on gate matrices and the vector instead of on the gate matrices themselves, this will likely improve the time complexity, since a $O(N^2)$-scale matrix and a $O(N)$-scale vector takes $O(N^2)$ to do multiplication, and thus it will be $O(gN^2)$, or $O(g4^w)$ in total. The implementation is as follows:"
   ]
  },
  {
   "cell_type": "code",
   "execution_count": 30,
   "id": "af0ef89f",
   "metadata": {},
   "outputs": [],
   "source": [
    "def quantum_simulator_2(circ):\n",
    "    (w, gates) = circ\n",
    "    limit = 2 ** w\n",
    "    \n",
    "    state = []\n",
    "    for g in gates:\n",
    "        if g[0] == 'INITSTATE':\n",
    "            if g[1] == 'FILE':\n",
    "                state = init_from_file(g[2])\n",
    "            elif g[1] == 'BASIS':\n",
    "                state = init_from_basis(g[2], limit)\n",
    "    for g in gates[::-1]:\n",
    "        if g[0] == 'H':\n",
    "            i = int(g[1])\n",
    "            state = hadamard_matrix(i+1, w) @ state\n",
    "            \n",
    "        elif g[0] == 'P':\n",
    "            theta = eval(g[2])     # eval() is to allow inputs like pi/3\n",
    "            i = int(g[1])\n",
    "            state = phase_matrix(theta, i+1, w) @ state\n",
    "            \n",
    "        elif g[0] == 'CNOT':\n",
    "            ctrl = int(g[1])\n",
    "            i = int(g[2])\n",
    "            state = phase_matrix(ctrl, i+1, w) @ state\n",
    "    return state"
   ]
  },
  {
   "cell_type": "markdown",
   "id": "665fb2fa",
   "metadata": {},
   "source": [
    "The example is almost idential to the previous one, just using a different simulator."
   ]
  },
  {
   "cell_type": "code",
   "execution_count": 31,
   "id": "4187afd0",
   "metadata": {
    "scrolled": true
   },
   "outputs": [
    {
     "name": "stdout",
     "output_type": "stream",
     "text": [
      "['11010', '01100', '00100', '00110', '00011', '01010', '01111', '11100', '00001', '00100']\n"
     ]
    }
   ],
   "source": [
    "circ = read_circuit_file('./data/input.circuit')\n",
    "qs = quantum_simulator_2(circ)\n",
    "mgen = measure(qs)\n",
    "mlist = []\n",
    "for i in range(0, 10):\n",
    "    mlist.append(next(mgen))\n",
    "print(mlist)"
   ]
  },
  {
   "cell_type": "markdown",
   "id": "d2658146",
   "metadata": {},
   "source": [
    "### Sparse Matrix\n",
    "\n",
    "You may already noticed that our extended gate matrices are composed of mostly zeros and a few non-zero entries. It is doubtless a waste to occupy $O(4^w)$ space to store a matrix; instead, we prefer a \"compressed\" form of matrix to save time and space resources, it's called a **sparse matrix**. For example, a matrix like the following:\n",
    "\n",
    "$$\n",
    "    \\begin{bmatrix}\n",
    "        1 & 0 & 0 & 0 & 2 \\\\\n",
    "        3 & 0 & 4 & 0 & 0 \\\\\n",
    "        0 & 3 & 0 & 0 & 0 \\\\\n",
    "        0 & 0 & 2 & 1 & 0\n",
    "    \\end{bmatrix}\n",
    "$$\n",
    "\n",
    "can be described as the following lists:\n",
    "\n",
    "```python\n",
    "V = [1, 2, 3, 4, 3, 2, 1]\n",
    "COL_INDEX = [0, 4, 0, 2, 1, 2, 3]\n",
    "ROW_INDEX = [0, 2, 4, 5]\n",
    "```\n",
    "\n",
    "Here `V` is the list of non-zero entries sorted by row index and then by column index. `COL_INDEX` is the column indices of the non-zero entries, and `ROW_INDEX` is the first entry starting at corresponding row (e.g. the 4th entry (zero-indexed) starts at the 2nd row (zero-indexed), so `ROW_INDEX[2] = 4`). To access an entry at $i, j$, we can first slice `V` with `V[ROW_INDEX[i]:ROW_INDEX[i+1]]` to locate the row, and find appearance of $j$ within the slice. If it's found at `k`, the element we search for is `V[COL_INDEX[k]]`; otherwise, it is zero.\n",
    "\n",
    "It's clear that there are only $O(N)$ non-zeros in our gate matrices, so the time and space complexity are both estimated $O(N)$.\n",
    "\n",
    "The example above takes up 18 slots to store entries while the original matrix needs 20. This doesn't seem a big save. However, the scale of matrices grows exponetially in quantum circuits, so it will definitely be a sensible choice. We'll use `scipy.sparse` library to do this. We will start with the sparse version of our gate matrices:"
   ]
  },
  {
   "cell_type": "code",
   "execution_count": 32,
   "id": "66873898",
   "metadata": {},
   "outputs": [],
   "source": [
    "def hadamard_matrix_sparse(i, k):\n",
    "    if k >= 14:\n",
    "        print(\"The input is too large, expect to wait exponential time.\")\n",
    "    result = sparse.csr_matrix([[1]])\n",
    "    for j in range(1, i):\n",
    "        result = sparse.kron(result, I2)\n",
    "    result = sparse.kron(result, H)\n",
    "    for j in range(i + 1, k + 1):\n",
    "        result = sparse.kron(result, I2)\n",
    "    return result\n",
    "\n",
    "def phase_matrix_sparse(theta, i, k):\n",
    "    if k >= 14:\n",
    "        print(\"The input is too large, expect to wait exponential time.\")\n",
    "    result = sparse.csr_matrix([[1]])\n",
    "    for j in range(1, i):\n",
    "        result = sparse.kron(result, I2)\n",
    "    result = sparse.kron(result, H)\n",
    "    for j in range(i + 1, k + 1):\n",
    "        result = sparse.kron(result, I2)\n",
    "    return result\n",
    "\n",
    "def cnot_matrix_sparse(ctrl, i, k):\n",
    "    return sparse.csr_matrix(numpy.identity(2 ** k))"
   ]
  },
  {
   "cell_type": "markdown",
   "id": "6918ee68",
   "metadata": {},
   "source": [
    "Notice that we simply substitute `sparse.kron` for `numpy.kron` and `sparse.matrix_csr` for `numpy.array`. The logic remains the same."
   ]
  },
  {
   "cell_type": "code",
   "execution_count": 33,
   "id": "abe71e53",
   "metadata": {},
   "outputs": [],
   "source": [
    "def quantum_simulator_3(circ):\n",
    "    (w, gates) = circ\n",
    "    limit = 2 ** w\n",
    "    \n",
    "    state = []\n",
    "    for g in gates:\n",
    "        if g[0] == 'INITSTATE':\n",
    "            if g[1] == 'FILE':\n",
    "                state = init_from_file(g[2])\n",
    "            elif g[1] == 'BASIS':\n",
    "                state = init_from_basis(g[2], limit)\n",
    "    for g in gates[::-1]:\n",
    "        if g[0] == 'H':\n",
    "            i = int(g[1])\n",
    "            state = hadamard_matrix_sparse(i+1, w) @ state\n",
    "            \n",
    "        elif g[0] == 'P':\n",
    "            theta = eval(g[2])     # eval() is to allow inputs like pi/3\n",
    "            i = int(g[1])\n",
    "            state = phase_matrix_sparse(theta, i+1, w) @ state\n",
    "            \n",
    "        elif g[0] == 'CNOT':\n",
    "            ctrl = int(g[1])\n",
    "            i = int(g[2])\n",
    "            state = phase_matrix_sparse(ctrl, i+1, w) @ state\n",
    "    return state"
   ]
  },
  {
   "cell_type": "code",
   "execution_count": 34,
   "id": "ca5cb85e",
   "metadata": {},
   "outputs": [
    {
     "name": "stdout",
     "output_type": "stream",
     "text": [
      "['10100', '01110', '10001', '10100', '11000', '11010', '11110', '01011', '00000', '01000']\n"
     ]
    }
   ],
   "source": [
    "circ = read_circuit_file('./data/input.circuit')\n",
    "qs = quantum_simulator_3(circ)\n",
    "mgen = measure(qs)\n",
    "mlist = []\n",
    "for i in range(0, 10):\n",
    "    mlist.append(next(mgen))\n",
    "print(mlist)"
   ]
  },
  {
   "cell_type": "markdown",
   "id": "86525759",
   "metadata": {},
   "source": [
    "To show the performance differences between the discussed three simulators, let's do a benchmark. We'll generate fixed number of quantum gates for $w$-qubit systems, where $w$ grows from $2$ (so that CNOT won't be excluded) to some relatively large number, say $20$ (note that here it has exceeded $8^{20} \\approx 1\\times 10^{18}$ units of time for the first simulator). To run this benchmark, let's first write a random gate generator:"
   ]
  },
  {
   "cell_type": "code",
   "execution_count": 35,
   "id": "fb4aefe3",
   "metadata": {},
   "outputs": [],
   "source": [
    "def random_gate_text(w):\n",
    "    gate = random.randint(3)\n",
    "    arg = random.randint(w)\n",
    "    if gate == 0:\n",
    "        return 'H ' + str(arg)\n",
    "    elif gate == 1:\n",
    "        theta = random.rand() * 2 * pi\n",
    "        return 'P ' + str(arg) + ' ' + str(theta)\n",
    "    elif gate == 2:\n",
    "        # So far we can only deal with CNOT gates whose control and target wires are adjacent\n",
    "        return 'CNOT ' + str(arg) + ' ' + str(arg + 1 if arg != w - 1 else arg - 1)\n",
    "    \n",
    "def random_circuit_text(w, ct):\n",
    "    result = 'QC ' + str(w) + '\\n'\n",
    "    result += 'INITSTATE BASIS |' + '0'*w + '>\\n'\n",
    "    for i in range(0, ct):\n",
    "        result += random_gate_text(w) + '\\n'\n",
    "    return result\n",
    "\n",
    "def write_circuit_file(file_name, circ_text):\n",
    "    f = open(file_name, \"w\")\n",
    "    f.write(circ_text)\n",
    "    f.close()\n",
    "    \n",
    "def generate_circuit_files(bit_ct, gate_ct, test_ct):\n",
    "    for i in range(0, test_ct):\n",
    "        write_circuit_file('./data/benchmark_dataset/'+str(bit_ct)+'-'+str(gate_ct)+'_'+str(i)+'.circuit', random_circuit_text(bit_ct, gate_ct))\n",
    "        i += 1"
   ]
  },
  {
   "cell_type": "markdown",
   "id": "c85d6be3",
   "metadata": {},
   "source": [
    "Let's first generate the circuit files:"
   ]
  },
  {
   "cell_type": "code",
   "execution_count": 36,
   "id": "27781910",
   "metadata": {},
   "outputs": [
    {
     "name": "stdout",
     "output_type": "stream",
     "text": [
      "Wall time: 843 ms\n"
     ]
    }
   ],
   "source": [
    "%%time\n",
    "for qubit_ct in range(1, 21):\n",
    "    for gate_ct in range(10, 20):\n",
    "        generate_circuit_files(qubit_ct, gate_ct, 10)"
   ]
  },
  {
   "cell_type": "code",
   "execution_count": 39,
   "id": "1d315119",
   "metadata": {},
   "outputs": [
    {
     "data": {
      "text/plain": [
       "[0, 0, 0, 0, 0, 0, 0, 0, 0, 0, 1, 0, 0, 0, 0, 0]"
      ]
     },
     "execution_count": 39,
     "metadata": {},
     "output_type": "execute_result"
    }
   ],
   "source": [
    "init_from_basis('010', 16)"
   ]
  },
  {
   "cell_type": "code",
   "execution_count": 38,
   "id": "9ca06e89",
   "metadata": {},
   "outputs": [
    {
     "data": {
      "text/plain": [
       "array([[1., 0., 0., 0., 0., 0., 0., 0.],\n",
       "       [0., 1., 0., 0., 0., 0., 0., 0.],\n",
       "       [0., 0., 1., 0., 0., 0., 0., 0.],\n",
       "       [0., 0., 0., 1., 0., 0., 0., 0.],\n",
       "       [0., 0., 0., 0., 1., 0., 0., 0.],\n",
       "       [0., 0., 0., 0., 0., 1., 0., 0.],\n",
       "       [0., 0., 0., 0., 0., 0., 1., 0.],\n",
       "       [0., 0., 0., 0., 0., 0., 0., 1.]])"
      ]
     },
     "execution_count": 38,
     "metadata": {},
     "output_type": "execute_result"
    }
   ],
   "source": [
    "cnot_matrix(1, 2, 3)"
   ]
  },
  {
   "cell_type": "markdown",
   "id": "253bb6f6",
   "metadata": {},
   "source": [
    "### Non-atomic Gates\n",
    "\n",
    "Merely three gates cannot build a powerful quantum machine. We need more gates to express the logic in the circuits. Of course, they are constructed with our universal gate set, i.e. the Hadamard gate, the phase shift gate, and the CNOT gate. Here are a miscellaneous collection of the gates we may be interested."
   ]
  },
  {
   "cell_type": "markdown",
   "id": "398ae562",
   "metadata": {},
   "source": [
    "#### Pauli Gates\n",
    "\n",
    "Here's our old friend back in classical circuits. An NOT gate does is defined as follows:\n",
    "\n",
    "$$\n",
    "    |0\\rangle \\mapsto |1\\rangle \\qquad |1\\rangle \\to |0\\rangle\n",
    "$$\n",
    "\n",
    "The matrix for an NOT gate is:\n",
    "\n",
    "$$\n",
    "    X = \n",
    "    \\begin{bmatrix}\n",
    "        0 & 1 \\\\ 1 & 0\n",
    "    \\end{bmatrix}\n",
    "$$\n",
    "\n",
    "It's also known as the **Pauli-X gate**. We can derive it from the Hadamard gate and phase shift gate: $X = HP(\\pi)H$ (this can be easily confirmed). Here, the $P(\\pi)$ matrix represents the **Pauli-Z gate** defined as follows:\n",
    "\n",
    "$$\n",
    "    |0\\rangle \\mapsto |0\\rangle \\qquad |1\\rangle \\mapsto -|1\\rangle\n",
    "$$\n",
    "\n",
    "whose matrix definition is:\n",
    "\n",
    "$$\n",
    "    Z = \n",
    "    \\begin{bmatrix}\n",
    "        1 & 0 \\\\ 0 & -1\n",
    "    \\end{bmatrix}\n",
    "$$\n",
    "\n",
    "Of course, there should be one other **Pauli-Y gate**. You could have noticed that the Pauli-X and Pauli-Y gates may perform on some symmetries. It may be helpful to introduce the **Bloch sphere**, a geometric representation of a two-level quantum mechanical system, which is exactly the $1$-qubit scenario we've been talking about.\n",
    "\n",
    "<img src=\"./images/bloch_sphere.png\" width=200 height=200>\n",
    "\n",
    "This is a unit sphere whose axes represents the following states:\n",
    "\n",
    "$$\n",
    "    \\begin{align*}\n",
    "    \\begin{cases}\n",
    "        \\hat{\\mathbf{x}} &= \\quad |+\\rangle = \\frac{1}{\\sqrt{2}}(|0\\rangle + |1\\rangle) \\\\\n",
    "        -\\hat{\\mathbf{x}} &= \\quad |-\\rangle = \\frac{1}{\\sqrt{2}}(|0\\rangle - |1\\rangle) \n",
    "    \\end{cases}\n",
    "    &&\n",
    "    \\begin{cases}\n",
    "        \\hat{\\mathbf{y}} &= \\quad |i+\\rangle = \\frac{1}{\\sqrt{2}}(|0\\rangle + i|1\\rangle) \\\\\n",
    "        -\\hat{\\mathbf{y}} &= \\quad |i-\\rangle = \\frac{1}{\\sqrt{2}}(|0\\rangle - i|1\\rangle)   \n",
    "    \\end{cases}\n",
    "    &&\n",
    "    \\begin{cases}\n",
    "        \\hat{\\mathbf{z}} &= \\quad |0\\rangle \\\\\n",
    "        -\\hat{\\mathbf{z}} &= \\quad |1\\rangle\n",
    "    \\end{cases}\n",
    "    \\end{align*}\n",
    "$$\n",
    "\n",
    "It might be tricky to find out what these axes really means from above, but we can get some insights from the general form of a $1$-qubit quantum state $|\\Psi\\rangle$:\n",
    "\n",
    "$$\n",
    "    |\\Psi\\rangle = \\cos\\frac{\\theta}{2}|0\\rangle + e^{i\\varphi}\\sin\\frac{\\theta}{2}|1\\rangle\n",
    "$$\n",
    "\n",
    "Then, the Pauli-X transformation is simply rotate $\\Psi$ around the $x$ axis of the Bloch sphere by $\\pi$. The Pauli-Z transformation makes $\\Psi$ rotate around the $z$ axis by $\\pi$. We can easily check them:\n",
    "\n",
    "$$\n",
    "    \\begin{align*}\n",
    "        \\Psi_{x, \\pi} &= \\cos\\frac{\\pi - \\theta}{2}|0\\rangle + e^{i\\varphi}\\sin\\frac{\\pi - \\theta}{2}|1\\rangle \\\\\n",
    "        &= \\sin\\frac{\\theta}{2}|0\\rangle + e^{i\\varphi}\\cos\\frac{\\theta}{2}|1\\rangle \\\\\n",
    "        &= \\cos\\frac{\\theta}{2}|1\\rangle + e^{-i\\varphi}\\sin\\frac{\\theta}{2}|0\\rangle \\tag{Adjust the phase}\\\\\n",
    "        \\Psi_{z, \\pi} &= \\cos\\frac{\\theta}{2}|0\\rangle + e^{i(\\pi + \\varphi)}\\sin\\frac{\\theta}{2}|1\\rangle \\\\\n",
    "        &= \\cos\\frac{\\theta}{2}|0\\rangle - e^{i\\varphi}\\sin\\frac{\\theta}{2}|1\\rangle \\tag{Adjust the phase}\n",
    "    \\end{align*}\n",
    "$$\n",
    "\n",
    "Thus, it's natural to introduce the Pauli-Y tranformation as rotating around the $y$ axis by $\\pi$:\n",
    "\n",
    "$$\n",
    "    \\begin{align*}\n",
    "        \\Psi_{y, \\pi} &= \\cos\\frac{\\pi - \\theta}{2}|0\\rangle + e^{i(\\pi - \\varphi)}\\sin\\frac{\\pi - \\theta}{2}|1\\rangle \\\\\n",
    "        &= \\sin\\frac{\\theta}{2}|0\\rangle - e^{-i\\varphi}\\cos\\frac{\\theta}{2}|1\\rangle \\\\\n",
    "        &= -\\cos\\frac{\\theta}{2}|1\\rangle + e^{i\\varphi}\\sin\\frac{\\theta}{2}|0\\rangle \\tag{Adjust the phase}\\\\\n",
    "        &= \\cos\\frac{\\theta}{2}|1\\rangle - ie^{i\\varphi}\\sin\\frac{\\theta}{2}|0\\rangle \\tag{Adjust the phase}\n",
    "    \\end{align*}\n",
    "$$\n",
    "\n",
    "This gives us a definition of the Pauli-Y gate:\n",
    "\n",
    "$$\n",
    "    |0\\rangle \\mapsto i|1\\rangle \\qquad |1\\rangle \\mapsto -i|0\\rangle\n",
    "$$\n",
    "\n",
    "whose matrix representation is:\n",
    "\n",
    "$$\n",
    "    Y = \n",
    "    \\begin{bmatrix}\n",
    "        0 & -i \\\\ i & 0\n",
    "    \\end{bmatrix}\n",
    "$$\n",
    "\n",
    "Note that it's only a matter of phase when choosing the definition of Pauli-Y transformation, but the adopted version has more algebraic properties than the real matrix:\n",
    "\n",
    "$$\n",
    "    Y_\\text{real} =\n",
    "    \\begin{bmatrix}\n",
    "        0 & - 1 \\\\ 1 & 0\n",
    "    \\end{bmatrix}\n",
    "$$\n",
    "\n",
    "since the complex one generates the [**Pauli Group**](https://en.wikipedia.org/wiki/Pauli_group) together with the Pauli-X and Pauli-Z, which we'd prefer not to elaborate here.\n",
    "\n",
    "Finally, it's not hard to verify the following properties with repect to the Pauli gates:\n",
    "\n",
    "$$\n",
    "    X^2 = Y^2 = Z^2 = -iXYZ = I\n",
    "$$"
   ]
  },
  {
   "cell_type": "markdown",
   "id": "644ccad3",
   "metadata": {},
   "source": [
    "The Pauli gates built from the existing gates are illustrated as follows:"
   ]
  },
  {
   "cell_type": "code",
   "execution_count": 112,
   "id": "adff3383",
   "metadata": {},
   "outputs": [
    {
     "data": {
      "image/png": "[encoded data removed]",
      "text/plain": [
       "<Figure size 253.926x84.28 with 1 Axes>"
      ]
     },
     "execution_count": 112,
     "metadata": {},
     "output_type": "execute_result"
    }
   ],
   "source": [
    "draw_pauli_x_gate()"
   ]
  },
  {
   "cell_type": "code",
   "execution_count": 115,
   "id": "c711ef50",
   "metadata": {},
   "outputs": [
    {
     "data": {
      "image/png": "[encoded data removed]",
      "text/plain": [
       "<Figure size 253.926x84.28 with 1 Axes>"
      ]
     },
     "execution_count": 115,
     "metadata": {},
     "output_type": "execute_result"
    }
   ],
   "source": [
    "draw_pauli_y_gate()"
   ]
  },
  {
   "cell_type": "code",
   "execution_count": 118,
   "id": "305c7aa2",
   "metadata": {},
   "outputs": [
    {
     "data": {
      "image/png": "[encoded data removed]",
      "text/plain": [
       "<Figure size 133.526x84.28 with 1 Axes>"
      ]
     },
     "execution_count": 118,
     "metadata": {},
     "output_type": "execute_result"
    }
   ],
   "source": [
    "draw_pauli_z_gate()"
   ]
  },
  {
   "cell_type": "code",
   "execution_count": 104,
   "id": "1630b907",
   "metadata": {},
   "outputs": [],
   "source": [
    "# to avoid numerical error, I prefer to use the direct definition here\n",
    "X = numpy.array([[0, 1], [1, 0]])        # X = H @ Z @ H\n",
    "Y = numpy.array([[0, -1j], [1j, 0]])     # Y = P(pi/2) @ X @ P(-pi/2)\n",
    "Z = numpy.array([[1, 0], [0, -1]])       # Z = P(pi)"
   ]
  },
  {
   "cell_type": "markdown",
   "id": "0463c164",
   "metadata": {},
   "source": [
    "#### Rotation Operator Gates\n",
    "\n",
    "A more general form of the Pauli gates is to rotate around the axes of the Bloch sphere by *any* angle. The definition is:\n",
    "\n",
    "$$\n",
    "    R_x(\\theta) = e^{-i\\frac{\\theta}{2}X} \\qquad R_y(\\theta) = e^{-i\\frac{\\theta}{2}Y} \\qquad R_z(\\theta) = e^{-i\\frac{\\theta}{2}Z}\n",
    "$$\n",
    "\n",
    "Here the notation $e^{i\\theta A}$ where the matrix appears at the exponent is defined as:\n",
    "\n",
    "$$\n",
    "    e^{i\\theta A} = I\\cos\\theta + iA\\sin\\theta\n",
    "$$\n",
    "\n",
    "Thus, the more detailed definition is:\n",
    "\n",
    "$$\n",
    "    R_x(\\theta) =\n",
    "    \\begin{bmatrix}\n",
    "        \\cos\\tfrac{\\theta}{2} & -i\\sin\\tfrac{\\theta}{2} \\\\\n",
    "        -i\\sin\\tfrac{\\theta}{2} & \\cos\\tfrac{\\theta}{2}\n",
    "    \\end{bmatrix}\n",
    "    \\qquad\n",
    "    R_y(\\theta) = \n",
    "    \\begin{bmatrix}\n",
    "        \\cos\\frac{\\theta}{2} & -\\sin\\frac{\\theta}{2} \\\\\n",
    "        \\sin\\frac{\\theta}{2} & \\cos\\frac{\\theta}{2}\n",
    "    \\end{bmatrix}\n",
    "    \\qquad\n",
    "    R_z(\\theta) = \n",
    "    \\begin{bmatrix}\n",
    "        e^{-i\\frac{\\theta}{2}} & 0 \\\\\n",
    "        0 & e^{i\\frac{\\theta}{2}}\n",
    "    \\end{bmatrix}\n",
    "$$"
   ]
  },
  {
   "cell_type": "code",
   "execution_count": 125,
   "id": "501ad9ae",
   "metadata": {},
   "outputs": [
    {
     "data": {
      "text/plain": [
       "array([[0.000000e+00+0.j, 6.123234e-17+1.j],\n",
       "       [6.123234e-17+1.j, 0.000000e+00+0.j]])"
      ]
     },
     "execution_count": 125,
     "metadata": {},
     "output_type": "execute_result"
    }
   ],
   "source": [
    "P(pi/2) @ X @ P(pi/2)"
   ]
  },
  {
   "cell_type": "code",
   "execution_count": 119,
   "id": "2b182d23",
   "metadata": {},
   "outputs": [],
   "source": [
    "def RX(theta):\n",
    "    arg = theta / 2\n",
    "    return numpy.array([[numpy.cos(arg), -1j * numpy.sin(arg)], [-1j * numpy.sin(arg), numpy.cos(arg)]])"
   ]
  },
  {
   "cell_type": "code",
   "execution_count": 131,
   "id": "64249306",
   "metadata": {},
   "outputs": [
    {
     "data": {
      "text/plain": [
       "array([[6.123234e-17+0.j, 0.000000e+00-1.j],\n",
       "       [0.000000e+00-1.j, 6.123234e-17+0.j]])"
      ]
     },
     "execution_count": 131,
     "metadata": {},
     "output_type": "execute_result"
    }
   ],
   "source": [
    "RX(pi)"
   ]
  },
  {
   "cell_type": "code",
   "execution_count": null,
   "id": "02babc5b",
   "metadata": {},
   "outputs": [],
   "source": []
  },
  {
   "cell_type": "code",
   "execution_count": null,
   "id": "a4b1b9f7",
   "metadata": {},
   "outputs": [],
   "source": []
  },
  {
   "cell_type": "code",
   "execution_count": null,
   "id": "afe1c442",
   "metadata": {},
   "outputs": [],
   "source": []
  },
  {
   "cell_type": "code",
   "execution_count": null,
   "id": "215cfd7a",
   "metadata": {},
   "outputs": [],
   "source": []
  },
  {
   "cell_type": "code",
   "execution_count": null,
   "id": "86eb5c01",
   "metadata": {},
   "outputs": [],
   "source": []
  },
  {
   "cell_type": "markdown",
   "id": "2e87e013",
   "metadata": {},
   "source": [
    "## Utilities\n",
    "\n",
    "There are some helpful functions I wrote to better complete this post. Run the following cells right after the import statements to ensure the validity of code above."
   ]
  },
  {
   "cell_type": "code",
   "execution_count": 117,
   "id": "cd44204d",
   "metadata": {},
   "outputs": [],
   "source": [
    "def binary_to_decimal(binary):\n",
    "    result = 0\n",
    "    for d in binary:\n",
    "        result = result * 2 + int(d)\n",
    "    return str(result)\n",
    "\n",
    "def decimal_to_binary(decimal, length):\n",
    "    result = bin(decimal)[2:]    # abandon the '0b' prefix\n",
    "    return '0'*(length - len(result)) + result\n",
    "\n",
    "def draw_hadamard_gate():\n",
    "    qc = QuantumCircuit(1, name='Hadamard')\n",
    "    qc.h(0)\n",
    "    return qc.draw(output='mpl')\n",
    "\n",
    "def draw_phase_gate(theta):\n",
    "    qc = QuantumCircuit(1, name='Phase')\n",
    "    qc.p(theta, 0)\n",
    "    return qc.draw(output='mpl')\n",
    "\n",
    "def draw_cnot_gate():\n",
    "    qc = QuantumCircuit(2, name='CNOT')\n",
    "    qc.cx(0, 1)\n",
    "    return qc.draw(output='mpl')\n",
    "\n",
    "def draw_pauli_x_gate():\n",
    "    qc = QuantumCircuit(1, name='Pauli-X (NOT)')\n",
    "    qc.h(0)\n",
    "    qc.z(0)\n",
    "    qc.h(0)\n",
    "    return qc.draw(output='mpl')\n",
    "\n",
    "def draw_pauli_y_gate():\n",
    "    qc = QuantumCircuit(1, name='Pauli-Y')\n",
    "    qc.p(pi/2, 0)\n",
    "    qc.x(0)\n",
    "    qc.p(-pi/2, 0)\n",
    "    return qc.draw(output='mpl')\n",
    "    \n",
    "def draw_pauli_z_gate():\n",
    "    qc = QuantumCircuit(1, name='Pauli-Z')\n",
    "    qc.p(pi, 0)\n",
    "    return qc.draw(output='mpl')\n",
    "\n",
    "def draw_qcircuit_example():\n",
    "    qc = QuantumCircuit(3)\n",
    "    qc.h(1)\n",
    "    qc.h(2)\n",
    "    qc.p(numpy.pi / 6, 2)\n",
    "    qc.cx(2, 1)\n",
    "    qc.h(1)\n",
    "    qc.h(2)\n",
    "    qc.cx(2, 0)\n",
    "    return qc.draw(output='mpl')\n",
    "\n",
    "# turn a numpy.matrix to a tex matrix.\n",
    "# saves me tons of time\n",
    "def matrix_to_tex(mat):\n",
    "    result = '\\\\begin{bmatrix}\\n'\n",
    "    (row_ct, col_ct) = mat.shape\n",
    "    for i in range(0, row_ct):\n",
    "        tmp = '    '\n",
    "        for j in range(0, col_ct):\n",
    "            curr = mat[i, j]\n",
    "            if math.isclose(curr, 0):\n",
    "                tmp += '0'\n",
    "            elif math.isclose(curr, 1):\n",
    "                tmp += '1'\n",
    "            elif math.isclose(curr, 1 / numpy.sqrt(2)):\n",
    "                tmp += '\\\\frac{1}{\\\\sqrt{2}}'\n",
    "            elif math.isclose(curr, -1 / numpy.sqrt(2)):\n",
    "                tmp += '-\\\\frac{1}{\\\\sqrt{2}}'\n",
    "            else:\n",
    "                tmp += str(mat[i, j])\n",
    "            tmp += ' & '\n",
    "        result += tmp[:-2] + '\\\\\\\\\\n'\n",
    "    result += '\\\\end{bmatrix}'\n",
    "    print(result)\n",
    "    \n",
    "def show_matrix_pattern(mat, black='■', blank='□'):\n",
    "    result = ''\n",
    "    (row_ct, col_ct) = mat.shape\n",
    "    for i in range(0, row_ct):\n",
    "        for j in range(0, col_ct):\n",
    "            result += blank if math.isclose(abs(mat[i, j]), 0) else black\n",
    "            result += ' '         # a half space\n",
    "        result += '\\n'\n",
    "    print(result)"
   ]
  },
  {
   "cell_type": "markdown",
   "id": "71509c9b",
   "metadata": {},
   "source": [
    "Also, I defined several variables for convenience:"
   ]
  },
  {
   "cell_type": "code",
   "execution_count": 50,
   "id": "fa7957a2",
   "metadata": {},
   "outputs": [],
   "source": [
    "I2 = numpy.identity(2, dtype='complex128')\n",
    "R2 = numpy.array([[0, 1], [1, 0]], dtype='complex128')\n",
    "S2 = sparse.csr_matrix(I2)"
   ]
  }
 ],
 "metadata": {
  "kernelspec": {
   "display_name": "Python 3 (ipykernel)",
   "language": "python",
   "name": "python3"
  },
  "language_info": {
   "codemirror_mode": {
    "name": "ipython",
    "version": 3
   },
   "file_extension": ".py",
   "mimetype": "text/x-python",
   "name": "python",
   "nbconvert_exporter": "python",
   "pygments_lexer": "ipython3",
   "version": "3.8.12"
  }
 },
 "nbformat": 4,
 "nbformat_minor": 5
}
