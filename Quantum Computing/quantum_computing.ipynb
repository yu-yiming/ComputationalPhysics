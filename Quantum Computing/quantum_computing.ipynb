{
 "cells": [
  {
   "cell_type": "markdown",
   "id": "9aeab04a",
   "metadata": {},
   "source": [
    "# Quantum Computing"
   ]
  },
  {
   "cell_type": "markdown",
   "id": "8d7de4ed",
   "metadata": {},
   "source": [
    "## Table of Contents <a name=\"table-of-contents\"></a>\n",
    "\n",
    "1. [Quantum States](#quantum-states)\n",
    "    - [Dirac Notation](#dirac-notation)\n",
    "    - [Vector Notation](#vector-notation)\n",
    "    - [Simulating Qubits](#simulating-qubits)\n",
    "    \n",
    "    \n",
    "2. [Quantum Gates](#quantum-gates)\n",
    "    - [Hadamard Gate](#hadamard-gate)\n",
    "    - [Phase Shift Gate](#phase-shift-gate)\n",
    "    - [Controlled NOT Gate](#controlled-not-gate)\n",
    "    - [Adapting Matrices to Multi-qubit Circuits](#multi-qubit-circuits)\n",
    "        - [Hadamard Gate](#multi-qubit-hadamard-gate)\n",
    "        - [Phase Shift Gate](#multi-qubit-phase-shift-gate)\n",
    "        - [Controlled NOT Gate](#multi-qubit-controlled-not-gate)\n",
    "        \n",
    "        \n",
    "3. [Quantum Simulators](#quantum-simulators)\n",
    "    - [Quantum Circuits](#quantum-circuits)\n",
    "    - [Unitary Matrix](#unitary-matrix)\n",
    "    - [State-to-State Transformation](#state-to-state-transformation)\n",
    "    - [Sparse Matrix](#sparse-matrix)\n",
    "    \n",
    "    \n",
    "4. [Non-Atomic Gates](#non-atomic-gates)\n",
    "    - [Pauli Gates](#pauli-gates)\n",
    "    - [Rotation Operator Gates](#rotation-operator-gates)\n",
    "    - [Swap Gate](#swap-gate)\n",
    "    - [Controlled Phase Shift Gate](#controlled-phase-shift-gate)\n",
    "    \n",
    "    \n",
    "5. [Phase Estimation](#phase-estimation)\n",
    "    - [Introduction](#introduction)\n",
    "    - [Algorithm Walk-through](#algorithm-walk-through)\n",
    "    - [Implementation](#implementation)"
   ]
  },
  {
   "cell_type": "markdown",
   "id": "3fe8dc20",
   "metadata": {},
   "source": [
    "## Quantum States [🔝](#table-of-contents) <a name=\"quantum-states\"></a>"
   ]
  },
  {
   "cell_type": "markdown",
   "id": "1c358b31",
   "metadata": {},
   "source": [
    "### Dirac Notation [🔝](#table-of-contents) <a name=\"dirac-notation\"></a>\n",
    "\n",
    "A **qubit** is a \"quantum bit\" that owns a state of either 0 or 1. Unlike in the classical interpretaion that the bit should be either 0 or 1 exclusively at a time, a qubit can be \"partially\" 0 and partially 1. We specify the \"partially\" by a complex number called **amplitude**. For example, $|\\psi\\rangle = \\sqrt{0.2}|{0}\\rangle + i\\sqrt{0.8}|1\\rangle$ represents a legal state of a qubit, where $\\sqrt{0.2}$ and $i\\sqrt{0.8}$ are the amplitudes of state $0$ and $1$, respectively. We call this \"$|\\rangle$\" form of vectors the **Dirac notation**, which is widely used in quantum mechanics. \n",
    "\n",
    "In specific, $|\\rangle$ is called a **ket**, which usually represents a column vectors of complex numbers. There's also a similar form of vector, $\\langle|$, which is called a **bra**, representing a row vector (can you see the \"bra-ket\" reference here? That's why Dirac notation is also called the **bra-ket notation**). If a bra is acting on a ket, it will result in a complex number, denoted by $\\langle|\\rangle$. Note the in bras, the entries are actually the conjugate of the entries in the original vector. \n",
    "\n",
    "For example, let $\\psi = (1 + 2i, 2 - i)$ be a vector, then:\n",
    "\n",
    "$$\n",
    "    \\begin{align*}\n",
    "        |\\psi\\rangle \n",
    "        = \\begin{bmatrix}\n",
    "            1 + 2i \\\\ 2 - i\n",
    "        \\end{bmatrix}\n",
    "        \\qquad\n",
    "        \\langle\\psi|\n",
    "        = \\begin{bmatrix}\n",
    "            1 - 2i & 2 + i\n",
    "        \\end{bmatrix}\n",
    "        \\qquad\n",
    "        \\langle\\psi|\\psi\\rangle\n",
    "        = (1 + 2i)(1 - 2i) + (2 - i)(2 + i)\n",
    "        = 10\n",
    "    \\end{align*}\n",
    "$$\n",
    "\n",
    "Back to qubits. Now, the certificate for a legal qubit is that the sqaures of the amplitudes sum up to $1$. There will be no surprise if you know that these factors are essentially the square roots of the probability of each state. \n",
    "\n",
    "If the state is represented by multiple qubits, we need more factors to describe the probability distribution. In gerneral it's $2^w$ factors for a $w$-qubit state. For example:\n",
    "\n",
    "$$\n",
    "    \\alpha|00\\rangle + \\beta|01\\rangle + \\gamma|10\\rangle + \\delta|11\\rangle \\quad \\alpha, \\beta, \\gamma, \\delta \\in \\mathbb{C}\n",
    "$$\n",
    "\n",
    "is the general form for 2-qubit quantum states. A concrete example may be $\\sqrt{0.1}|00\\rangle + \\sqrt{0.4}|01\\rangle -\\sqrt{0.5}|11\\rangle$. For simplicity (arguable), we can also write the bits in base 10, in which case we will have $\\sqrt{0.1}|0\\rangle + \\sqrt{0.4}|1\\rangle - \\sqrt{0.5}|3\\rangle$ for the same example.\n",
    "\n",
    "If we already have two wires each carrying one qubit of states $\\psi_1$ and $\\psi_2$, how can we get the overall state? i.e. how to get the 4 factors out of the original ones? Say $\\psi_1 = \\sqrt{0.2}|0\\rangle + \\sqrt{0.8}|1\\rangle$, $\\psi_2 = \\sqrt{0.4}|0\\rangle + \\sqrt{0.6}|1\\rangle$, the tensor product is helpful here:\n",
    "\n",
    "$$\n",
    "\\begin{align*}\n",
    "    \\psi &= \\psi_1 \\otimes \\psi_2 \\\\\n",
    "    &= (\\sqrt{0.2}|0\\rangle + \\sqrt{0.8}|1\\rangle)\\otimes(\\sqrt{0.4}|0\\rangle + \\sqrt{0.6}|1\\rangle) \\\\\n",
    "    &= \\sqrt{0.2\\times0.4}|00\\rangle + \\sqrt{0.2\\times0.6}|01\\rangle + \\sqrt{0.8\\times0.4}|10\\rangle + \\sqrt{0.8\\times0.6}|11\\rangle \\\\\n",
    "    &= \\sqrt{0.08}|00\\rangle + \\sqrt{0.12}|01\\rangle + \\sqrt{0.32}|10\\rangle + \\sqrt{0.48}|11\\rangle\n",
    "\\end{align*}\n",
    "$$\n",
    "\n",
    "Note that *not* all states can be derived from tensor products. States that can be represented as a tensor product are called **product states**. Others are called **entangled states**. An example of the latter is $\\psi = \\frac{1}{\\sqrt{2}}|01\\rangle + \\frac{1}{\\sqrt{2}}|10\\rangle$, in which case the measured results of the qubits are dependent on each other (say we get 1 for the first qubit, then it's sure the other qubit is 0)."
   ]
  },
  {
   "cell_type": "markdown",
   "id": "337c20fc",
   "metadata": {},
   "source": [
    "### Vector Notation [🔝](#table-of-contents) <a name=\"vector-notation\"></a>\n",
    "\n",
    "Another notation for quantum states is the **vector notation**. Since conventially, each possible state are listed in the increasing order, we can just keep the amplitudes of each state and write them in the vector form. For example, $\\psi = \\sqrt{0.2}|0\\rangle + \\sqrt{0.8}|1\\rangle$ can be equivalently written as:\n",
    "\n",
    "$$\n",
    "    \\psi = \n",
    "    \\begin{bmatrix}\n",
    "        \\sqrt{0.2} \\\\ \\sqrt{0.8}\n",
    "    \\end{bmatrix}\n",
    "$$\n",
    "\n",
    "Note that in this notation we cannot omit the items with 0 amplitude.\n",
    "\n",
    "It's natural to consider each possible state as a basic vector, so that the total state can be represented by the weighed sum of these vectors, just like how we interpret a vector in $\\mathbb{R}^k$. For example, for a $w$-qubit state where $w = 2$, we have the following basic vectors in $\\mathbb{R}^{2^w}$:\n",
    "\n",
    "$$\n",
    "    |00\\rangle =\n",
    "    \\begin{bmatrix}\n",
    "        1 \\\\ 0 \\\\ 0 \\\\ 0\n",
    "    \\end{bmatrix}\n",
    "    \\qquad\n",
    "    |01\\rangle =\n",
    "    \\begin{bmatrix}\n",
    "        0 \\\\ 1 \\\\ 0 \\\\ 0\n",
    "    \\end{bmatrix}\n",
    "    \\qquad\n",
    "    |10\\rangle =\n",
    "    \\begin{bmatrix}\n",
    "        0 \\\\ 0 \\\\ 1 \\\\ 0\n",
    "    \\end{bmatrix}\n",
    "    \\qquad\n",
    "    |11\\rangle =\n",
    "    \\begin{bmatrix}\n",
    "        0 \\\\ 0 \\\\ 0 \\\\ 1\n",
    "    \\end{bmatrix}\n",
    "$$\n",
    "\n",
    "Then, a state $\\psi = \\sqrt{0.08}|00\\rangle + \\sqrt{0.12}|01\\rangle + \\sqrt{0.32}|10\\rangle + \\sqrt{0.48}|11\\rangle$ can be written in the following vector form:\n",
    "\n",
    "$$\n",
    "\\begin{align*}\n",
    "    \\psi &= \\sqrt{0.08}|00\\rangle + \\sqrt{0.12}|01\\rangle + \\sqrt{0.32}|10\\rangle + \\sqrt{0.48}|11\\rangle \\\\\n",
    "    &=\n",
    "    \\sqrt{0.08}\\,\n",
    "    \\begin{bmatrix}\n",
    "        1 & 0 & 0 & 0\n",
    "    \\end{bmatrix}^T + \n",
    "    \\sqrt{0.12}\\,\n",
    "    \\begin{bmatrix}\n",
    "        0 & 1 & 0 & 0\n",
    "    \\end{bmatrix}^T + \n",
    "    \\sqrt{0.32}\\,\n",
    "    \\begin{bmatrix}\n",
    "        0 & 0 & 1 & 0\n",
    "    \\end{bmatrix}^T + \n",
    "    \\sqrt{0.48}\\,\n",
    "    \\begin{bmatrix}\n",
    "        0 & 0 & 0 & 1\n",
    "    \\end{bmatrix} \\\\\n",
    "    &= \n",
    "    \\begin{bmatrix}\n",
    "        0.08 & 0.12 & 0.32 & 0.48\n",
    "    \\end{bmatrix}^T\n",
    "\\end{align*}\n",
    "$$\n",
    "\n",
    "Earlier we've said that the square sum of all amplitudes should be $1$, this can be formally expressed in mathematical form (recall the definition of bra):\n",
    "\n",
    "$$\n",
    "    \\langle \\psi|\\psi\\rangle = |\\psi\\rangle(|\\psi\\rangle^T)^* = 1\n",
    "$$\n",
    "\n",
    "\n",
    "We will find vectors very helpful later when doing calculations."
   ]
  },
  {
   "cell_type": "markdown",
   "id": "f34194df",
   "metadata": {},
   "source": [
    "### Simulating Qubits [🔝](#table-of-contents) <a name=\"simulating-qubits\"></a>\n",
    "\n",
    "We will use data structures in python to simulate qubits. Let's first import some useful packages:"
   ]
  },
  {
   "cell_type": "code",
   "execution_count": 6,
   "id": "3a340d9b",
   "metadata": {},
   "outputs": [
    {
     "data": {
      "application/javascript": [
       "Jupyter.notebook.execute_cells([-1,-3,-5])"
      ],
      "text/plain": [
       "<IPython.core.display.Javascript object>"
      ]
     },
     "execution_count": 6,
     "metadata": {},
     "output_type": "execute_result"
    }
   ],
   "source": [
    "from datetime import datetime\n",
    "import math\n",
    "import matplotlib.pyplot as plt\n",
    "import numpy\n",
    "from numpy import pi, e, kron, sqrt, random\n",
    "from itertools import chain\n",
    "import os\n",
    "from qiskit import QuantumCircuit, QuantumRegister\n",
    "from qiskit.circuit import Gate, ControlledGate\n",
    "from scipy import sparse\n",
    "from IPython.display import display, Javascript\n",
    "Javascript(\"Jupyter.notebook.execute_cells([-1,-3,-5])\")"
   ]
  },
  {
   "cell_type": "markdown",
   "id": "094cdcac",
   "metadata": {},
   "source": [
    "A state can be expressed in the following form:"
   ]
  },
  {
   "cell_type": "code",
   "execution_count": 10,
   "id": "a3a5b460",
   "metadata": {},
   "outputs": [],
   "source": [
    "state = [\n",
    "    (numpy.sqrt(0.1), '00'),\n",
    "    (numpy.sqrt(0.4), '01'),\n",
    "    (numpy.sqrt(0.5), '11')\n",
    "]"
   ]
  },
  {
   "cell_type": "markdown",
   "id": "643430bd",
   "metadata": {},
   "source": [
    "The following function is used to print a state in the dirac notation, one in binary and one in decimal"
   ]
  },
  {
   "cell_type": "code",
   "execution_count": 11,
   "id": "f168019b",
   "metadata": {},
   "outputs": [],
   "source": [
    "def print_dirac_binary(state):\n",
    "    result = '('\n",
    "    for (p, bits) in state:\n",
    "        result += str(p) + ' |' + bits + '> + '\n",
    "    result = result[:-3] + ')'\n",
    "    print(result)\n",
    "\n",
    "def print_dirac_decimal(state):\n",
    "    result = '('\n",
    "    for (p, bits) in state:\n",
    "        result += str(p) + ' |' + binary_to_decimal(bits) + '> + '\n",
    "    result = result[:-3] + ')'\n",
    "    print(result)"
   ]
  },
  {
   "cell_type": "markdown",
   "id": "104d4296",
   "metadata": {},
   "source": [
    "Here's the effect:"
   ]
  },
  {
   "cell_type": "code",
   "execution_count": 12,
   "id": "74b80478",
   "metadata": {},
   "outputs": [
    {
     "name": "stdout",
     "output_type": "stream",
     "text": [
      "(0.31622776601683794 |00> + 0.6324555320336759 |01> + 0.7071067811865476 |11>)\n",
      "(0.31622776601683794 |0> + 0.6324555320336759 |1> + 0.7071067811865476 |3>)\n"
     ]
    }
   ],
   "source": [
    "print_dirac_binary(state)\n",
    "print_dirac_decimal(state)"
   ]
  },
  {
   "cell_type": "markdown",
   "id": "07929d6b",
   "metadata": {},
   "source": [
    "We may also want to convert between states and their vector forms:"
   ]
  },
  {
   "cell_type": "code",
   "execution_count": 13,
   "id": "fd722e7e",
   "metadata": {},
   "outputs": [],
   "source": [
    "def state_to_vector(state):\n",
    "    state.sort(key=lambda s: s[1])\n",
    "    limit = 2 ** len(state[0][1])\n",
    "    result = numpy.zeros(limit, dtype=numpy.complex64)\n",
    "    j = 0\n",
    "    for i in range(0, limit):\n",
    "        if j in range(0, len(state)):\n",
    "            (p, bits) = state[j]\n",
    "        if 'p' in locals() and i == int(bits, 2):\n",
    "            result[i] = p\n",
    "            j += 1\n",
    "        else:\n",
    "            result[i] = 0.0 + 0.0j\n",
    "    return result\n",
    "\n",
    "def vector_to_state(vec):\n",
    "    length = math.frexp(len(vec))[1] - 1  \n",
    "    return [(p, decimal_to_binary(i, length)) for i, p in enumerate(vec) if not math.isclose(p.real, 0) or not math.isclose(p.imag, 0)]"
   ]
  },
  {
   "cell_type": "markdown",
   "id": "dbc0105d",
   "metadata": {},
   "source": [
    "Let's see what we've got:"
   ]
  },
  {
   "cell_type": "code",
   "execution_count": 14,
   "id": "797810d6",
   "metadata": {},
   "outputs": [
    {
     "name": "stdout",
     "output_type": "stream",
     "text": [
      "[0.31622776+0.j 0.6324555 +0.j 0.        +0.j 0.70710677+0.j]\n",
      "((0.31622776+0j) |00> + (0.6324555+0j) |01> + (0.70710677+0j) |11>)\n"
     ]
    }
   ],
   "source": [
    "print(state_to_vector(state))\n",
    "print_dirac_binary(vector_to_state(state_to_vector(state)))"
   ]
  },
  {
   "cell_type": "markdown",
   "id": "84d15379",
   "metadata": {},
   "source": [
    "Finally, it could be helpful to write a function to check validity of states and vectors of quantum systems, i.e. whether the possiblilies of states sum up to 1:"
   ]
  },
  {
   "cell_type": "code",
   "execution_count": 15,
   "id": "19044964",
   "metadata": {},
   "outputs": [],
   "source": [
    "def check_state_validity(state):\n",
    "    s = 0\n",
    "    for (p, bits) in state:\n",
    "        s += p * p.conj()\n",
    "    return math.isclose(s.real, 1.0) and math.isclose(s.imag, 0.0)\n",
    "def check_vector_validity(vec):\n",
    "    s = 0\n",
    "    for p in vec:\n",
    "        s += p * p.conj()\n",
    "    return math.isclose(s.real, 1.0) and math.isclose(s.imag, 0.0)"
   ]
  },
  {
   "cell_type": "markdown",
   "id": "9ebcc5e6",
   "metadata": {},
   "source": [
    "## Quantum Gates [🔝](#table-of-contents) <a name=\"quantum-gates\"></a>\n",
    "\n",
    "Just like logic gates for classical system, there are **quantum gates** that modify the states of a quantum system. Let's introduce some of them:\n",
    "\n",
    "### Hadamard Gate [🔝](#table-of-contents) <a name=\"hadamard-gate\"></a>\n",
    "\n",
    "The Hadamard gate operates on a single qubit with the following mapping rule:\n",
    "\n",
    "$$\n",
    "    |0\\rangle \\mapsto \\frac{1}{\\sqrt{2}}|0\\rangle + \\frac{1}{\\sqrt{2}}|1\\rangle\n",
    "    \\qquad\n",
    "    |1\\rangle \\mapsto \\frac{1}{\\sqrt{2}}|0\\rangle - \\frac{1}{\\sqrt{2}}|1\\rangle\n",
    "$$\n",
    "\n",
    "It turns out that the two results above appear quite often in quantum computing. We can use $|+\\rangle$ and $|-\\rangle$ to denote them, in which case the Hadamard transformation is defined as:\n",
    "\n",
    "$$\n",
    "    |0\\rangle \\mapsto |+\\rangle\n",
    "    \\qquad\n",
    "    |1\\rangle \\mapsto |-\\rangle\n",
    "$$\n",
    "\n",
    "As usual, it can be represented by a matrix:\n",
    "\n",
    "$$\n",
    "    H = \\frac{1}{\\sqrt{2}}\n",
    "    \\begin{bmatrix}\n",
    "        1 & 1 \\\\ 1 & -1\n",
    "    \\end{bmatrix}\n",
    "$$\n",
    "\n",
    "For a 1-qubit state, we can apply $H$ to it to get the state after the Hadamard gate. Say $\\psi = \\sqrt{0.5}|0\\rangle + \\sqrt{0.5}|1\\rangle$, then:\n",
    "\n",
    "$$\n",
    "    H\\psi = \n",
    "    \\frac{1}{\\sqrt{2}}\n",
    "    \\begin{bmatrix}\n",
    "        1 & 1 \\\\ 1 & -1\n",
    "    \\end{bmatrix}\n",
    "    \\begin{bmatrix}\n",
    "        \\sqrt{0.5} \\\\ \\sqrt{0.5}\n",
    "    \\end{bmatrix}\n",
    "    = \n",
    "    \\begin{bmatrix}\n",
    "        1 \\\\ 0\n",
    "    \\end{bmatrix}\n",
    "    = |0\\rangle\n",
    "$$\n",
    "\n",
    "A Hadamard gate in quantum circuits are usually depicted as follows:"
   ]
  },
  {
   "cell_type": "code",
   "execution_count": 16,
   "id": "95e5965b",
   "metadata": {},
   "outputs": [
    {
     "data": {
      "image/png": "[encoded data removed]",
      "text/plain": [
       "<Figure size 133.526x84.28 with 1 Axes>"
      ]
     },
     "execution_count": 16,
     "metadata": {},
     "output_type": "execute_result"
    }
   ],
   "source": [
    "draw_hadamard_gate() # defined at the end of the notebook"
   ]
  },
  {
   "cell_type": "markdown",
   "id": "0ac7b6af",
   "metadata": {},
   "source": [
    "### Phase Shift Gate [🔝](#table-of-contents) <a name=\"phase-shift-gate\"></a>\n",
    "\n",
    "The phase shift gate has the following rule:\n",
    "\n",
    "$$\n",
    "    |0\\rangle \\mapsto |0\\rangle\n",
    "    \\qquad\n",
    "    |1\\rangle \\mapsto e^{i\\theta}|1\\rangle\n",
    "$$\n",
    "\n",
    "Here $\\theta$ is some given value. Note that the probability of either $|0\\rangle$ or $|1\\rangle$ doesn't change, since $|e^{i\\theta}|$ is always 1. It, however, modifies the phase of the quantum state.\n",
    "\n",
    "The matrix form is as follows:\n",
    "\n",
    "$$\n",
    "    P(\\theta) =\n",
    "    \\begin{bmatrix}\n",
    "        1 & 0 \\\\ 0 & e^{i\\theta}\n",
    "    \\end{bmatrix}\n",
    "$$\n",
    "\n",
    "The plot version of a phase shift gate is:"
   ]
  },
  {
   "cell_type": "code",
   "execution_count": 17,
   "id": "0d9d680c",
   "metadata": {},
   "outputs": [
    {
     "data": {
      "image/png": "[encoded data removed]",
      "text/plain": [
       "<Figure size 133.526x84.28 with 1 Axes>"
      ]
     },
     "execution_count": 17,
     "metadata": {},
     "output_type": "execute_result"
    }
   ],
   "source": [
    "draw_phase_gate(numpy.pi/2) # defined at the end of the notebook"
   ]
  },
  {
   "cell_type": "markdown",
   "id": "b76ab89c",
   "metadata": {},
   "source": [
    "### Controlled NOT Gate [🔝](#table-of-contents) <a name=\"controlled-not-gate\"></a>\n",
    "\n",
    "The CNOT gate is a controlled gate that takes two qubits and performs NOT operation on the second qubit (**target**) if the first qubit (**control**) is 1:\n",
    "\n",
    "$$\n",
    "    |00\\rangle \\mapsto |00\\rangle\n",
    "    \\qquad\n",
    "    |01\\rangle \\mapsto |01\\rangle\n",
    "    \\qquad\n",
    "    |10\\rangle \\mapsto |11\\rangle\n",
    "    \\qquad\n",
    "    |11\\rangle \\mapsto |10\\rangle\n",
    "$$\n",
    "\n",
    "If we carefully look into this tranformation, the output qubit (the second qubit on the right side) is actually the XOR of the input qubit and the control qubit. The difference is that we preserve one of the inputs, namely the control qubit. Thus, it's always possible to reverse the process using that control qubit.\n",
    "\n",
    "The matrix form of the CNOT gate is:\n",
    "\n",
    "$$\n",
    "    \\text{CNOT} =\n",
    "    \\begin{bmatrix}\n",
    "        1 & 0 & 0 & 0 \\\\\n",
    "        0 & 1 & 0 & 0 \\\\\n",
    "        0 & 0 & 0 & 1 \\\\\n",
    "        0 & 0 & 1 & 0\n",
    "    \\end{bmatrix}\n",
    "$$\n",
    "\n",
    "The CNOT gate is depicted as follows:"
   ]
  },
  {
   "cell_type": "code",
   "execution_count": 18,
   "id": "042a3c33",
   "metadata": {},
   "outputs": [
    {
     "data": {
      "image/png": "[encoded data removed]",
      "text/plain": [
       "<Figure size 146.652x144.48 with 1 Axes>"
      ]
     },
     "execution_count": 18,
     "metadata": {},
     "output_type": "execute_result"
    }
   ],
   "source": [
    "draw_cnot_gate() # defined at the end of the notebook"
   ]
  },
  {
   "cell_type": "markdown",
   "id": "f2c04b78",
   "metadata": {},
   "source": [
    "If we flip the control and target, the CNOT matrix (I will call it \"TONC\" in this notebook; but note that it's an informal name) would be:\n",
    "\n",
    "$$\n",
    "    \\text{TONC} =\n",
    "    \\begin{bmatrix}\n",
    "        1 & 0 & 0 & 0 \\\\\n",
    "        0 & 0 & 0 & 1 \\\\\n",
    "        0 & 0 & 1 & 0 \\\\\n",
    "        0 & 1 & 0 & 0\n",
    "    \\end{bmatrix}\n",
    "$$\n",
    "\n",
    "which can be drawn like:"
   ]
  },
  {
   "cell_type": "code",
   "execution_count": 19,
   "id": "13e11a28",
   "metadata": {
    "scrolled": true
   },
   "outputs": [
    {
     "data": {
      "image/png": "[encoded data removed]",
      "text/plain": [
       "<Figure size 146.652x144.48 with 1 Axes>"
      ]
     },
     "execution_count": 19,
     "metadata": {},
     "output_type": "execute_result"
    }
   ],
   "source": [
    "draw_tonc_gate() # defined at the end of the notebook"
   ]
  },
  {
   "cell_type": "markdown",
   "id": "c44f7520",
   "metadata": {},
   "source": [
    "It might be beyond the coverage of this notebook, but we can actually construct the \"flipped\" CNOT gate from the Hadamard and the CNOT gate<sup>[\\[1\\]][1]</sup>:\n",
    "\n",
    "[1]: <https://quantumcomputing.stackexchange.com/questions/5179/how-to-construct-matrix-of-regular-and-flipped-2-qubit-cnot> \"Source\"\n",
    "\n",
    "$$\n",
    "    \\text{TONC} = (H \\otimes H)\\ \\text{CNOT}\\ (H \\otimes H)\n",
    "$$"
   ]
  },
  {
   "cell_type": "markdown",
   "id": "889b1de0",
   "metadata": {},
   "source": [
    "The three gates introduced above will be our **universal gate set**, like the NAND and NOR gates among the classical gates. In other words, we can use these three gates to perform anything in quantum computing. All the gates we will learn later can be constructed from the universal gates.\n",
    "\n",
    "Here's a typical quantum circuit consisting of Hadamard, phase shift, and CNOT gates:"
   ]
  },
  {
   "cell_type": "code",
   "execution_count": 20,
   "id": "20590b3c",
   "metadata": {},
   "outputs": [
    {
     "data": {
      "image/png": "[encoded data removed]",
      "text/plain": [
       "<Figure size 387.597x204.68 with 1 Axes>"
      ]
     },
     "execution_count": 20,
     "metadata": {},
     "output_type": "execute_result"
    }
   ],
   "source": [
    "draw_qcircuit_example() # defined at the end of the notebook"
   ]
  },
  {
   "cell_type": "markdown",
   "id": "2d62bee9",
   "metadata": {},
   "source": [
    "We can simulate these gates and quantum circuits by defining variables and functions:"
   ]
  },
  {
   "cell_type": "code",
   "execution_count": 21,
   "id": "95229222",
   "metadata": {},
   "outputs": [],
   "source": [
    "H = numpy.array([[1, 1], [1, -1]]) / numpy.sqrt(2)\n",
    "def P(theta):\n",
    "    return numpy.array([[1, 0], [0, numpy.exp(1j * theta)]])\n",
    "CNOT = numpy.array([[1, 0, 0, 0], [0, 1, 0, 0], [0, 0, 0, 1], [0, 0, 1, 0]])\n",
    "TONC = numpy.array([[1, 0, 0, 0], [0, 0, 0, 1], [0, 0, 1, 0], [0, 1, 0, 0]])"
   ]
  },
  {
   "cell_type": "markdown",
   "id": "c86f0d9c",
   "metadata": {},
   "source": [
    "Let's first try trivial cases to show that these matrices work:"
   ]
  },
  {
   "cell_type": "code",
   "execution_count": 22,
   "id": "9da05231",
   "metadata": {},
   "outputs": [
    {
     "name": "stdout",
     "output_type": "stream",
     "text": [
      "[ 0.89442721+0.j -0.44721361+0.j]\n",
      "[ 0.31622776+0.00000000e+00j -0.94868332+1.16180199e-16j]\n",
      "[0.31622776+0.j 0.44721359+0.j 0.63245553+0.j 0.54772258+0.j]\n"
     ]
    }
   ],
   "source": [
    "state = state_to_vector([(numpy.sqrt(0.1), '0'), (numpy.sqrt(0.9), '1')])\n",
    "controlled_state = state_to_vector([(numpy.sqrt(0.1), '00'), (numpy.sqrt(0.2), '01'), (numpy.sqrt(0.3), '10'), (numpy.sqrt(0.4), '11')])\n",
    "print(H @ state)\n",
    "print(P(numpy.pi) @ state)\n",
    "print(CNOT @ controlled_state)"
   ]
  },
  {
   "cell_type": "markdown",
   "id": "695c97b0",
   "metadata": {},
   "source": [
    "We can also check our formula for $\\text{TONC}$ actually works:"
   ]
  },
  {
   "cell_type": "code",
   "execution_count": 23,
   "id": "a6c32bf9",
   "metadata": {},
   "outputs": [
    {
     "data": {
      "text/plain": [
       "array([[ True,  True,  True,  True],\n",
       "       [ True,  True,  True,  True],\n",
       "       [ True,  True,  True,  True],\n",
       "       [ True,  True,  True,  True]])"
      ]
     },
     "execution_count": 23,
     "metadata": {},
     "output_type": "execute_result"
    }
   ],
   "source": [
    "# I need to use `approximate` helper function to get rid of numerical errors.\n",
    "TONC == approximate(kron(H, H) @ CNOT @ kron(H, H))"
   ]
  },
  {
   "cell_type": "markdown",
   "id": "2618d838",
   "metadata": {},
   "source": [
    "### Adapt Matrices to Multi-Qubit Circuits [🔝](#table-of-contents) <a name=\"multi-quibit-circuits\"></a>\n",
    "\n",
    "In real quantum circuits, there are always more than one qubits, yet each quantum gate only affect one to several qubits. Therefore, we need to adjust our matrices so that for arbitrary count of qubits we can map them to the correct result."
   ]
  },
  {
   "cell_type": "markdown",
   "id": "36b73e71",
   "metadata": {},
   "source": [
    "#### Hadamard Gate [🔝](#table-of-contents) <a name=\"multi-qubit-hadamard-gate\"></a>\n",
    "\n",
    "For example, let $\\Psi = \\sqrt{0.1}|00\\rangle + \\sqrt{0.2}|01\\rangle + \\sqrt{0.3}|10\\rangle + \\sqrt{0.4}|11\\rangle$. the Hadamard gate on the second qubit will trasform $\\Psi$ into:\n",
    "\n",
    "$$\n",
    "    H(2, 2)\\Psi = \\sqrt{0.1}|00\\rangle + \\sqrt{0.2}|01\\rangle + \\frac{\\sqrt{0.3} + \\sqrt{0.4}}{\\sqrt{2}}|10\\rangle + \\frac{\\sqrt{0.3} - \\sqrt{0.4}}{\\sqrt{2}}|11\\rangle\n",
    "$$\n",
    "\n",
    "Here $H(i, k)$ stands for an extended Hadamard matrix taht has $k$ qubits in total, but only the $i$-th will be affected. To construct this matrix, we need to find patterns in $H(i, k)$. Let's start with some examples:\n",
    "\n",
    "$$\n",
    "    H(1, 2) = \n",
    "    \\begin{bmatrix}\n",
    "        \\frac{1}{\\sqrt{2}} & 0 & \\frac{1}{\\sqrt{2}} & 0 \\\\\n",
    "        0 & \\frac{1}{\\sqrt{2}} & 0 & \\frac{1}{\\sqrt{2}} \\\\\n",
    "        \\frac{1}{\\sqrt{2}} & 0 & -\\frac{1}{\\sqrt{2}} & 0 \\\\\n",
    "        0 & \\frac{1}{\\sqrt{2}} & 0 & -\\frac{1}{\\sqrt{2}}\n",
    "    \\end{bmatrix}\n",
    "    \\qquad\n",
    "    H(2, 2) = \n",
    "    \\begin{bmatrix}\n",
    "        \\frac{1}{\\sqrt{2}} & \\frac{1}{\\sqrt{2}} & 0 & 0 \\\\\n",
    "        \\frac{1}{\\sqrt{2}} & -\\frac{1}{\\sqrt{2}} & 0 & 0 \\\\\n",
    "        0 & 0 & \\frac{1}{\\sqrt{2}} & \\frac{1}{\\sqrt{2}} \\\\\n",
    "        0 & 0 & \\frac{1}{\\sqrt{2}} & -\\frac{1}{\\sqrt{2}} \\\\\n",
    "    \\end{bmatrix} \\\\\n",
    "    H(1, 3) = \n",
    "    \\begin{bmatrix}\n",
    "        \\frac{1}{\\sqrt{2}} & 0 & 0 & 0 & \\frac{1}{\\sqrt{2}} & 0 & 0 & 0 \\\\\n",
    "        0 & \\frac{1}{\\sqrt{2}} & 0 & 0 & 0 & \\frac{1}{\\sqrt{2}} & 0 & 0 \\\\\n",
    "        0 & 0 & \\frac{1}{\\sqrt{2}} & 0 & 0 & 0 & \\frac{1}{\\sqrt{2}} & 0 \\\\\n",
    "        0 & 0 & 0 & \\frac{1}{\\sqrt{2}} & 0 & 0 & 0 & \\frac{1}{\\sqrt{2}} \\\\\n",
    "        \\frac{1}{\\sqrt{2}} & 0 & 0 & 0 & -\\frac{1}{\\sqrt{2}} & 0 & 0 & 0 \\\\\n",
    "        0 & \\frac{1}{\\sqrt{2}} & 0 & 0 & 0 & -\\frac{1}{\\sqrt{2}} & 0 & 0 \\\\\n",
    "        0 & 0 & \\frac{1}{\\sqrt{2}} & 0 & 0 & 0 & -\\frac{1}{\\sqrt{2}} & 0 \\\\\n",
    "        0 & 0 & 0 & \\frac{1}{\\sqrt{2}} & 0 & 0 & 0 & -\\frac{1}{\\sqrt{2}} \\\\\n",
    "    \\end{bmatrix}\n",
    "    \\qquad\n",
    "    H(2, 3) = \n",
    "    \\begin{bmatrix}\n",
    "        \\frac{1}{\\sqrt{2}} & 0 & \\frac{1}{\\sqrt{2}} & 0 & 0 & 0 & 0 & 0 \\\\\n",
    "        0 & \\frac{1}{\\sqrt{2}} & 0 & \\frac{1}{\\sqrt{2}} & 0 & 0 & 0 & 0 \\\\\n",
    "        \\frac{1}{\\sqrt{2}} & 0 & -\\frac{1}{\\sqrt{2}} & 0 & 0 & 0 & 0 & 0 \\\\\n",
    "        0 & \\frac{1}{\\sqrt{2}} & 0 & -\\frac{1}{\\sqrt{2}} & 0 & 0 & 0 & 0 \\\\\n",
    "        0 & 0 & 0 & 0 & \\frac{1}{\\sqrt{2}} & 0 & \\frac{1}{\\sqrt{2}} & 0 \\\\\n",
    "        0 & 0 & 0 & 0 & 0 & \\frac{1}{\\sqrt{2}} & 0 & \\frac{1}{\\sqrt{2}} \\\\\n",
    "        0 & 0 & 0 & 0 & \\frac{1}{\\sqrt{2}} & 0 & -\\frac{1}{\\sqrt{2}} & 0 \\\\\n",
    "        0 & 0 & 0 & 0 & 0 & \\frac{1}{\\sqrt{2}} & 0 & -\\frac{1}{\\sqrt{2}} \\\\\n",
    "    \\end{bmatrix} \\\\\n",
    "    H(3, 3) = \n",
    "    \\begin{bmatrix}\n",
    "        \\frac{1}{\\sqrt{2}} & \\frac{1}{\\sqrt{2}} & 0 & 0 & 0 & 0 & 0 & 0 \\\\\n",
    "        \\frac{1}{\\sqrt{2}} & -\\frac{1}{\\sqrt{2}} & 0 & 0 & 0 & 0 & 0 & 0 \\\\\n",
    "        0 & 0 & \\frac{1}{\\sqrt{2}} & \\frac{1}{\\sqrt{2}} & 0 & 0 & 0 & 0 \\\\\n",
    "        0 & 0 & \\frac{1}{\\sqrt{2}} & -\\frac{1}{\\sqrt{2}} & 0 & 0 & 0 & 0 \\\\\n",
    "        0 & 0 & 0 & 0 & \\frac{1}{\\sqrt{2}} & \\frac{1}{\\sqrt{2}} & 0 & 0 \\\\\n",
    "        0 & 0 & 0 & 0 & \\frac{1}{\\sqrt{2}} & -\\frac{1}{\\sqrt{2}} & 0 & 0 \\\\\n",
    "        0 & 0 & 0 & 0 & 0 & 0 & \\frac{1}{\\sqrt{2}} & \\frac{1}{\\sqrt{2}} \\\\\n",
    "        0 & 0 & 0 & 0 & 0 & 0 & \\frac{1}{\\sqrt{2}} & -\\frac{1}{\\sqrt{2}} \\\\\n",
    "    \\end{bmatrix}\n",
    "$$\n",
    "\n",
    "If you are aware, $H(1, 2)$ resembles $H(1, 1)$, $H(2, 2)$ resembles $H(1, 1)$, $H(1, 3)$ resembles $H(1, 2)$, and $H(2, 3)$ resembles $H(1, 2)$. To explore these similarities, let's introduce the **Kronecker product** between two matrices. Suppose $A$, $B$ are square matrices of mxm and nxn, then:\n",
    "\n",
    "$$\n",
    "    A \\otimes B =\n",
    "    \\begin{bmatrix}\n",
    "        a_{11} & \\dots & a_{1m} \\\\\n",
    "        \\vdots & \\ddots & \\vdots \\\\\n",
    "        a_{m1} & \\dots & a_{mm}\n",
    "    \\end{bmatrix}\n",
    "    \\otimes\n",
    "    \\begin{bmatrix}\n",
    "        b_{11} & \\dots & b_{1n} \\\\\n",
    "        \\vdots & \\ddots & \\vdots \\\\\n",
    "        b_{n1} & \\dots & b_{nn}\n",
    "    \\end{bmatrix}\n",
    "    =\n",
    "    \\begin{bmatrix}\n",
    "        \\begin{matrix}\n",
    "            a_{11}b_{11} & \\dots & a_{11}b_{1n} \\\\\n",
    "            \\vdots & \\ddots & \\vdots \\\\\n",
    "            a_{11}b_{n1} & \\dots & a_{11}b_{nn}\n",
    "        \\end{matrix}\n",
    "        & \\dots &\n",
    "        \\begin{matrix}\n",
    "            a_{1m}b_{11} & \\dots & a_{1m}b_{1n} \\\\\n",
    "            \\vdots & \\ddots & \\vdots \\\\\n",
    "            a_{1m}b_{n1} & \\dots & a_{1m}b_{nn}\n",
    "        \\end{matrix} \\\\\n",
    "        \\vdots & \\ddots & \\vdots \\\\\n",
    "        \\begin{matrix}\n",
    "            a_{m1}b_{11} & \\dots & a_{m1}b_{1n} \\\\\n",
    "            \\vdots & \\ddots & \\vdots \\\\\n",
    "            a_{m1}b_{m1} & \\dots & a_{m1}b_{mm}\n",
    "        \\end{matrix}\n",
    "        & \\dots &\n",
    "        \\begin{matrix}\n",
    "            a_{mm}b_{11} & \\dots & a_{mm}b_{1n} \\\\\n",
    "            \\vdots & \\ddots & \\vdots \\\\\n",
    "            a_{mm}b_{m1} & \\dots & a_{mm}b_{mm}\n",
    "        \\end{matrix}\n",
    "    \\end{bmatrix}\n",
    "$$\n",
    "\n",
    "It's almost identical to the tensor product (and even shares the operator), but it restricts the operands to be in a space of matrices. Now look at the examples we gave before, it's not hard to come up with:\n",
    "\n",
    "$$\n",
    "    H(1, 2) = H \\otimes I \\qquad H(2, 2) = I \\otimes H \\\\\n",
    "    H(1, 3) = H \\otimes I \\otimes I  \\qquad H(2, 3) = I \\otimes H \\otimes I \\qquad H(3, 3) = I \\otimes I \\otimes H\n",
    "$$\n",
    "\n",
    "The pattern is obvious. Let me write down the general form (the product notation used below is *not* conventional, the multiplicative operator should be $\\otimes$ instead of $\\times$):\n",
    "\n",
    "$$\n",
    "    H(i, k) = \\left(\\prod_1^{i-1} I\\right)\\otimes H \\otimes \\left(\\prod_{i+1}^k I\\right)\n",
    "$$\n",
    "\n"
   ]
  },
  {
   "cell_type": "markdown",
   "id": "20c1c11c",
   "metadata": {},
   "source": [
    "#### Phase Shift Gate [🔝](#table-of-contents) <a name=\"multi-qubit-phase-shift-gate\"></a>\n",
    "\n",
    "With the conclusion of extended Hadamard matrix, we can easily get the extended version of phase shift matrix. $P(\\theta, i, k)$, where $i$ , $k$ represent for transformed qubit and the total count of qubits, can be calculated as follows:\n",
    "\n",
    "$$\n",
    "    P(\\theta, i, k) = \\left(\\prod_1^{i-1} I\\right)\\otimes P(\\theta) \\otimes \\left(\\prod_{i+1}^k I\\right)\n",
    "$$"
   ]
  },
  {
   "cell_type": "markdown",
   "id": "8d2c5057",
   "metadata": {},
   "source": [
    "#### CNOT Gate [🔝](#table-of-contents) <a name=\"multi-qubit-controlled-not-gate\"></a>\n",
    "\n",
    "The big challenge comes from the CNOT gate. So far, we *cannot* give a general matrix of the form $CNOT(c, i, k)$, where $c$ is for the control qubit, $i$ for the transformed qubit, and $k$ for the total count of qubits. This will be resolved later in another way to simulate quantum circuits (and we will learn how to contruct its matrix form even later), but for now we will just use $CNOT(i, k)$, where $i$ is the control qubit, and $i + 1$ is the transformed qubit (or conversely)."
   ]
  },
  {
   "cell_type": "markdown",
   "id": "de8c02cc",
   "metadata": {},
   "source": [
    "The following are functions to generate extended matrices for the three quantum gates we discussed before:"
   ]
  },
  {
   "cell_type": "code",
   "execution_count": 24,
   "id": "eb8dbe67",
   "metadata": {},
   "outputs": [],
   "source": [
    "# Note that all following indices are 1-indexed.\n",
    "def hadamard_matrix(i, k):\n",
    "    if k >= 14:\n",
    "        print(\"The input is too large, expect to wait exponential time.\")\n",
    "    return kronecker_product(H, i, k)\n",
    "\n",
    "def phase_matrix(theta, i, k):\n",
    "    if k >= 14:\n",
    "        print(\"The input is too large, expect to wait exponential time.\")\n",
    "    return kronecker_product(P(theta), i, k)\n",
    "\n",
    "def cnot_matrix(ctrl, i, k):\n",
    "    if ctrl + 1 == i:\n",
    "        return kronecker_product(CNOT, ctrl, k-1)\n",
    "    elif ctrl - 1 == i:\n",
    "        return kronecker_product(TONC, i, k-1)\n",
    "    else:\n",
    "        print(\"We cannot do long-range CNOT so far.\")\n",
    "        return numpy.identity(2 ** k)"
   ]
  },
  {
   "cell_type": "markdown",
   "id": "f1467a62",
   "metadata": {},
   "source": [
    "Now that any gates of any-qubit system can be represented by matrices, we can move on and try to construct a quantum simulator."
   ]
  },
  {
   "cell_type": "markdown",
   "id": "3b2e7daf",
   "metadata": {},
   "source": [
    "## Quantum Simulators [🔝](#table-of-contents) <a name=\"quantum-simulators\"></a>\n"
   ]
  },
  {
   "cell_type": "markdown",
   "id": "6a7fce8c",
   "metadata": {},
   "source": [
    "### Quantum Circuits [🔝](#table-of-contents) <a name=\"quantum-circuits\"></a>\n",
    "\n",
    "Let's first look at an example of quantum circuit:"
   ]
  },
  {
   "cell_type": "code",
   "execution_count": 25,
   "id": "f846c5a5",
   "metadata": {},
   "outputs": [
    {
     "data": {
      "image/png": "[encoded data removed]",
      "text/plain": [
       "<Figure size 387.597x204.68 with 1 Axes>"
      ]
     },
     "execution_count": 25,
     "metadata": {},
     "output_type": "execute_result"
    }
   ],
   "source": [
    "draw_qcircuit_example()"
   ]
  },
  {
   "cell_type": "markdown",
   "id": "3316807e",
   "metadata": {},
   "source": [
    "It is equivalent to the following sequence of commands:\n",
    "\n",
    "```python\n",
    "QC 3\n",
    "INITSTATE BASIS |100>\n",
    "H 1\n",
    "H 2\n",
    "P pi/6 2\n",
    "CNOT 2 1\n",
    "H 1\n",
    "H 2\n",
    "CNOT 2 0\n",
    "```\n",
    "\n",
    "The first line gives the count of qubits in the circuit, the second line gives the initial state (if not given, the default input state will be $|0...0\\rangle$, and each of the following lines is a gate. The gates are already topologically sorted, so we don't need to worry about the ordering problems. Now, given a text file like the above, we will simulate the qunatum circuit and give random results based on the probabililty of each possible states at the end of the circuit.\n",
    "\n",
    "We will first need a parser to extract the commands and arguments from a circuit text file:"
   ]
  },
  {
   "cell_type": "code",
   "execution_count": 26,
   "id": "8be4ef94",
   "metadata": {},
   "outputs": [],
   "source": [
    "def read_circuit_file(file_name):\n",
    "    lines = open(file_name).readlines()\n",
    "    result = []\n",
    "    wire_ct = int(lines[0].split()[1])\n",
    "    for line in lines[1:]:\n",
    "        result.append(line.split())\n",
    "    return (wire_ct, result)\n",
    "\n",
    "def write_circuit_text(w, circ):\n",
    "    result = ''\n",
    "    result += str(w) + '\\n'\n",
    "    for gate in circ:\n",
    "        for elem in gate:\n",
    "            result += str(elem) + ' '\n",
    "        result += '\\n'\n",
    "    return result"
   ]
  },
  {
   "cell_type": "markdown",
   "id": "888a144d",
   "metadata": {},
   "source": [
    "Here are parsed data from two prepared examples:"
   ]
  },
  {
   "cell_type": "code",
   "execution_count": 27,
   "id": "e31de89f",
   "metadata": {},
   "outputs": [
    {
     "name": "stdout",
     "output_type": "stream",
     "text": [
      "(3, [['INITSTATE', 'BASIS', '|000>'], ['H', '1'], ['CNOT', '1', '2'], ['P', '0', '0.45']])\n",
      "(3, [['H', '1'], ['H', '2'], ['P', 'pi/6', '2'], ['CNOT', '2', '1'], ['H', '1'], ['H', '2'], ['CNOT', '2', '0']])\n"
     ]
    }
   ],
   "source": [
    "circ_1 = read_circuit_file('data/1.circuit')\n",
    "print(circ_1)\n",
    "circ_2 = read_circuit_file('data/2.circuit')\n",
    "print(circ_2)"
   ]
  },
  {
   "cell_type": "markdown",
   "id": "96bfeaa9",
   "metadata": {},
   "source": [
    "Also, for a final vector of probabilities of states, we would like to define a random number generator to give a result:"
   ]
  },
  {
   "cell_type": "code",
   "execution_count": 34,
   "id": "2a7c868e",
   "metadata": {},
   "outputs": [],
   "source": [
    "def measure(state_vec):\n",
    "    bits = []\n",
    "    width = int(math.log(len(state_vec), 2.0))\n",
    "    for i in range(0, len(state_vec)):\n",
    "        bits.append(decimal_to_binary(i, width))\n",
    "    p_vec = (state_vec * state_vec.conj()).view(numpy.float64)[::2]\n",
    "    while True:\n",
    "        yield numpy.random.choice(bits, 1, p=p_vec)[0]"
   ]
  },
  {
   "cell_type": "markdown",
   "id": "6b4ee692",
   "metadata": {},
   "source": [
    "When we get a list of measurements, we can draw a histogram to show the probability distribution:"
   ]
  },
  {
   "cell_type": "code",
   "execution_count": 35,
   "id": "77c51253",
   "metadata": {},
   "outputs": [],
   "source": [
    "def draw_histogram(mlist):\n",
    "    mlist = [int(binary_to_decimal(x)) for x in mlist]\n",
    "    if all(m == 0 for m in mlist):\n",
    "        plt.hist([0], width=0.2)\n",
    "    else:\n",
    "        plt.hist(mlist, weights=numpy.ones_like(mlist)/numpy.sum(mlist), width=1)\n",
    "    return plt.show()"
   ]
  },
  {
   "cell_type": "markdown",
   "id": "d7cc97fe",
   "metadata": {},
   "source": [
    "### Unitary Matrix [🔝](#table-of-contents) <a name=\"unitary-matrix\"></a>\n",
    "\n",
    "Since each command is essentially a linear transformation, we can represent the whole quantum circuit by a complex matrix $U$, which is the product of all matrices. We call it an **unitary matrix** because it has the following property:\n",
    "\n",
    "$$\n",
    "    UU^\\dagger = U^\\dagger U = I\n",
    "$$\n",
    "\n",
    "where $U$ is a square matrix and $U^\\dagger$ is its conjugate transpose, i.e. $U^\\dagger = (U^*)^T$. For example, for a 2x2 matrix $U \\in GL(\\mathbb{C})$:\n",
    "\n",
    "$$\n",
    "    U = \n",
    "    \\begin{bmatrix}\n",
    "        a & b \\\\ c & d\n",
    "    \\end{bmatrix}\n",
    "$$\n",
    "\n",
    "It's conjugate transpose is:\n",
    "\n",
    "$$\n",
    "    U^\\dagger = \n",
    "    \\begin{bmatrix}\n",
    "        a^* & c^* \\\\ b^* & d^*\n",
    "    \\end{bmatrix}\n",
    "$$\n",
    "\n",
    "It's not hard to confirm that all three matrices we had ($H$, $P(\\theta)$, and $CNOT$) are unitary, then it's plain that their products are also unitary, since for any unitary matrix $U_1, U_2$, we have:\n",
    "\n",
    "$$\n",
    "    \\begin{align*}\n",
    "        (U_1U_2)(U_1U_2)^\\dagger &= (U_1U_2)(U_2^\\dagger U_1^\\dagger) \\\\\n",
    "        &= U_1(U_2U_2^\\dagger)U_1^\\dagger \\\\\n",
    "        &= U_1IU_1^\\dagger \\\\\n",
    "        &= U_1U_1^\\dagger = I\n",
    "    \\end{align*}\n",
    "$$\n",
    "\n",
    "We'll use the properties of unitary matrices later in this notebook. \n",
    "\n",
    "Here're some functions to get the unitary matrix of a quantum circuit. We call it a **quantum simulator** since it integrate quantum gates (by composing them into an unitary matrix) and it can operate on some initial state and return the final state:"
   ]
  },
  {
   "cell_type": "code",
   "execution_count": 80,
   "id": "517feffe",
   "metadata": {},
   "outputs": [],
   "source": [
    "def init_from_file(file_name):\n",
    "    lines = open(file_name).readlines()\n",
    "    state = []\n",
    "    for line in lines:\n",
    "        [real, imag] = line.split()\n",
    "        state.append(float(real) + float(imag) * 1j) \n",
    "    return state\n",
    "\n",
    "def init_from_basis(b, limit):\n",
    "    try:\n",
    "        basis = int(b)\n",
    "    except:\n",
    "        basis = int(binary_to_decimal(b[1:-1]))\n",
    "    return [0 for i in range(0, basis)] + [1] + [0 for i in range(basis + 1, limit)] \n",
    "\n",
    "def quantum_simulator_1(circ):\n",
    "    (w, gates) = circ\n",
    "    limit = 2 ** w\n",
    "    result = numpy.identity(limit)\n",
    "    state = [1] + [0 for i in range(0, limit - 1)]\n",
    "    m = False\n",
    "    \n",
    "    for g in gates[::-1]:\n",
    "        if g[0] == 'H':\n",
    "            i = int(g[1])\n",
    "            result = hadamard_matrix(i+1, w) @ result\n",
    "            \n",
    "        elif g[0] == 'P':\n",
    "            theta = eval(str(g[2]))     # eval() is to allow inputs like pi/3\n",
    "            i = int(g[1])\n",
    "            result = phase_matrix(theta, i+1, w) @ result\n",
    "            \n",
    "        elif g[0] == 'CNOT':\n",
    "            ctrl = int(g[1])\n",
    "            i = int(g[2])\n",
    "            result = phase_matrix(ctrl, i+1, w) @ result\n",
    "            \n",
    "        elif g[0] == 'INITSTATE':\n",
    "            if g[1] == 'FILE':\n",
    "                state = init_from_file(g[2])\n",
    "            elif g[1] == 'BASIS':\n",
    "                state = init_from_basis(g[2], limit)\n",
    "                \n",
    "        elif g[0] == 'MEASURE':\n",
    "            m = True\n",
    "    state = result @ state\n",
    "    \n",
    "    # measure it now\n",
    "    if m:\n",
    "        for i, p in enumerate(state):\n",
    "            print(decimal_to_binary(i, w) + ' : ' + str(p * p.conj()), end='; ')\n",
    "            if i % 4 == 0:\n",
    "                print()\n",
    "    return state"
   ]
  },
  {
   "cell_type": "markdown",
   "id": "e7ee0c27",
   "metadata": {},
   "source": [
    "Here's an example of constructing the quantum circuit, and generate results from the final vector:"
   ]
  },
  {
   "cell_type": "code",
   "execution_count": 37,
   "id": "3be1cdb3",
   "metadata": {},
   "outputs": [
    {
     "data": {
      "image/png": "[encoded data removed]",
      "text/plain": [
       "<Figure size 432x288 with 1 Axes>"
      ]
     },
     "metadata": {
      "needs_background": "light"
     },
     "output_type": "display_data"
    }
   ],
   "source": [
    "circ = read_circuit_file('./data/input.circuit')\n",
    "qs = quantum_simulator_1(circ)\n",
    "mgen = measure(qs)\n",
    "mlist = []\n",
    "for i in range(0, 100000):\n",
    "    mlist.append(next(mgen))\n",
    "draw_histogram(mlist)"
   ]
  },
  {
   "cell_type": "markdown",
   "id": "8ca01c2d",
   "metadata": {},
   "source": [
    "Great! We've made a quantum simulator! But how efficient is it? For a $w$-qubit system, let $N = 2^w$ be the scale of our data. Then, we need a $O(N^2)$ space for the matrices we use throughout the algorithm. Also, suppose there are $g$ gates, each represented by a $O(N^2)$-sized matrix, then a single matrix multiplication will take $O(N^3)$ time. In total, the time complexity is $O(gN^3)$, which is a considerable amount if we plug $w$ in, resulting in a $O(g8^w)$ runtime.\n",
    "\n",
    "The program will lag severely when our circuit grows. We need a better algorithm."
   ]
  },
  {
   "cell_type": "code",
   "execution_count": 38,
   "id": "dc7e65f5",
   "metadata": {},
   "outputs": [
    {
     "data": {
      "image/png": "[encoded data removed]",
      "text/plain": [
       "<Figure size 432x288 with 1 Axes>"
      ]
     },
     "metadata": {
      "needs_background": "light"
     },
     "output_type": "display_data"
    }
   ],
   "source": [
    "circ = read_circuit_file('./data/rand.circuit')\n",
    "qs = quantum_simulator_1(circ)\n",
    "mgen = measure(qs)\n",
    "mlist = []\n",
    "for i in range(0, 100000):\n",
    "    mlist.append(next(mgen))\n",
    "draw_histogram(mlist)"
   ]
  },
  {
   "cell_type": "markdown",
   "id": "93b34ab8",
   "metadata": {},
   "source": [
    "### State-to-State Transformation [🔝](#table-of-contents) <a name=\"state-to-state-transformation\">\n",
    "\n",
    "A quick improvement is to keep a state vector, and do multiplication on gate matrices and the vector instead of on the gate matrices themselves, this will likely improve the time complexity, since a $O(N^2)$-scale matrix and a $O(N)$-scale vector takes $O(N^2)$ to do multiplication, and thus it will be $O(gN^2)$, or $O(g4^w)$ in total. The implementation is as follows:"
   ]
  },
  {
   "cell_type": "code",
   "execution_count": 81,
   "id": "af0ef89f",
   "metadata": {},
   "outputs": [],
   "source": [
    "def quantum_simulator_2(circ):\n",
    "    (w, gates) = circ\n",
    "    limit = 2 ** w\n",
    "    state = [1] + [0 for i in range(0, limit - 1)]\n",
    "    m = False\n",
    "    \n",
    "    for g in gates:\n",
    "        if g[0] == 'INITSTATE':\n",
    "            if g[1] == 'FILE':\n",
    "                state = init_from_file(g[2])\n",
    "            elif g[1] == 'BASIS':\n",
    "                state = init_from_basis(g[2], limit)\n",
    "    for g in gates[::-1]:\n",
    "        if g[0] == 'H':\n",
    "            i = int(g[1])\n",
    "            state = hadamard_matrix(i+1, w) @ state\n",
    "            \n",
    "        elif g[0] == 'P':\n",
    "            theta = eval(str(g[2]))     # eval() is to allow inputs like pi/3\n",
    "            i = int(g[1])\n",
    "            state = phase_matrix(theta, i+1, w) @ state\n",
    "            \n",
    "        elif g[0] == 'CNOT':\n",
    "            ctrl = int(g[1])\n",
    "            i = int(g[2])\n",
    "            state = phase_matrix(ctrl, i+1, w) @ state\n",
    "            \n",
    "        elif g[0] == 'MEASURE':\n",
    "            m = True\n",
    "            \n",
    "    # measure it now\n",
    "    if m:\n",
    "        for i, p in enumerate(state):\n",
    "            print(decimal_to_binary(i, w) + ' : ' + str(p * p.conj()), end='; ')\n",
    "            if i % 4 == 0:\n",
    "                print()\n",
    "    return state"
   ]
  },
  {
   "cell_type": "markdown",
   "id": "665fb2fa",
   "metadata": {},
   "source": [
    "The example is almost idential to the previous one, just using a different simulator."
   ]
  },
  {
   "cell_type": "code",
   "execution_count": 40,
   "id": "4187afd0",
   "metadata": {
    "scrolled": true
   },
   "outputs": [
    {
     "name": "stdout",
     "output_type": "stream",
     "text": [
      "['11000', '00001', '10111', '11011', '01001', '01010', '01010', '01011', '11000', '01000']\n"
     ]
    }
   ],
   "source": [
    "circ = read_circuit_file('./data/input.circuit')\n",
    "qs = quantum_simulator_2(circ)\n",
    "mgen = measure(qs)\n",
    "mlist = []\n",
    "for i in range(0, 10):\n",
    "    mlist.append(next(mgen))\n",
    "print(mlist)"
   ]
  },
  {
   "cell_type": "code",
   "execution_count": 41,
   "id": "60ed2ab2",
   "metadata": {},
   "outputs": [
    {
     "data": {
      "image/png": "[encoded data removed]",
      "text/plain": [
       "<Figure size 432x288 with 1 Axes>"
      ]
     },
     "metadata": {
      "needs_background": "light"
     },
     "output_type": "display_data"
    }
   ],
   "source": [
    "circ = read_circuit_file('./data/input.circuit')\n",
    "qs = quantum_simulator_2(circ)\n",
    "mgen = measure(qs)\n",
    "mlist = []\n",
    "for i in range(0, 100000):\n",
    "    mlist.append(next(mgen))\n",
    "draw_histogram(mlist)"
   ]
  },
  {
   "cell_type": "markdown",
   "id": "d2658146",
   "metadata": {},
   "source": [
    "### Sparse Matrix [🔝](#table-of-contents) <a name=\"sparse-matrix\"></a>\n",
    "\n",
    "You may already noticed that our extended gate matrices are composed of mostly zeros and a few non-zero entries. It is doubtless a waste to occupy $O(4^w)$ space to store a matrix; instead, we prefer a \"compressed\" form of matrix to save time and space resources, it's called a **sparse matrix**. For example, a matrix like the following:\n",
    "\n",
    "$$\n",
    "    \\begin{bmatrix}\n",
    "        1 & 0 & 0 & 0 & 2 \\\\\n",
    "        3 & 0 & 4 & 0 & 0 \\\\\n",
    "        0 & 3 & 0 & 0 & 0 \\\\\n",
    "        0 & 0 & 2 & 1 & 0\n",
    "    \\end{bmatrix}\n",
    "$$\n",
    "\n",
    "can be described as the following lists:\n",
    "\n",
    "```python\n",
    "V = [1, 2, 3, 4, 3, 2, 1]\n",
    "COL_INDEX = [0, 4, 0, 2, 1, 2, 3]\n",
    "ROW_INDEX = [0, 2, 4, 5]\n",
    "```\n",
    "\n",
    "Here `V` is the list of non-zero entries sorted by row index and then by column index. `COL_INDEX` is the column indices of the non-zero entries, and `ROW_INDEX` is the first entry starting at corresponding row (e.g. the 4th entry (zero-indexed) starts at the 2nd row (zero-indexed), so `ROW_INDEX[2] = 4`). To access an entry at $i, j$, we can first slice `V` with `V[ROW_INDEX[i]:ROW_INDEX[i+1]]` to locate the row, and find appearance of $j$ within the slice. If it's found at `k`, the element we search for is `V[COL_INDEX[k]]`; otherwise, it is zero.\n",
    "\n",
    "It's clear that there are only $O(N)$ non-zeros in our gate matrices, so the time and space complexity are both estimated $O(N)$.\n",
    "\n",
    "The example above takes up 18 slots to store entries while the original matrix needs 20. This doesn't seem a big save. However, the scale of matrices grows exponetially in quantum circuits, so it will definitely be a sensible choice. We'll use `scipy.sparse` library to do this. We will start with the sparse version of our gate matrices:"
   ]
  },
  {
   "cell_type": "code",
   "execution_count": 42,
   "id": "66873898",
   "metadata": {},
   "outputs": [],
   "source": [
    "def hadamard_matrix_sparse(i, k):\n",
    "    if k >= 14:\n",
    "        print(\"The input is too large, expect to wait exponential time.\")\n",
    "    return kronecker_product_sparse(H, i, k);\n",
    "\n",
    "def phase_matrix_sparse(theta, i, k):\n",
    "    if k >= 14:\n",
    "        print(\"The input is too large, expect to wait exponential time.\")\n",
    "    return kronecker_product_sparse(P(theta), i, k)\n",
    "\n",
    "def cnot_matrix_sparse(ctrl, i, k):\n",
    "    return sparse.csr_matrix(numpy.identity(2 ** k))"
   ]
  },
  {
   "cell_type": "markdown",
   "id": "6918ee68",
   "metadata": {},
   "source": [
    "Notice that we simply substitute `sparse.kron` for `numpy.kron` and `sparse.matrix_csr` for `numpy.array`. The logic remains the same."
   ]
  },
  {
   "cell_type": "code",
   "execution_count": 82,
   "id": "abe71e53",
   "metadata": {},
   "outputs": [],
   "source": [
    "def quantum_simulator_3(circ):\n",
    "    (w, gates) = circ\n",
    "    limit = 2 ** w\n",
    "    m = False\n",
    "    state = [1] + [0 for i in range(0, limit - 1)]\n",
    "    \n",
    "    for g in gates:\n",
    "        if g[0] == 'INITSTATE':\n",
    "            if g[1] == 'FILE':\n",
    "                state = init_from_file(g[2])\n",
    "            elif g[1] == 'BASIS':\n",
    "                state = init_from_basis(g[2], limit)\n",
    "    for g in gates[::-1]:\n",
    "        if g[0] == 'H':\n",
    "            i = int(g[1])\n",
    "            state = hadamard_matrix_sparse(i+1, w) @ state\n",
    "            \n",
    "        elif g[0] == 'P':\n",
    "            theta = eval(str(g[2]))     # eval() is to allow inputs like pi/3\n",
    "            i = int(g[1])\n",
    "            state = phase_matrix_sparse(theta, i+1, w) @ state\n",
    "            \n",
    "        elif g[0] == 'CNOT':\n",
    "            ctrl = int(g[1])\n",
    "            i = int(g[2])\n",
    "            state = phase_matrix_sparse(ctrl, i+1, w) @ state\n",
    "        elif g[0] == 'MEASURE':\n",
    "            m = True\n",
    "            \n",
    "    # measure it now\n",
    "    if m:\n",
    "        for i, p in enumerate(state):\n",
    "            print(decimal_to_binary(i, w) + ' : ' + str(p * p.conj()), end='; ')\n",
    "            if i % 4 == 0:\n",
    "                print()\n",
    "    return state"
   ]
  },
  {
   "cell_type": "code",
   "execution_count": 44,
   "id": "ca5cb85e",
   "metadata": {},
   "outputs": [
    {
     "name": "stdout",
     "output_type": "stream",
     "text": [
      "['10100', '10100', '01000', '00001', '00001', '11001', '11011', '01011', '11011', '10011']\n"
     ]
    }
   ],
   "source": [
    "circ = read_circuit_file('./data/input.circuit')\n",
    "qs = quantum_simulator_3(circ)\n",
    "mgen = measure(qs)\n",
    "mlist = []\n",
    "for i in range(0, 10):\n",
    "    mlist.append(next(mgen))\n",
    "print(mlist)"
   ]
  },
  {
   "cell_type": "code",
   "execution_count": 45,
   "id": "640e07e7",
   "metadata": {},
   "outputs": [
    {
     "data": {
      "image/png": "[encoded data removed]",
      "text/plain": [
       "<Figure size 432x288 with 1 Axes>"
      ]
     },
     "metadata": {
      "needs_background": "light"
     },
     "output_type": "display_data"
    }
   ],
   "source": [
    "circ = read_circuit_file('./data/benchmark_dataset/11-16_4.circuit')\n",
    "qs = quantum_simulator_3(circ)\n",
    "mgen = measure(qs)\n",
    "mlist = []\n",
    "for i in range(0, 1000):\n",
    "    mlist.append(next(mgen))\n",
    "draw_histogram(mlist)"
   ]
  },
  {
   "cell_type": "code",
   "execution_count": 46,
   "id": "ed800937",
   "metadata": {},
   "outputs": [
    {
     "name": "stdout",
     "output_type": "stream",
     "text": [
      "00000 : (0.029853058980837538+0j); \n",
      "00001 : (0.05413666083109223+0j); 00010 : (0.008167886646394364+0j); 00011 : (0.014811953085494248+0j); 00100 : (0.008960187470084036+0j); \n",
      "00101 : (0.01624874122153807+0j); 00110 : (0.0024515342174169508+0j); 00111 : (0.004445704426112888+0j); 01000 : (0.029853058980837566+0j); \n",
      "01001 : (0.05413666083109227+0j); 01010 : (0.008167886646394375+0j); 01011 : (0.014811953085494262+0j); 01100 : (0.008960187470084037+0j); \n",
      "01101 : (0.016248741221538084+0j); 01110 : (0.002451534217416955+0j); 01111 : (0.004445704426112892+0j); 10000 : (0.07747357396502806+0j); \n",
      "10001 : (0.14049349514933998+0j); 10010 : (0.021197002646984552+0j); 10011 : (0.03843944245955365+0j); 10100 : (0.023253152956608646+0j); \n",
      "10101 : (0.042168142824943855+0j); 10110 : (0.0063621325252719825+0j); 10111 : (0.011537330593296738+0j); 11000 : (0.07747357396502802+0j); \n",
      "11001 : (0.14049349514933995+0j); 11010 : (0.02119700264698455+0j); 11011 : (0.03843944245955362+0j); 11100 : (0.023253152956608646+0j); \n",
      "11101 : (0.04216814282494385+0j); 11110 : (0.006362132525271989+0j); 11111 : (0.011537330593296745+0j); "
     ]
    },
    {
     "data": {
      "image/png": "[encoded data removed]",
      "text/plain": [
       "<Figure size 432x288 with 1 Axes>"
      ]
     },
     "metadata": {
      "needs_background": "light"
     },
     "output_type": "display_data"
    }
   ],
   "source": [
    "circ = read_circuit_file('./data/measure.circuit')\n",
    "qs = quantum_simulator_3(circ)\n",
    "mgen = measure(qs)\n",
    "mlist = []\n",
    "for i in range(0, 100000):\n",
    "    mlist.append(next(mgen))\n",
    "draw_histogram(mlist)"
   ]
  },
  {
   "cell_type": "markdown",
   "id": "86525759",
   "metadata": {},
   "source": [
    "To show the performance differences between the discussed three simulators, let's do a benchmark. We'll generate fixed number of quantum gates for $w$-qubit systems, where $w$ grows from $2$ (so that CNOT won't be excluded) to some relatively large number, say $20$ (note that here it has exceeded $8^{20} \\approx 1\\times 10^{18}$ units of time for the first simulator). To run this benchmark, let's first write a random gate generator:"
   ]
  },
  {
   "cell_type": "code",
   "execution_count": 47,
   "id": "fb4aefe3",
   "metadata": {},
   "outputs": [],
   "source": [
    "def random_gate_text(w):\n",
    "    gate = random.randint(3)\n",
    "    arg = random.randint(w)\n",
    "    if gate == 0:\n",
    "        return 'H ' + str(arg)\n",
    "    elif gate == 1:\n",
    "        theta = random.rand() * 2 * pi\n",
    "        return 'P ' + str(arg) + ' ' + str(theta)\n",
    "    elif gate == 2:\n",
    "        # So far we can only deal with CNOT gates whose control and target wires are adjacent\n",
    "        return 'CNOT ' + str(arg) + ' ' + str(arg + 1 if arg != w - 1 else arg - 1)\n",
    "    \n",
    "def random_circuit_text(w, ct):\n",
    "    result = 'QC ' + str(w) + '\\n'\n",
    "    result += 'INITSTATE BASIS |' + '0'*w + '>\\n'\n",
    "    for i in range(0, ct):\n",
    "        result += random_gate_text(w) + '\\n'\n",
    "    return result\n",
    "\n",
    "def write_circuit_file(file_name, circ_text):\n",
    "    f = open(file_name, \"w\")\n",
    "    f.write(circ_text)\n",
    "    f.close()\n",
    "    \n",
    "def generate_circuit_files(bit_ct, gate_ct, test_ct):\n",
    "    for i in range(0, test_ct):\n",
    "        write_circuit_file('./data/benchmark_dataset/'+str(bit_ct)+'-'+str(gate_ct)+'_'+str(i)+'.circuit', random_circuit_text(bit_ct, gate_ct))\n",
    "        i += 1"
   ]
  },
  {
   "cell_type": "markdown",
   "id": "c85d6be3",
   "metadata": {},
   "source": [
    "Let's first generate the circuit files:"
   ]
  },
  {
   "cell_type": "code",
   "execution_count": 35,
   "id": "27781910",
   "metadata": {},
   "outputs": [
    {
     "name": "stdout",
     "output_type": "stream",
     "text": [
      "Wall time: 726 ms\n"
     ]
    }
   ],
   "source": [
    "%%time\n",
    "for qubit_ct in range(1, 21):\n",
    "    for gate_ct in range(10, 20):\n",
    "        generate_circuit_files(qubit_ct, gate_ct, 10)"
   ]
  },
  {
   "cell_type": "code",
   "execution_count": 48,
   "id": "6e468aea",
   "metadata": {},
   "outputs": [],
   "source": [
    "def get_interval(t=None):\n",
    "    if t == None:\n",
    "        return time.perf_counter()\n",
    "    return time.perf_counter() - t"
   ]
  },
  {
   "cell_type": "code",
   "execution_count": 711,
   "id": "ded7395a",
   "metadata": {},
   "outputs": [
    {
     "name": "stdout",
     "output_type": "stream",
     "text": [
      "bit: 2\n",
      "bit: 3\n",
      "bit: 4\n",
      "bit: 5\n",
      "bit: 6\n",
      "bit: 7\n",
      "bit: 8\n",
      "bit: 9\n",
      "bit: 10\n",
      "bit: 11\n",
      "bit: 12\n",
      "bit: 13\n",
      "bit: 14\n",
      "The input is too large, expect to wait exponential time.\n",
      "The input is too large, expect to wait exponential time.\n",
      "The input is too large, expect to wait exponential time.\n",
      "The input is too large, expect to wait exponential time.\n",
      "The input is too large, expect to wait exponential time.\n",
      "The input is too large, expect to wait exponential time.\n",
      "The input is too large, expect to wait exponential time.\n",
      "The input is too large, expect to wait exponential time.\n",
      "The input is too large, expect to wait exponential time.\n",
      "The input is too large, expect to wait exponential time.\n",
      "The input is too large, expect to wait exponential time.\n",
      "The input is too large, expect to wait exponential time.\n",
      "The input is too large, expect to wait exponential time.\n",
      "The input is too large, expect to wait exponential time.\n",
      "The input is too large, expect to wait exponential time.\n",
      "The input is too large, expect to wait exponential time.\n",
      "The input is too large, expect to wait exponential time.\n",
      "The input is too large, expect to wait exponential time.\n",
      "The input is too large, expect to wait exponential time.\n"
     ]
    }
   ],
   "source": [
    "record_1 = [-1 for i in range(1, 21)]\n",
    "record_2 = [-1 for i in range(1, 21)]\n",
    "record_3 = [-1 for i in range(1, 21)]\n",
    "\n",
    "for bit_ct in range(2, 15):\n",
    "    tmp_1 = tmp_2 = tmp_3 = 0\n",
    "    print('bit: ' + str(bit_ct))\n",
    "    for gate_ct in range(19, 20):\n",
    "        for test_ct in range(0, 1):\n",
    "            circ = read_circuit_file('./data/benchmark_dataset/'+str(bit_ct)+'-'+str(gate_ct)+'_'+str(test_ct)+'.circuit')\n",
    "            t = get_interval()\n",
    "            if bit_ct <= 12:\n",
    "                quantum_simulator_1(circ)\n",
    "                tmp_1 += get_interval(t)\n",
    "                t = get_interval()\n",
    "            if bit_ct <= 13:\n",
    "                quantum_simulator_2(circ)\n",
    "                tmp_2 += get_interval(t)\n",
    "                t = get_interval()\n",
    "            quantum_simulator_3(circ)\n",
    "            tmp_3 += get_interval(t)\n",
    "    record_1[bit_ct] = tmp_1\n",
    "    record_2[bit_ct] = tmp_2\n",
    "    record_3[bit_ct] = tmp_3"
   ]
  },
  {
   "cell_type": "code",
   "execution_count": 714,
   "id": "3b665cc1",
   "metadata": {},
   "outputs": [
    {
     "data": {
      "image/png": "[encoded data removed]",
      "text/plain": [
       "<Figure size 432x288 with 1 Axes>"
      ]
     },
     "metadata": {
      "needs_background": "light"
     },
     "output_type": "display_data"
    }
   ],
   "source": [
    "x = [i for i in range(2, 15)]\n",
    "plt.plot(x[0:11], record_1[2:13])\n",
    "plt.plot(x[0:12], record_2[2:14])\n",
    "plt.plot(x, record_3[2:15])\n",
    "plt.legend(['Simulator Ia', 'Simulator Ib', 'Simulator Ic'])\n",
    "plt.show()"
   ]
  },
  {
   "cell_type": "code",
   "execution_count": 705,
   "id": "c027671d",
   "metadata": {},
   "outputs": [
    {
     "data": {
      "text/plain": [
       "4.073231300000771"
      ]
     },
     "execution_count": 705,
     "metadata": {},
     "output_type": "execute_result"
    }
   ],
   "source": [
    "get_interval(t)"
   ]
  },
  {
   "cell_type": "markdown",
   "id": "35546048",
   "metadata": {},
   "source": [
    "## Non-atomic Gates [🔝](#table-of-contents) <a name=\"non-atomic-gates\"></a>\n",
    "\n",
    "Merely three gates cannot build a powerful quantum machine. We need more gates to express the logic in the circuits. Of course, they are constructed with our universal gate set, i.e. the Hadamard gate, the phase shift gate, and the CNOT gate. Here are a miscellaneous collection of the gates we may be interested."
   ]
  },
  {
   "cell_type": "markdown",
   "id": "5cc22934",
   "metadata": {},
   "source": [
    "### Pauli Gates [🔝](#table-of-contents) <a name=\"pauli-gates\"></a>\n",
    "\n",
    "Here's our old friend back in classical circuits. An NOT gate does is defined as follows:\n",
    "\n",
    "$$\n",
    "    |0\\rangle \\mapsto |1\\rangle \\qquad |1\\rangle \\to |0\\rangle\n",
    "$$\n",
    "\n",
    "The matrix for an NOT gate is:\n",
    "\n",
    "$$\n",
    "    X = \n",
    "    \\begin{bmatrix}\n",
    "        0 & 1 \\\\ 1 & 0\n",
    "    \\end{bmatrix}\n",
    "$$\n",
    "\n",
    "It's also known as the **Pauli-X gate**. We can derive it from the Hadamard gate and phase shift gate: $X = HP(\\pi)H$ (this can be easily confirmed). Here, the $P(\\pi)$ matrix represents the **Pauli-Z gate** defined as follows:\n",
    "\n",
    "$$\n",
    "    |0\\rangle \\mapsto |0\\rangle \\qquad |1\\rangle \\mapsto -|1\\rangle\n",
    "$$\n",
    "\n",
    "whose matrix definition is:\n",
    "\n",
    "$$\n",
    "    Z = \n",
    "    \\begin{bmatrix}\n",
    "        1 & 0 \\\\ 0 & -1\n",
    "    \\end{bmatrix}\n",
    "$$\n",
    "\n",
    "Of course, there should be one other **Pauli-Y gate**. You could have noticed that the Pauli-X and Pauli-Y gates may perform on some symmetries. It may be helpful to introduce the **Bloch sphere**, a geometric representation of a two-level quantum mechanical system, which is exactly the $1$-qubit scenario we've been talking about.\n",
    "\n",
    "<img src=\"./images/bloch_sphere.png\" width=200 height=200>\n",
    "\n",
    "This is a unit sphere whose axes represents the following states:\n",
    "\n",
    "$$\n",
    "    \\begin{align*}\n",
    "    \\begin{cases}\n",
    "        \\hat{\\mathbf{x}} &= \\quad |+\\rangle = \\frac{1}{\\sqrt{2}}(|0\\rangle + |1\\rangle) \\\\\n",
    "        -\\hat{\\mathbf{x}} &= \\quad |-\\rangle = \\frac{1}{\\sqrt{2}}(|0\\rangle - |1\\rangle) \n",
    "    \\end{cases}\n",
    "    &&\n",
    "    \\begin{cases}\n",
    "        \\hat{\\mathbf{y}} &= \\quad |i+\\rangle = \\frac{1}{\\sqrt{2}}(|0\\rangle + i|1\\rangle) \\\\\n",
    "        -\\hat{\\mathbf{y}} &= \\quad |i-\\rangle = \\frac{1}{\\sqrt{2}}(|0\\rangle - i|1\\rangle)   \n",
    "    \\end{cases}\n",
    "    &&\n",
    "    \\begin{cases}\n",
    "        \\hat{\\mathbf{z}} &= \\quad |0\\rangle \\\\\n",
    "        -\\hat{\\mathbf{z}} &= \\quad |1\\rangle\n",
    "    \\end{cases}\n",
    "    \\end{align*}\n",
    "$$\n",
    "\n",
    "It might be tricky to find out what these axes really means from above, but we can get some insights from the general form of a $1$-qubit quantum state $|\\Psi\\rangle$:\n",
    "\n",
    "$$\n",
    "    |\\Psi\\rangle = \\cos\\frac{\\theta}{2}|0\\rangle + e^{i\\varphi}\\sin\\frac{\\theta}{2}|1\\rangle\n",
    "$$\n",
    "\n",
    "Then, the Pauli-X transformation is simply rotate $\\Psi$ around the $x$ axis of the Bloch sphere by $\\pi$. The Pauli-Z transformation makes $\\Psi$ rotate around the $z$ axis by $\\pi$. We can easily check them:\n",
    "\n",
    "$$\n",
    "    \\begin{align*}\n",
    "        \\Psi_{x, \\pi} &= \\cos\\frac{\\pi - \\theta}{2}|0\\rangle + e^{i\\varphi}\\sin\\frac{\\pi - \\theta}{2}|1\\rangle \\\\\n",
    "        &= \\sin\\frac{\\theta}{2}|0\\rangle + e^{i\\varphi}\\cos\\frac{\\theta}{2}|1\\rangle \\\\\n",
    "        &= \\cos\\frac{\\theta}{2}|1\\rangle + e^{-i\\varphi}\\sin\\frac{\\theta}{2}|0\\rangle \\tag{Adjust the phase}\\\\\n",
    "        \\Psi_{z, \\pi} &= \\cos\\frac{\\theta}{2}|0\\rangle + e^{i(\\pi + \\varphi)}\\sin\\frac{\\theta}{2}|1\\rangle \\\\\n",
    "        &= \\cos\\frac{\\theta}{2}|0\\rangle - e^{i\\varphi}\\sin\\frac{\\theta}{2}|1\\rangle \\tag{Adjust the phase}\n",
    "    \\end{align*}\n",
    "$$\n",
    "\n",
    "Thus, it's natural to introduce the Pauli-Y tranformation as rotating around the $y$ axis by $\\pi$:\n",
    "\n",
    "$$\n",
    "    \\begin{align*}\n",
    "        \\Psi_{y, \\pi} &= \\cos\\frac{\\pi - \\theta}{2}|0\\rangle + e^{i(\\pi - \\varphi)}\\sin\\frac{\\pi - \\theta}{2}|1\\rangle \\\\\n",
    "        &= \\sin\\frac{\\theta}{2}|0\\rangle - e^{-i\\varphi}\\cos\\frac{\\theta}{2}|1\\rangle \\\\\n",
    "        &= -\\cos\\frac{\\theta}{2}|1\\rangle + e^{i\\varphi}\\sin\\frac{\\theta}{2}|0\\rangle \\tag{Adjust the phase}\\\\\n",
    "        &= \\cos\\frac{\\theta}{2}|1\\rangle - ie^{i\\varphi}\\sin\\frac{\\theta}{2}|0\\rangle \\tag{Adjust the phase}\n",
    "    \\end{align*}\n",
    "$$\n",
    "\n",
    "This gives us a definition of the Pauli-Y gate:\n",
    "\n",
    "$$\n",
    "    |0\\rangle \\mapsto i|1\\rangle \\qquad |1\\rangle \\mapsto -i|0\\rangle\n",
    "$$\n",
    "\n",
    "whose matrix representation is:\n",
    "\n",
    "$$\n",
    "    Y = \n",
    "    \\begin{bmatrix}\n",
    "        0 & -i \\\\ i & 0\n",
    "    \\end{bmatrix}\n",
    "$$\n",
    "\n",
    "Note that it's only a matter of phase when choosing the definition of Pauli-Y transformation, but the adopted version has more algebraic properties than the real matrix:\n",
    "\n",
    "$$\n",
    "    Y_\\text{real} =\n",
    "    \\begin{bmatrix}\n",
    "        0 & - 1 \\\\ 1 & 0\n",
    "    \\end{bmatrix}\n",
    "$$\n",
    "\n",
    "since the complex one generates the [**Pauli Group**](https://en.wikipedia.org/wiki/Pauli_group) together with the Pauli-X and Pauli-Z, which we'd prefer not to elaborate here.\n",
    "\n",
    "Finally, it's not hard to verify the following properties with repect to the Pauli gates:\n",
    "\n",
    "$$\n",
    "    X^2 = Y^2 = Z^2 = -iXYZ = I\n",
    "$$"
   ]
  },
  {
   "cell_type": "markdown",
   "id": "a7c3e4f1",
   "metadata": {},
   "source": [
    "The Pauli gates built from the existing gates are illustrated as follows:"
   ]
  },
  {
   "cell_type": "code",
   "execution_count": 49,
   "id": "5d54e081",
   "metadata": {},
   "outputs": [
    {
     "data": {
      "image/png": "[encoded data removed]",
      "text/plain": [
       "<Figure size 253.926x84.28 with 1 Axes>"
      ]
     },
     "execution_count": 49,
     "metadata": {},
     "output_type": "execute_result"
    }
   ],
   "source": [
    "draw_pauli_x_gate()"
   ]
  },
  {
   "cell_type": "code",
   "execution_count": 50,
   "id": "39fe4210",
   "metadata": {},
   "outputs": [
    {
     "data": {
      "image/png": "[encoded data removed]",
      "text/plain": [
       "<Figure size 253.926x84.28 with 1 Axes>"
      ]
     },
     "execution_count": 50,
     "metadata": {},
     "output_type": "execute_result"
    }
   ],
   "source": [
    "draw_pauli_y_gate()"
   ]
  },
  {
   "cell_type": "code",
   "execution_count": 51,
   "id": "cb5fa828",
   "metadata": {},
   "outputs": [
    {
     "data": {
      "image/png": "[encoded data removed]",
      "text/plain": [
       "<Figure size 133.526x84.28 with 1 Axes>"
      ]
     },
     "execution_count": 51,
     "metadata": {},
     "output_type": "execute_result"
    }
   ],
   "source": [
    "draw_pauli_z_gate()"
   ]
  },
  {
   "cell_type": "code",
   "execution_count": 52,
   "id": "bac686fd",
   "metadata": {},
   "outputs": [],
   "source": [
    "# to avoid numerical error, I prefer to use the direct definition here\n",
    "X = numpy.array([[0, 1], [1, 0]])        # X = H @ Z @ H\n",
    "Y = numpy.array([[0, -1j], [1j, 0]])     # Y = P(pi/2) @ X @ P(-pi/2)\n",
    "Z = numpy.array([[1, 0], [0, -1]])       # Z = P(pi)"
   ]
  },
  {
   "cell_type": "markdown",
   "id": "d4f549da",
   "metadata": {},
   "source": [
    "### Rotation Operator Gates [🔝](#table-of-contents) <a name=\"rotation-operator-gates\"></a>\n",
    "\n",
    "A more general form of the Pauli gates is to rotate around the axes of the Bloch sphere by *any* angle. The definition is:\n",
    "\n",
    "$$\n",
    "    R_x(\\theta) = e^{-i\\frac{\\theta}{2}X} \\qquad R_y(\\theta) = e^{-i\\frac{\\theta}{2}Y} \\qquad R_z(\\theta) = e^{-i\\frac{\\theta}{2}Z}\n",
    "$$\n",
    "\n",
    "Here the notation $e^{i\\theta A}$ where the matrix appears at the exponent is defined as:\n",
    "\n",
    "$$\n",
    "    \\begin{align*}\n",
    "        e^{i\\theta A}\n",
    "        &= \\sum_{n=0}^\\infty \\frac{1}{n!}(i\\theta A)^n \\\\\n",
    "        &= \\sum_{n=0}^\\infty \\frac{(-1)^n}{(2n)!}(\\theta A)^{2n} + i\\sum_{n=0}^\\infty \\frac{(-1)^n}{(2n+1)!}(\\theta A)^{2n+1} \\tag{Here we use the fact that $A^2 = I$} \\\\\n",
    "        &= I\\cos\\theta + iA\\sin\\theta\n",
    "    \\end{align*}\n",
    "$$\n",
    "\n",
    "Thus, the more detailed definition is:\n",
    "\n",
    "$$\n",
    "    R_x(\\theta) =\n",
    "    \\begin{bmatrix}\n",
    "        \\cos\\tfrac{\\theta}{2} & -i\\sin\\tfrac{\\theta}{2} \\\\\n",
    "        -i\\sin\\tfrac{\\theta}{2} & \\cos\\tfrac{\\theta}{2}\n",
    "    \\end{bmatrix}\n",
    "    \\qquad\n",
    "    R_y(\\theta) = \n",
    "    \\begin{bmatrix}\n",
    "        \\cos\\frac{\\theta}{2} & -\\sin\\frac{\\theta}{2} \\\\\n",
    "        \\sin\\frac{\\theta}{2} & \\cos\\frac{\\theta}{2}\n",
    "    \\end{bmatrix}\n",
    "    \\qquad\n",
    "    R_z(\\theta) = \n",
    "    \\begin{bmatrix}\n",
    "        e^{-i\\frac{\\theta}{2}} & 0 \\\\\n",
    "        0 & e^{i\\frac{\\theta}{2}}\n",
    "    \\end{bmatrix}\n",
    "$$\n",
    "\n",
    "Again, we need to find some way to construct these matrices from the ones we have ($H$, $P$, $X$, etc.). I do this quite randomly, but I'd like to share some thoughts on the direction I take. This is probably not the most efficient way, but it's how I figure it out.\n",
    "\n",
    "First, I believe the three rotation matrices are somehow symmetric, so it should be easy to obtain the other two once I figure out $R_x$. Then, I decide to start from the rotation matrix, and try to map it to a familiar matrix. I notice that $R_x$ has separated $\\cos$ and $\\sin$ entries, which is annoying since we don't seemingly have any matrices to eliminate a single trignometric function. An idea is to use $H$ to add $\\cos$ and $\\sin$ terms together and transform it into exponential form, which can be dealt with phase shift matrix then:\n",
    "\n",
    "$$\n",
    "    \\begin{align*}\n",
    "        R_xH &= \n",
    "        \\begin{bmatrix}\n",
    "            \\cos\\frac{\\theta}{2} & -i\\sin\\frac{\\theta}{2} \\\\\n",
    "            -i\\sin\\frac{\\theta}{2} & \\cos\\frac{\\theta}{2}\n",
    "        \\end{bmatrix}\n",
    "        \\frac{1}{\\sqrt{2}}\n",
    "        \\begin{bmatrix}\n",
    "            1 & 1 \\\\ 1 & -1\n",
    "        \\end{bmatrix} \\\\\n",
    "        &= \n",
    "        \\frac{1}{\\sqrt{2}}\n",
    "        \\begin{bmatrix}\n",
    "            e^{-i\\frac{\\theta}{2}} & e^{i\\frac{\\theta}{2}} \\\\\n",
    "            e^{-i\\frac{\\theta}{2}} & -e^{i\\frac{\\theta}{2}}\n",
    "        \\end{bmatrix}\n",
    "    \\end{align*}\n",
    "$$\n",
    "\n",
    "Then apply the $P(-i\\theta/2)$ to the right:\n",
    "\n",
    "$$\n",
    "    \\begin{align*}\n",
    "        R_xHP(-i\\frac{\\theta}{2})\n",
    "        &=\n",
    "        \\frac{1}{\\sqrt{2}}\n",
    "        \\begin{bmatrix}\n",
    "            e^{-i\\frac{\\theta}{2}} & e^{i\\frac{\\theta}{2}} \\\\\n",
    "            e^{-i\\frac{\\theta}{2}} & -e^{i\\frac{\\theta}{2}}\n",
    "        \\end{bmatrix}\n",
    "        \\begin{bmatrix}\n",
    "            1 & 0 \\\\ 0 & e^{-i\\frac{\\theta}{2}}\n",
    "        \\end{bmatrix} \\\\\n",
    "        &= \n",
    "        \\frac{1}{\\sqrt{2}}\n",
    "        \\begin{bmatrix}\n",
    "            e^{-i\\frac{\\theta}{2}} & 1 \\\\\n",
    "            e^{-i\\frac{\\theta}{2}} & -1\n",
    "        \\end{bmatrix}\n",
    "    \\end{align*}\n",
    "$$\n",
    "\n",
    "It seems that we eliminate a pair of $e^{i\\theta/2}$ using the phase shift matrix. Now it's time to eliminate the other pair. We'd want to flip the two columns first, with the Pauli-X matrix:\n",
    "\n",
    "$$\n",
    "    \\begin{align*}\n",
    "        R_XHP(-\\frac{\\theta}{2})XP(\\frac{\\theta}{2})\n",
    "        &= \n",
    "        \\frac{1}{\\sqrt{2}}\n",
    "        \\begin{bmatrix}\n",
    "            e^{-i\\frac{\\theta}{2}} & 1 \\\\\n",
    "            e^{-i\\frac{\\theta}{2}} & -1\n",
    "        \\end{bmatrix}    \n",
    "        \\begin{bmatrix}\n",
    "            0 & 1 \\\\ 1 & 0\n",
    "        \\end{bmatrix}\n",
    "        \\begin{bmatrix}\n",
    "            1 & 0 \\\\ 0 & e^{i\\frac{\\theta}{2}}\n",
    "        \\end{bmatrix} \\\\\n",
    "        &= \n",
    "        \\frac{1}{\\sqrt{2}}\n",
    "        \\begin{bmatrix}\n",
    "            1 & e^{-i\\frac{\\theta}{2}} \\\\\n",
    "            -1 & e^{-i\\frac{\\theta}{2}}\n",
    "        \\end{bmatrix}\n",
    "        \\begin{bmatrix}\n",
    "            1 & 0 \\\\ 0 & e^{i\\frac{\\theta}{2}}\n",
    "        \\end{bmatrix} \\\\\n",
    "        &= \n",
    "        \\frac{1}{\\sqrt{2}}\n",
    "        \\begin{bmatrix}\n",
    "            1 & 1 \\\\\n",
    "            -1 & 1\n",
    "        \\end{bmatrix}\n",
    "    \\end{align*}\n",
    "$$\n",
    "\n",
    "I find this matrix resembles the Hadamard matrix a lot. In fact, they only differ by a Pauli-X transformation. Hereby, we make it to the end of the chain:\n",
    "\n",
    "$$\n",
    "    R_x(\\theta)HP(-\\frac{\\theta}{2})XP(\\frac{\\theta}{2})XH \\equiv I \\tag{*}\n",
    "$$\n",
    "\n",
    "Now, to get a formula for $R_X$, we just multiply the inverse matrices to the right of both sides. Thankfully these matrices are either **involutary** or conceptually easy to inverse (like the phase shift matrix):\n",
    "\n",
    "$$\n",
    "    R_x(\\theta) = HXP(-\\frac{\\theta}{2})XP(\\frac{\\theta}{2})H\n",
    "$$\n",
    "\n",
    "Finally, we need to expand the definition of $X$ and get rid of redundant matrices:\n",
    "\n",
    "$$\n",
    "    \\begin{align*}\n",
    "        R_x(\\theta) &= H(HZH)P(-\\frac{\\theta}{2})(HZH)P(\\frac{\\theta}{2})H \\\\\n",
    "        &= P(\\pi)HP(-\\frac{\\theta}{2})HP(\\pi)HP(\\frac{\\theta}{2})H\n",
    "    \\end{align*}\n",
    "$$\n",
    "\n",
    "The other two rotation matrices don't come so straight. I tried to replace $X$ in $(*)$ by $Y$ or $Z$, but there's no luck (the result is not identity). The good news is that I already found the pattern:\n",
    "\n",
    "- If $\\cos$ and $\\sin$ are separated, use Hadamard to reunite them into $\\exp$.\n",
    "- Use $X$ to swap the two columns.\n",
    "- Use $P(\\theta)$ to phase shift the right column, in some case resulting in $1$'s.\n",
    "\n",
    "$$\n",
    "    \\begin{align*}\n",
    "        R_y(\\theta)HP(-\\frac{\\theta}{2})YP(\\frac{\\theta}{2})YH\n",
    "        &=\n",
    "        \\begin{bmatrix}\n",
    "            -i & 0 \\\\ 0 & i\n",
    "        \\end{bmatrix} \\\\\n",
    "        R_z(\\theta)HP(-\\frac{\\theta}{2})ZP(\\frac{\\theta}{2})ZH\n",
    "        &=\n",
    "        \\begin{bmatrix}\n",
    "            0 & 1 \\\\ -1 & 0\n",
    "        \\end{bmatrix}\n",
    "    \\end{align*}\n",
    "$$\n",
    "\n",
    "After commiting some efforts, I get the following:\n",
    "\n",
    "$$\n",
    "    \\begin{align*}\n",
    "        R_y &= P\\left(\\frac{\\pi}{2}\\right)HP\\left(-\\frac{\\theta}{2}\\right)XP\\left(\\frac{\\theta}{2}\\right)HP\\left(-\\frac{\\pi}{2}\\right) \\\\\n",
    "        &= P\\left(\\frac{\\pi}{2}\\right)HP\\left(-\\frac{\\theta}{2}\\right)HP(\\pi)HP\\left(\\frac{\\theta}{2}\\right)HP\\left(-\\frac{\\pi}{2}\\right) \\\\\n",
    "        R_z &= P\\left(\\frac{\\theta}{2}\\right)XP\\left(-\\frac{\\theta}{2}\\right)X \\\\\n",
    "        &= P\\left(\\frac{\\theta}{2}\\right)HP(\\pi)HP\\left(-\\frac{\\theta}{2}\\right)HP(\\pi)H\n",
    "    \\end{align*}\n",
    "$$"
   ]
  },
  {
   "cell_type": "markdown",
   "id": "3148b812",
   "metadata": {},
   "source": [
    "The rotation operator gates built from the existing gates are illustrated as follows:"
   ]
  },
  {
   "cell_type": "code",
   "execution_count": 42,
   "id": "86fab2c5",
   "metadata": {},
   "outputs": [],
   "source": [
    "# draw_rotation_x_gate()"
   ]
  },
  {
   "cell_type": "code",
   "execution_count": 43,
   "id": "d82dccec",
   "metadata": {},
   "outputs": [],
   "source": [
    "# draw_rotation_y_gate()"
   ]
  },
  {
   "cell_type": "code",
   "execution_count": 430,
   "id": "b4a961b8",
   "metadata": {},
   "outputs": [
    {
     "data": {
      "image/png": "[encoded data removed]",
      "text/plain": [
       "<Figure size 314.126x84.28 with 1 Axes>"
      ]
     },
     "execution_count": 430,
     "metadata": {},
     "output_type": "execute_result"
    }
   ],
   "source": [
    "# draw_rotation_z_gate()\n",
    "qc = QuantumCircuit(1)\n",
    "theta = pi/42\n",
    "qc.p(theta/2, 0)\n",
    "qc.x(0)\n",
    "qc.p(-theta/2, 0)\n",
    "qc.x(0)\n",
    "qc.draw(output='mpl')"
   ]
  },
  {
   "cell_type": "code",
   "execution_count": 53,
   "id": "c74853eb",
   "metadata": {},
   "outputs": [
    {
     "name": "stdout",
     "output_type": "stream",
     "text": [
      "[[ 0.96017029-4.55766557e-18j -0.07807302+2.68286459e-01j]\n",
      " [ 0.2794155 -2.02515654e-17j  0.26828646-9.21926979e-01j]]\n"
     ]
    },
    {
     "data": {
      "text/plain": [
       "array([[ 9.60170287e-01-4.55766557e-18j,  7.57627167e-17+2.79415498e-01j],\n",
       "       [-2.02515654e-17-2.79415498e-01j, -9.60170287e-01+1.18947284e-16j]])"
      ]
     },
     "execution_count": 53,
     "metadata": {},
     "output_type": "execute_result"
    }
   ],
   "source": [
    "def rotation_y_matrix(theta):\n",
    "    arg = theta / 2\n",
    "    return P(pi/2) @ H @ P(-arg) @ H @ P(pi) @ H @ P(arg) @ H @ P(-arg)\n",
    "def rotation_y_matrix2(theta):\n",
    "    arg = theta / 2\n",
    "    return H @ P(-arg) @ H @ P(pi) @ H @ P(arg) @ H\n",
    "print(rotation_y_matrix(12))\n",
    "(rotation_y_matrix2(12))"
   ]
  },
  {
   "cell_type": "code",
   "execution_count": 54,
   "id": "57326ed5",
   "metadata": {},
   "outputs": [],
   "source": [
    "def RX(theta):\n",
    "    arg = theta / 2\n",
    "    return numpy.array([[numpy.cos(arg), -1j * numpy.sin(arg)], [-1j * numpy.sin(arg), numpy.cos(arg)]])\n",
    "def RY(theta):\n",
    "    arg = theta / 2\n",
    "    return numpy.array([[numpy.cos(arg), -numpy.sin(arg)], [numpy.sin(arg), numpy.cos(arg)]])\n",
    "def RZ(theta):\n",
    "    arg = theta / 2\n",
    "    return numpy.array([[e ** (-1j * arg), 0], [0, e ** (1j * arg)]])"
   ]
  },
  {
   "cell_type": "markdown",
   "id": "121fdb88",
   "metadata": {},
   "source": []
  },
  {
   "cell_type": "markdown",
   "id": "5355e009",
   "metadata": {},
   "source": [
    "### Swap Gate [🔝](#table-of-contents) <a name=\"swap-gate\"></a>\n",
    "\n",
    "Before we move on to controlled phase gates, there's an important gate to mention, that is the **swap gate**. It operates on two qubits with the following effect:\n",
    "\n",
    "$$\n",
    "    |00\\rangle \\mapsto |00\\rangle \\qquad |01\\rangle \\mapsto |10\\rangle \\qquad |10\\rangle \\mapsto |01\\rangle \\qquad |11\\rangle \\mapsto |11\\rangle\n",
    "$$\n",
    "\n",
    "Its matrix form is:\n",
    "\n",
    "$$\n",
    "    \\text{SWAP} = \n",
    "    \\begin{bmatrix}\n",
    "        1 & 0 & 0 & 0 \\\\\n",
    "        0 & 0 & 1 & 0 \\\\\n",
    "        0 & 1 & 0 & 0 \\\\\n",
    "        0 & 0 & 0 & 1\n",
    "    \\end{bmatrix}\n",
    "$$\n",
    "\n",
    "Recall the alternative interpretation of the CNOT gate, that it does the **XOR** operation on the control and target qubits and stores the result in the target qubit while preserving the control qubit. There is actually a trick to swap two integers with XOR:\n",
    "\n",
    "```python\n",
    "x = x ^ y\n",
    "y = x ^ y\n",
    "x = x ^ y\n",
    "```\n",
    "In each statement, there's one variable modified and the other preserved, just like the CNOT transformation. Thus, we can get the following matrix:\n",
    "\n",
    "$$\n",
    "    \\text{SWAP}(i, j) = \\text{CNOT}(i, j)\\ \\text{CNOT}(j, i)\\ \\text{CNOT}(i, j)\n",
    "$$\n",
    "\n",
    "We still haven't resolved the \"long-ranged\" CNOT problem (we will talk about it very soon), so let's stick to adjacent swap first. The matrix is defined in python as follows:"
   ]
  },
  {
   "cell_type": "code",
   "execution_count": 55,
   "id": "67da9942",
   "metadata": {},
   "outputs": [],
   "source": [
    "SWAP = CNOT @ TONC @ CNOT"
   ]
  },
  {
   "cell_type": "markdown",
   "id": "45926165",
   "metadata": {},
   "source": [
    "Swap gates are extremely helpful when it comes to multi-qubit matrix construction. Recall the issue that we cannot discover a good way to calculate $CNOT(c, i, k)$, where $c$ is the control qubit, $i$ is the target qubit, and $k$ is the count of qubits. Now that we have the SWAP gate, we swap qubit by qubit until the control and target are adjacent; then we swap it way back to the initial place. For example, look at the following circuit:"
   ]
  },
  {
   "cell_type": "code",
   "execution_count": 56,
   "id": "14c99d3d",
   "metadata": {},
   "outputs": [
    {
     "data": {
      "image/png": "[encoded data removed]",
      "text/plain": [
       "<Figure size 146.797x204.68 with 1 Axes>"
      ]
     },
     "execution_count": 56,
     "metadata": {},
     "output_type": "execute_result"
    }
   ],
   "source": [
    "qc = QuantumCircuit(3)\n",
    "qc.cx(0, 2)\n",
    "qc.draw(output='mpl')"
   ]
  },
  {
   "cell_type": "markdown",
   "id": "c0cfcb71",
   "metadata": {},
   "source": [
    "It's equivalent to the following circuit:"
   ]
  },
  {
   "cell_type": "code",
   "execution_count": 57,
   "id": "95c0feb3",
   "metadata": {},
   "outputs": [
    {
     "data": {
      "image/png": "[encoded data removed]",
      "text/plain": [
       "<Figure size 267.197x204.68 with 1 Axes>"
      ]
     },
     "execution_count": 57,
     "metadata": {},
     "output_type": "execute_result"
    }
   ],
   "source": [
    "qc = QuantumCircuit(3)\n",
    "qc.swap(1, 2)\n",
    "qc.cx(0, 1)\n",
    "qc.swap(1, 2)\n",
    "qc.draw(output='mpl')"
   ]
  },
  {
   "cell_type": "markdown",
   "id": "03fbeaa0",
   "metadata": {},
   "source": [
    "We first write the extended swap matrix:"
   ]
  },
  {
   "cell_type": "code",
   "execution_count": 58,
   "id": "87e1f18e",
   "metadata": {},
   "outputs": [],
   "source": [
    "# swap the i-th and (i+1)-th qubit\n",
    "def swap_adjacent(i, k):\n",
    "    return kronecker_product(SWAP, i, k-1)\n",
    "def swap_matrix(i, j, k):\n",
    "    lo = min(i, j)\n",
    "    hi = max(i, j)\n",
    "    for i in range(lo, hi - 1):\n",
    "        result = swap_adjacent(i, k) @ result\n",
    "    for i in range(hi - 1, lo - 1, -1):\n",
    "        result = swap_adjacent(i, k) @ result\n",
    "    return result"
   ]
  },
  {
   "cell_type": "markdown",
   "id": "e0983263",
   "metadata": {},
   "source": [
    "Let's then implement the complete version of `cnot_matrix`:"
   ]
  },
  {
   "cell_type": "code",
   "execution_count": 59,
   "id": "8b8ca1fa",
   "metadata": {},
   "outputs": [],
   "source": [
    "def cnot_matrix(ctrl, i, k):\n",
    "    assert ctrl in range(1, k + 1)\n",
    "    assert i in range(1, k + 1)\n",
    "    assert ctrl != i\n",
    "    \n",
    "    lo = min(ctrl, i)\n",
    "    hi = max(ctrl, i)\n",
    "    result = numpy.identity(2 ** k)\n",
    "    \n",
    "    for j in range(lo, hi - 1):\n",
    "        result = swap_adjacent(j, k) @ result\n",
    "    result = kronecker_product(CNOT if lo == ctrl else TONC, hi - 1, k - 1)\n",
    "    for j in range(hi - 1, lo, -1):\n",
    "        result = swap_adjacent(j, k) @ result\n",
    "    return result"
   ]
  },
  {
   "cell_type": "markdown",
   "id": "90da5d2e",
   "metadata": {},
   "source": [
    "### Controlled Rotation Gates\n",
    "\n",
    "With our fully implemented CNOT gate, we can add more gates that we can control on. The **controlled rotation gates** are the rotation operator gates controlled by an extra qubit. We can easily write down their definition as follows:\n",
    "\n",
    "$$\n",
    "    \\begin{align*}\n",
    "        \\text{CR}_x(\\theta)\n",
    "        = \\begin{bmatrix}\n",
    "            1 & 0 & 0 & 0 \\\\\n",
    "            0 & 1 & 0 & 0 \\\\\n",
    "            0 & 0 & \\cos\\tfrac{\\theta}{2} & -i\\sin\\tfrac{\\theta}{2} \\\\\n",
    "            0 & 0 & -i\\sin\\tfrac{\\theta}{2} & \\cos\\tfrac{\\theta}{2}\n",
    "        \\end{bmatrix}\n",
    "        \\qquad\n",
    "        \\text{CR}_y(\\theta)\n",
    "        = \\begin{bmatrix}\n",
    "            1 & 0 & 0 & 0 \\\\\n",
    "            0 & 1 & 0 & 0 \\\\\n",
    "            0 & 0 & \\cos\\frac{\\theta}{2} & -\\sin\\frac{\\theta}{2} \\\\\n",
    "            0 & 0 & \\sin\\frac{\\theta}{2} & \\cos\\frac{\\theta}{2}\n",
    "        \\end{bmatrix}\n",
    "        \\qquad\n",
    "        \\text{CR}_z(\\theta)\n",
    "        = \\begin{bmatrix}\n",
    "            1 & 0 & 0 & 0 \\\\\n",
    "            0 & 1 & 0 & 0 \\\\\n",
    "            0 & 0 & e^{-i\\frac{\\theta}{2}} & 0 \\\\\n",
    "            0 & 0 & 0 & e^{i\\frac{\\theta}{2}}\n",
    "        \\end{bmatrix}\n",
    "    \\end{align*}\n",
    "$$\n",
    "\n",
    "It's unlikely to decompose these matrices to universal matrices manually (it's 4x4, so there's a lot more work), so let's get some inspiration from the \"uncontrolled\" matrices. Let's try $\\text{CR}_x$ first. Recall that $R_x = HXP(-\\frac{\\theta}{2})XP(\\frac{\\theta}{2})H$; if the Pauli-X gates in the middle are reset to identity matrices, the result matrix will also be an identity. Thus, if we can somehow control $X$ to be identity when we want, we can then control $\\text{CR}_x$ to be identity at the same time. Fortunately that's what $\\text{CNOT}$ is designed to do ($\\text{NOT}$ is an alias for $X$). The following definition explains the trick:\n",
    "\n",
    "$$\n",
    "    \\text{CR}_x = (I\\otimes H)\\ \\text{CNOT}\\ \\left(I \\otimes P\\left(-\\frac{\\theta}{2}\\right)\\right)\\ \\text{CNOT} \\left(I \\otimes P\\left(\\frac{\\theta}{2}\\right)\\right)\n",
    "$$\n",
    "\n",
    "It should be even easier to grab the idea with a circuit diagram:"
   ]
  },
  {
   "cell_type": "code",
   "execution_count": 60,
   "id": "a238c84d",
   "metadata": {},
   "outputs": [
    {
     "data": {
      "image/png": "[encoded data removed]",
      "text/plain": [
       "<Figure size 387.452x144.48 with 1 Axes>"
      ]
     },
     "execution_count": 60,
     "metadata": {},
     "output_type": "execute_result"
    }
   ],
   "source": [
    "qc = QuantumCircuit(2)\n",
    "qc.h(1)\n",
    "qc.cnot(0, 1)\n",
    "qc.p(-pi/84, 1)\n",
    "qc.cnot(0, 1)\n",
    "qc.p(pi/84, 1)\n",
    "qc.draw(output='mpl')"
   ]
  },
  {
   "cell_type": "markdown",
   "id": "22ed8065",
   "metadata": {},
   "source": [
    "With the same spirit, we can get the definition of $\\text{CR}_y$ and $\\text{CR}_z$ as well:\n",
    "\n",
    "$$\n",
    "    \\begin{align*}\n",
    "        \\text{CR}_y(\\theta)\n",
    "        &= \\left(I\\otimes P\\left(\\frac{\\pi}{2}\\right)\\right)\n",
    "        (I \\otimes H)\n",
    "        \\left(I \\otimes P\\left(-\\frac{\\theta}{2}\\right)\\right)\n",
    "        \\ \\text{CNOT}\\ \n",
    "        \\left(I \\otimes P\\left(\\frac{\\theta}{2}\\right)\\right)\n",
    "        (I \\otimes H)\n",
    "        \\left(I\\otimes P\\left(-\\frac{\\pi}{2}\\right)\\right) \\\\\n",
    "        \\text{CR}_z(\\theta)\n",
    "        &= \\left(I \\otimes P\\left(\\frac{\\theta}{2}\\right)\\right)\n",
    "        \\ \\text{CNOT}\\\n",
    "        \\left(I \\otimes P\\left(-\\frac{\\theta}{2}\\right)\\right)\n",
    "        \\ \\text{CNOT}\n",
    "    \\end{align*}\n",
    "$$\n",
    "\n",
    "Well, it's unpleasant to see those excessive $I$ and kronecker symbols, so I'd like to show the circuit diagrams as well:"
   ]
  },
  {
   "cell_type": "code",
   "execution_count": 61,
   "id": "09636d01",
   "metadata": {},
   "outputs": [
    {
     "data": {
      "image/png": "[encoded data removed]",
      "text/plain": [
       "<Figure size 507.852x144.48 with 1 Axes>"
      ]
     },
     "execution_count": 61,
     "metadata": {},
     "output_type": "execute_result"
    }
   ],
   "source": [
    "qc = QuantumCircuit(2)\n",
    "qc.p(pi/2, 1)\n",
    "qc.h(1)\n",
    "qc.p(-pi/84, 1)\n",
    "qc.cnot(0, 1)\n",
    "qc.p(pi/84, 1)\n",
    "qc.h(1)\n",
    "qc.p(-pi/2, 1)\n",
    "qc.draw(output='mpl')"
   ]
  },
  {
   "cell_type": "code",
   "execution_count": 62,
   "id": "47e0d2ee",
   "metadata": {},
   "outputs": [
    {
     "data": {
      "image/png": "[encoded data removed]",
      "text/plain": [
       "<Figure size 327.252x144.48 with 1 Axes>"
      ]
     },
     "execution_count": 62,
     "metadata": {},
     "output_type": "execute_result"
    }
   ],
   "source": [
    "qc = QuantumCircuit(2)\n",
    "qc.p(pi/84, 1)\n",
    "qc.cnot(0, 1)\n",
    "qc.p(-pi/84, 1)\n",
    "qc.cnot(0, 1)\n",
    "qc.draw(output='mpl')"
   ]
  },
  {
   "cell_type": "markdown",
   "id": "7fad2e30",
   "metadata": {},
   "source": [
    "### Controlled Phase Shift Gate [🔝](#table-of-contents) <a name=\"controlled-phase-shift-gate\"></a>\n",
    "\n",
    "Now, we want to implement a phase gate with a control qubit. It's similar to the CNOT gate, but perform phase shift transformation instead of the NOT operation:\n",
    "\n",
    "$$\n",
    "    |00\\rangle \\mapsto |00\\rangle \\qquad |01\\rangle \\mapsto |01\\rangle \\qquad |10\\rangle \\mapsto |10\\rangle \\qquad |11\\rangle \\mapsto e^{i\\theta}|11\\rangle\n",
    "$$\n",
    "\n",
    "whose matrix representation is:\n",
    "\n",
    "$$\n",
    "    \\text{CPHASE}(\\theta) = \n",
    "    \\begin{bmatrix}\n",
    "        1 & 0 & 0 & 0 \\\\\n",
    "        0 & 1 & 0 & 0 \\\\\n",
    "        0 & 0 & 1 & 0 \\\\\n",
    "        0 & 0 & 0 & e^{i\\theta}\n",
    "    \\end{bmatrix}\n",
    "$$\n",
    "\n",
    "This can be achieved by adding a phase shift gate on the control wire before an $\\text{CR}_z$ gate:\n",
    "\n",
    "$$\n",
    "    \\begin{align*}\n",
    "       \\text{CPHASE}(\\theta) = \n",
    "        &= \\left(P\\left(\\frac{\\theta}{2}\\right)\\otimes I\\right) \\left(I \\otimes P\\left(\\frac{\\theta}{2}\\right)\\right) \\ \\text{CNOT}\\ \\left(I \\otimes P\\left(-\\frac{\\theta}{2}\\right)\\right) \\ \\text{CNOT} \\\\\n",
    "    \\end{align*}\n",
    "$$\n",
    "\n",
    "The circuit diagram is as follows:"
   ]
  },
  {
   "cell_type": "code",
   "execution_count": 63,
   "id": "a88a5c64",
   "metadata": {},
   "outputs": [
    {
     "name": "stdout",
     "output_type": "stream",
     "text": [
      "[[1.        +0.j         0.        +0.j         0.        +0.j\n",
      "  0.        +0.j        ]\n",
      " [0.        +0.j         1.        +0.j         0.        +0.j\n",
      "  0.        +0.j        ]\n",
      " [0.        +0.j         0.        +0.j         1.        +0.j\n",
      "  0.        +0.j        ]\n",
      " [0.        +0.j         0.        +0.j         0.        +0.j\n",
      "  0.92387953+0.38268343j]]\n"
     ]
    },
    {
     "data": {
      "text/plain": [
       "array([[1.        +0.j        , 0.        +0.j        ],\n",
       "       [0.        +0.j        , 0.92387953+0.38268343j]])"
      ]
     },
     "execution_count": 63,
     "metadata": {},
     "output_type": "execute_result"
    }
   ],
   "source": [
    "theta = pi/8\n",
    "print(kron(P(theta/2), I2) @ kron(I2, P(theta/2)) @ CNOT @ kron(I2, P(-theta/2)) @ CNOT)\n",
    "P(pi/8)"
   ]
  },
  {
   "cell_type": "code",
   "execution_count": 64,
   "id": "8050503f",
   "metadata": {},
   "outputs": [
    {
     "data": {
      "image/png": "[encoded data removed]",
      "text/plain": [
       "<Figure size 327.252x144.48 with 1 Axes>"
      ]
     },
     "execution_count": 64,
     "metadata": {},
     "output_type": "execute_result"
    }
   ],
   "source": [
    "qc = QuantumCircuit(2)\n",
    "theta = pi/42\n",
    "qc.p(theta/2, 0)\n",
    "qc.p(theta/2, 1)\n",
    "qc.cnot(0, 1)\n",
    "qc.p(-theta/2, 1)\n",
    "qc.cnot(0, 1)\n",
    "qc.draw(output='mpl')"
   ]
  },
  {
   "cell_type": "code",
   "execution_count": 65,
   "id": "bdf48fb6",
   "metadata": {},
   "outputs": [
    {
     "data": {
      "image/png": "[encoded data removed]",
      "text/plain": [
       "<Figure size 989.597x385.28 with 1 Axes>"
      ]
     },
     "execution_count": 65,
     "metadata": {},
     "output_type": "execute_result"
    }
   ],
   "source": [
    "qc = QuantumCircuit(6)\n",
    "qc.cnot(2, 3)\n",
    "qc.cnot(3, 2)\n",
    "qc.cnot(2, 3)\n",
    "qc.cnot(3, 4)\n",
    "qc.cnot(4, 3)\n",
    "qc.cnot(3, 4)\n",
    "qc.cnot(4, 5)\n",
    "qc.cnot(5, 4)\n",
    "qc.cnot(4, 5)\n",
    "qc.cnot(3, 4)\n",
    "qc.cnot(4, 3)\n",
    "qc.cnot(3, 4)\n",
    "qc.cnot(2, 3)\n",
    "qc.cnot(3, 2)\n",
    "qc.cnot(2, 3)\n",
    "qc.draw(output='mpl')"
   ]
  },
  {
   "cell_type": "markdown",
   "id": "648498e3",
   "metadata": {},
   "source": [
    "Now we are done with the non-atomic gates! To enable them in the circuits, we would like to write some precompiling tools to convert the gates to those in the universal gate set (i.e. the Hadamard, phase shift, and CNOT gates):"
   ]
  },
  {
   "cell_type": "code",
   "execution_count": 66,
   "id": "fdaa3377",
   "metadata": {},
   "outputs": [],
   "source": [
    "def convert_pauli_x(i):\n",
    "    return [\n",
    "        ['H', i],\n",
    "        ['P', i, pi],\n",
    "        ['H', i]\n",
    "    ]\n",
    "\n",
    "def convert_pauli_y(i):\n",
    "    return [\n",
    "        ['P', i, pi/2],\n",
    "        *convert_pauli_x(i),\n",
    "        ['P', i, -pi/2]\n",
    "    ]\n",
    "\n",
    "def convert_pauli_z(i):\n",
    "    return [\n",
    "        ['P', i, pi]\n",
    "    ]\n",
    "\n",
    "def convert_rotation_x(theta, i):\n",
    "    arg = theta / 2\n",
    "    return [\n",
    "        ['H', i],\n",
    "        *convert_pauli_x(i),\n",
    "        ['P', i, -arg],\n",
    "        *convert_pauli_x(i),\n",
    "        ['P', i, arg],\n",
    "        ['H', i]\n",
    "    ]\n",
    "\n",
    "def convert_rotation_y(theta, i):\n",
    "    arg = theta / 2\n",
    "    return [\n",
    "        ['P', i, pi/2],\n",
    "        ['H', i],\n",
    "        ['P', i, -arg],\n",
    "        *convert_pauli_x(i),\n",
    "        ['P', i, arg],\n",
    "        ['H', i],\n",
    "        ['P', i, -pi/2]\n",
    "    ]\n",
    "\n",
    "def convert_rotation_z(theta, i):\n",
    "    arg = theta / 2\n",
    "    return [\n",
    "        ['P', i, arg],\n",
    "        *convert_pauli_x(i),\n",
    "        ['P', i, -arg],\n",
    "        *convert_pauli_x(i)\n",
    "    ]\n",
    "\n",
    "# we use swap to implement long-range CNOT under the hood (I've coded that in python)\n",
    "# in real quantum computers, CNOT is more fundamental, so let's suppose the following can be done atomically\n",
    "def convert_swap(i, j):\n",
    "    return [\n",
    "        ['CNOT', i, j],\n",
    "        ['CNOT', j, i],\n",
    "        ['CNOT', i, j]\n",
    "    ]\n",
    "\n",
    "def convert_controlled_rotation_x(theta, ctrl, i):\n",
    "    arg = theta / 2\n",
    "    return [\n",
    "        ['H', i],\n",
    "        ['CNOT', ctrl, i],\n",
    "        ['P', i, -arg],\n",
    "        ['CNOT', ctrl, i],\n",
    "        ['P', i, arg],\n",
    "    ]\n",
    "\n",
    "def convert_controlled_rotation_y(theta, ctrl, i):\n",
    "    arg = theta / 2\n",
    "    return [\n",
    "        ['P', i, pi/2],\n",
    "        ['H', i],\n",
    "        ['P', i, -arg],\n",
    "        ['CNOT', ctrl, i],\n",
    "        ['P', i, arg],\n",
    "        ['P', i, -pi/2]\n",
    "    ]\n",
    "\n",
    "def convert_controlled_rotation_z(theta, ctrl, i):\n",
    "    arg = theta / 2\n",
    "    return [\n",
    "        ['P', i, arg],\n",
    "        ['CNOT', ctrl, i],\n",
    "        ['P', i, -arg],\n",
    "        ['CNOT', ctrl, i]\n",
    "    ]\n",
    "\n",
    "def convert_controlled_phase(theta, ctrl, i):\n",
    "    arg = theta / 2\n",
    "    return [\n",
    "        ['P', ctrl, arg],\n",
    "        *convert_controlled_rotation_z(theta, ctrl, i)\n",
    "    ]\n",
    "\n",
    "def precompile(code):\n",
    "    def translate(gate):\n",
    "        name = gate[0]\n",
    "        arg1 = gate[1]\n",
    "        if name == 'X':\n",
    "            return convert_pauli_x(arg1)\n",
    "        elif name == 'Y':\n",
    "            return convert_pauli_y(arg1)\n",
    "        elif name == 'Z':\n",
    "            return convert_pauli_z(arg1)\n",
    "        elif name == 'RX':\n",
    "            return convert_rotation_x(eval(gate[2]), arg1)\n",
    "        elif name == 'RY':\n",
    "            return convert_rotation_y(eval(gate[2]), arg1)\n",
    "        elif name == 'RZ':\n",
    "            return convert_rotation_z(eval(gate[2]), arg1)\n",
    "        elif name == 'SWAP':\n",
    "            return convert_swap(arg1, gate[2])\n",
    "        elif name == 'CRX':\n",
    "            return convert_controlled_rotation_x(eval(gate[3]), arg1, gate[2])\n",
    "        elif name == 'CRY':\n",
    "            return convert_controlled_rotation_y(eval(gate[3]), arg1, gate[2])\n",
    "        elif name == 'CRZ':\n",
    "            return convert_controlled_rotation_z(eval(gate[3]), arg1, gate[2])\n",
    "        elif name == 'CPHASE':\n",
    "            return convert_controlled_phase(eval(gate[3]), arg1, gate[2])\n",
    "        else:\n",
    "            return [gate]\n",
    "    \n",
    "    return flatten([translate(gate) for gate in code])"
   ]
  },
  {
   "cell_type": "code",
   "execution_count": 67,
   "id": "d12d7d0b",
   "metadata": {},
   "outputs": [
    {
     "name": "stdout",
     "output_type": "stream",
     "text": [
      "9\n",
      "H 0 \n",
      "P 0 0.15 \n",
      "P 5 0.15 \n",
      "CNOT 0 5 \n",
      "P 5 -0.15 \n",
      "CNOT 0 5 \n",
      "P 1 0.3 \n",
      "CNOT 4 7 \n",
      "CNOT 2 8 \n",
      "CNOT 8 2 \n",
      "CNOT 2 8 \n",
      "\n"
     ]
    }
   ],
   "source": [
    "w, circ = read_circuit_file('./data/3.circuit')\n",
    "print(write_circuit_text(w, precompile(circ)))"
   ]
  },
  {
   "cell_type": "code",
   "execution_count": 68,
   "id": "cfa29c57",
   "metadata": {},
   "outputs": [
    {
     "data": {
      "text/plain": [
       "[['H', 10], ['P', 10, 3.141592653589793], ['H', 10]]"
      ]
     },
     "execution_count": 68,
     "metadata": {},
     "output_type": "execute_result"
    }
   ],
   "source": [
    "convert_pauli_x(10)"
   ]
  },
  {
   "cell_type": "markdown",
   "id": "29525848",
   "metadata": {},
   "source": [
    "## Phase Estimation [🔝](#table-of-contents) <a name=\"phase-estimation\"></a>"
   ]
  },
  {
   "cell_type": "markdown",
   "id": "42f48de7",
   "metadata": {},
   "source": [
    "### Introduction [🔝](#table-of-contents) <a name=\"introduction\"></a>\n",
    "\n",
    "From now on, we'll aim at implementing an efficient algorithm with a quantum computer. It is still slow, though, with a quantum simulator; but if we do have a quantum computer, it will be boosted exponentially. It's called the **Shor's algorithm**, which is design for factoring numbers. We will get to that at last. For now, we'll focus on a sub-algorithm, **phase estimation**, of the Shor's Algorithm, which is also the critical part where the quantum computer helps the most.\n",
    "\n",
    "Recall that we can use a unitary matrix $U$ to represent a quantum circuit. Suppose $\\lambda$ is its eigenvalue, namely:\n",
    "\n",
    "$$\n",
    "    U|\\Psi\\rangle = \\lambda|\\Psi\\rangle  \\tag{*}\n",
    "$$\n",
    "\n",
    "for some eigenvector $\\Psi$, then also we have:\n",
    "\n",
    "$$\n",
    "    \\langle \\Psi|U^\\dagger = \\langle\\Psi|\\lambda^* \\tag{**}\n",
    "$$\n",
    "\n",
    "where $\\lambda^*$ is the complex conjugate of $\\lambda$. $(*)$ and $(**)$ lead to\n",
    "\n",
    "$$\n",
    "    \\langle\\Psi|\\Psi\\rangle = \\langle U^\\dagger U\\rangle = \\langle \\lambda^*\\lambda\\rangle = |\\lambda|^2\\langle \\Psi|\\Psi\\rangle\n",
    "$$\n",
    "\n",
    "Therefore, the eigenvalue of a unitary matrix is always **unimodular**, i.e. having absolute value of $1$. Considering that $\\lambda$ is a complex number, we can simply write it in the form of $e^{i\\theta}$. By convention, we will instead use the following form:\n",
    "\n",
    "$$\n",
    "    \\lambda = e^{2\\pi i\\theta}\n",
    "$$\n",
    "\n",
    "so that $\\theta$ is a value between $0$ and $1$. Back to phase estimation. Our task is to take an eigenvector $\\Psi$ of $U$ and return the $\\theta$ given above. The circuit will be something like:"
   ]
  },
  {
   "cell_type": "code",
   "execution_count": 69,
   "id": "4eecee00",
   "metadata": {},
   "outputs": [
    {
     "data": {
      "image/png": "[encoded data removed]",
      "text/plain": [
       "<Figure size 284.069x445.48 with 1 Axes>"
      ]
     },
     "execution_count": 69,
     "metadata": {},
     "output_type": "execute_result"
    }
   ],
   "source": [
    "qr = QuantumRegister(4, 'q')\n",
    "qr2 = QuantumRegister(3, 'psi')\n",
    "qc = QuantumCircuit(qr, qr2)\n",
    "pe = Gate(name='Phase Estimation', num_qubits=7, params=[])\n",
    "qc.append(pe, [qr[0], qr[1], qr[2], qr[3], qr2[0], qr2[1], qr2[2]])\n",
    "qc.draw(output='mpl')"
   ]
  },
  {
   "cell_type": "markdown",
   "id": "6261595c",
   "metadata": {},
   "source": [
    "The $|\\Psi\\rangle$ (\"psi\") above is the eigenvector of our unitary matrix. The input $|q\\rangle$ is not important, but we plan to use $|0\\rangle$. At the right side, the eigenvector will keep unchanged, while $|q\\rangle$ will be magically converted to $|\\theta\\rangle$.\n",
    "\n",
    "Let's start with the most simple case, where $U$ is just a single phase gate $P(\\varphi)$. It's easy to get the eigenvalues $e^{2\\pi\\theta}$ with $\\theta_0 = 0$ and $\\theta_1 = \\varphi/2\\pi$. However, the accuracy of $\\theta_0, \\theta_1$ depends on the count of wires we have at the top. If there's only one qubit, the output is but whether $\\theta$ is close to $0$ or $1$. Let's check this first:"
   ]
  },
  {
   "cell_type": "code",
   "execution_count": 70,
   "id": "de195dec",
   "metadata": {},
   "outputs": [
    {
     "data": {
      "image/png": "[encoded data removed]",
      "text/plain": [
       "<Figure size 374.841x144.48 with 1 Axes>"
      ]
     },
     "execution_count": 70,
     "metadata": {},
     "output_type": "execute_result"
    }
   ],
   "source": [
    "qr = QuantumRegister(1, 'q')\n",
    "qr_psi = QuantumRegister(1, 'psi')\n",
    "qc = QuantumCircuit(qr, qr_psi)\n",
    "qc.h(0)\n",
    "qc.cp(pi/42, 0, 1)\n",
    "qc.h(0)\n",
    "qc.draw(output='mpl', initial_state=True)"
   ]
  },
  {
   "cell_type": "markdown",
   "id": "30a90b52",
   "metadata": {},
   "source": [
    "We can improve the accuracy by adding qubits on the top. When there are 2 qubits, we can return whether $\\theta$ is close to $0$, $1/4$, $1/2$, and $3/4$, respectively:"
   ]
  },
  {
   "cell_type": "code",
   "execution_count": 71,
   "id": "433ecc28",
   "metadata": {},
   "outputs": [
    {
     "data": {
      "image/png": "[encoded data removed]",
      "text/plain": [
       "<Figure size 796.241x204.68 with 1 Axes>"
      ]
     },
     "execution_count": 71,
     "metadata": {},
     "output_type": "execute_result"
    }
   ],
   "source": [
    "qr = QuantumRegister(2, 'q')\n",
    "qr_psi = QuantumRegister(1, 'psi')\n",
    "qc = QuantumCircuit(qr, qr_psi)\n",
    "qc.h(0)\n",
    "qc.h(1)\n",
    "qc.cp(pi/42, 1, 2)\n",
    "qc.cp(pi/42, 0, 2)\n",
    "qc.cp(pi/42, 0, 2)\n",
    "qc.h(0)\n",
    "qc.cp(-pi/2, 0, 1)\n",
    "qc.h(1)\n",
    "qc.draw(output='mpl', initial_state=True)"
   ]
  },
  {
   "cell_type": "markdown",
   "id": "64c3455a",
   "metadata": {},
   "source": [
    "If we go even further and become general, like when there are 4 qubits on the top and 3 qubits at the bottom, we will get something like:"
   ]
  },
  {
   "cell_type": "code",
   "execution_count": 72,
   "id": "1b5d2e33",
   "metadata": {},
   "outputs": [
    {
     "data": {
      "image/png": "[encoded data removed]",
      "text/plain": [
       "<Figure size 628.912x445.48 with 1 Axes>"
      ]
     },
     "execution_count": 72,
     "metadata": {},
     "output_type": "execute_result"
    }
   ],
   "source": [
    "qr = QuantumRegister(4, 'q')\n",
    "qr_psi = QuantumRegister(3, 'psi')\n",
    "qc = QuantumCircuit(qr, qr_psi)\n",
    "u = Gate(name='U', num_qubits=3, params=[])\n",
    "u2 = Gate(name=r'U^2', num_qubits=3, params=[])\n",
    "u4 = Gate(name=r'U^4', num_qubits=3, params=[])\n",
    "u8 = Gate(name=r'U^8', num_qubits=3, params=[])\n",
    "inverse_qft = Gate(name='Inverse QFT', num_qubits=4, params=[])\n",
    "qc.h(0)\n",
    "qc.h(1)\n",
    "qc.h(2)\n",
    "qc.h(3)\n",
    "qc.append(ControlledGate(name='', num_qubits=4, params=[], base_gate=u), [3, 4, 5, 6])\n",
    "qc.append(ControlledGate(name='', num_qubits=4, params=[], base_gate=u2), [2, 4, 5, 6])\n",
    "qc.append(ControlledGate(name='', num_qubits=4, params=[], base_gate=u4), [1, 4, 5, 6])\n",
    "qc.append(ControlledGate(name='', num_qubits=4, params=[], base_gate=u8), [0, 4, 5, 6])\n",
    "qc.append(inverse_qft, [0, 1, 2, 3])\n",
    "qc.draw(output='mpl', initial_state=True)"
   ]
  },
  {
   "cell_type": "markdown",
   "id": "3561b371",
   "metadata": {},
   "source": [
    "We can find an obvious pattern from above: The input qubits go through Hadamard gates each, and the results are used as control of phase shift operations on the eigenvector. Later, the **inverse quantum Fourier Transform** takes place and output the $\\theta$ we need. We'll now figure out what's happening in that module."
   ]
  },
  {
   "cell_type": "markdown",
   "id": "ed5a8e6a",
   "metadata": {},
   "source": [
    "### Algorithm Walk-through [🔝](#table-of-contents) <a name=\"algorithm-walk-through\"></a>\n",
    "\n",
    "In this section, let's look at the phase estimation algorithm carefully. Suppose our initial state (the input) is $|\\psi_0\\rangle$, which is compose of:\n",
    "\n",
    "$$\n",
    "    |\\psi'\\rangle = |0\\rangle^{\\otimes n}|\\psi\\rangle\n",
    "$$\n",
    "\n",
    "Here the superscript $\\otimes n$ is a shorthand for kronecker power; $|\\psi\\rangle$ is the eigenvector we use as the lower input. After performing Hadamard transformation on the top zeros, we will get:\n",
    "\n",
    "$$\n",
    "    |\\psi''\\rangle = \\frac{1}{2^{n/2}}(|0\\rangle + |1\\rangle)^{\\otimes n}|\\psi\\rangle\n",
    "$$\n",
    "\n",
    "Then, we perform the controlled unitary operations on each of the upper qubits. Recall that $\\psi$ is the eigenvector, so $U|\\psi\\rangle$ always results in $e^{2\\pi i \\theta}|\\psi\\rangle$. The result is then calculated as follows:\n",
    "\n",
    "$$\n",
    "    \\begin{align*}\n",
    "        |\\psi'''\\rangle\n",
    "        &= \\frac{1}{2^{n/2}}\\left(|0\\rangle + e^{2\\pi i\\theta 2^0}|1\\rangle\\right) \\otimes ... \\otimes \\left(|0\\rangle + e^{2\\pi i\\theta 2^{n-1}}|1\\rangle\\right) \\otimes |\\psi\\rangle \\\\\n",
    "        &= \\frac{1}{2^{n/2}}\\sum_{k=0}^{2^n-1}e^{2\\pi i\\theta k}|k\\rangle \\otimes |\\psi\\rangle\n",
    "    \\end{align*}\n",
    "$$\n",
    "\n",
    "Here $k$ denotes the integers in the binary form.\n",
    "\n",
    "The **quantum Fourier transform (QFT)** maps a state $|\\psi\\rangle = \\sum_{j=0}^{N-1} \\psi_j|j\\rangle$ to a new one $|\\psi'\\rangle = \\sum_{k=0}^{N-1} \\psi_k|k\\rangle$ according to the following formula:\n",
    "\n",
    "$$\n",
    "    \\psi'_k = \\frac{1}{\\sqrt{N}}\\sum_{j=0}^{N-1}\\omega_N^{jk}\\psi_j\n",
    "$$\n",
    "\n",
    "where $\\omega_N^{jk} = e^{2\\pi ijk/N}$ (the subscript $N$ is sometimes omitted for conciseness). Note that the $N$ here is the max number of states we can have, i.e. $2^w$, where $w$ is the number of qubits. It's equivalent matrix form is:\n",
    "\n",
    "$$\n",
    "    U_\\text{QFT} = \\frac{1}{\\sqrt{N}}\\sum_{j=0}^{N-1}\\sum_{k=0}^{N-1} \\omega_N^{jk}|k\\rangle\\langle j|\n",
    "$$\n",
    "\n",
    "We can write down this matrix explicitly:\n",
    "\n",
    "$$\n",
    "    U_\\text{QFT} = \n",
    "    \\frac{1}{\\sqrt{N}}\n",
    "    \\begin{bmatrix}\n",
    "        1 & 1 & 1 & \\dots & 1 \\\\\n",
    "        1 & \\omega & \\omega^2 & \\dots & \\omega^{N-1} \\\\\n",
    "        1 & \\omega^2 & \\omega^4 & \\dots & \\omega^{2(N - 1)} \\\\\n",
    "        \\vdots & \\vdots & \\vdots & \\ddots & \\vdots \\\\\n",
    "        1 & \\omega^{N-1} & \\omega^{2(N-1)} & \\dots & \\omega^{(N-1)(N-1)}\n",
    "    \\end{bmatrix}\n",
    "$$\n",
    "\n",
    "In practice, we sometimes use the **inverse QFT** defined similarly to QFT:\n",
    "\n",
    "$$\n",
    "    \\psi'_k = \\frac{1}{\\sqrt{N}}\\sum_{j=0}^{N-1}\\omega_N^{-jk}\\psi_j\n",
    "$$\n",
    "\n",
    "with the corresponding matrix form:\n",
    "\n",
    "$$\n",
    "    U_\\text{IQFT} = \n",
    "    \\frac{1}{\\sqrt{N}}\n",
    "    \\begin{bmatrix}\n",
    "        1 & 1 & 1 & \\dots & 1 \\\\\n",
    "        1 & \\omega^{-1} & \\omega^{-2} & \\dots & \\omega^{-(N-1)} \\\\\n",
    "        1 & \\omega^{-2} & \\omega^{-4} & \\dots & \\omega^{-2(N - 1)} \\\\\n",
    "        \\vdots & \\vdots & \\vdots & \\ddots & \\vdots \\\\\n",
    "        1 & \\omega^{-(N-1)} & \\omega^{-2(N-1)} & \\dots & \\omega^{-(N-1)(N-1)}\n",
    "    \\end{bmatrix}\n",
    "$$\n",
    "\n",
    "It's probably not surprising that $U_\\text{IQFT} = U_\\text{QFT}^{-1}$ (you can quickly tell that from their matrix definition), that's also why it's named \"inverse\" QFT.\n",
    "\n",
    "Okay, but what does everything above mean? Let's see what happens if we apply $U_\\text{IQFT}$ on the upper register of $|\\psi'''\\rangle$:\n",
    "\n",
    "$$\n",
    "    \\begin{align*}\n",
    "        |\\psi''''\\rangle \n",
    "        &= \\left(U_\\text{IQFT}\\frac{1}{2^{n/2}}\\sum_{k=0}^{2^n-1}e^{2\\pi i\\theta k}|k\\rangle\\right) \\otimes |\\psi\\rangle \\\\\n",
    "        &= \\frac{1}{N}\\left(\\sum_{x=0}^{N-1}\\sum_{k=0}^{N-1}\\omega_N^{-k(x - N\\theta)}|x\\rangle\\right)\\otimes |\\psi\\rangle \\\\\n",
    "        &= \\frac{1}{2^n}\\sum_{x=0}^{2^n-1}\\sum_{k=0}^{2^n-1}e^{-\\frac{2\\pi ik}{2^n}(x - 2^n\\theta)}|x\\rangle \\otimes |\\psi\\rangle\n",
    "    \\end{align*}\n",
    "$$\n",
    "\n",
    "Now, recall that $\\theta$ is within $[0, 1]$, and in binary base, a fraction can be represented as a sequence of $0$'s and $1$'s after the dot. When we multiply $\\theta$ by $2^n$, we get something like $10(...)010.01(...)01$, which can be rounded as $a$ so that $2^n\\theta = a + 2^n\\delta$ where $a$ is an integer and $2^n|\\delta|$ is between $[0, 0.5]$. This implies that $\\delta$ is closest to $a/2^n$ among all multiples of $1/2^n$. In the same sense, we can write the final state $|\\psi''''\\rangle$ as:\n",
    "\n",
    "$$\n",
    "    |\\psi''''\\rangle \n",
    "    = \\frac{1}{2^n}\\sum_{x=0}^{2^n-1}\\sum_{k=0}^{2^n-1}e^{-\\frac{2\\pi ik}{2^n}(x-a)}e^{2\\pi i\\delta k} |x\\rangle \\otimes |\\psi\\rangle\n",
    "$$\n",
    "\n",
    "Finally, we need to show that in the final state, the integer $|a\\rangle$ will have the most probability among the $2^n$ possibilities (we omit the lower qubits):\n",
    "\n",
    "$$\n",
    "    \\begin{align*}\n",
    "        P(a)\n",
    "        &= \\left|\\left\\langle a\\left| \\frac{1}{2^n}\\sum_{x=0}^{2^n-1}\\sum_{k=0}^{2^n-1}e^{-\\frac{2\\pi ik}{2^n}(x-a)}e^{2\\pi i\\delta k} \\right| x \\right\\rangle\\right|^2 \\\\\n",
    "        &= \\frac{1}{2^{2n}}\\left|\\sum_{k=0}^{2^{2n}-1}e^{2\\pi i\\delta k}\\right|^2 \\\\\n",
    "        &= \\begin{cases}\n",
    "            1 & \\delta = 0 \\\\\n",
    "            \\dfrac{1}{2^{2n}}\\left|\\dfrac{1 - e^{2\\pi i2^n\\delta}}{1-e^{2\\pi i\\delta}}\\right|^2 & \\delta \\ne 0\n",
    "        \\end{cases}\n",
    "    \\end{align*}\n",
    "$$\n",
    "\n",
    "We can see that if $2^n\\theta$ is an integer, the output will be $|2^n\\theta\\rangle \\otimes |\\psi\\rangle$. Otherwise, we can get the greatest lower bound of the probability:\n",
    "\n",
    "$$\n",
    "    \\begin{align*}\n",
    "        P(a)\n",
    "        &= \\frac{1}{2^{2n}}\\left|\\frac{1 - e^{2\\pi i2^n\\delta}}{1-e^{2\\pi i\\delta}}\\right|^2 \\\\\n",
    "        &= \\frac{1}{2^{2n}}\\left|\\frac{\\sin(\\pi 2^n\\delta)}{\\sin \\pi \\delta}\\right|^2 \\tag{$|1-e^{2ix}| = 4|\\sin x|^2$} \\\\\n",
    "        &\\ge \\frac{1}{2^{2n}}\\frac{|2\\cdot 2^n\\delta|}{|\\pi\\delta|^2} \\tag{$|2\\cdot 2^{n}\\delta| \\le |\\sin(\\pi 2^n\\delta)|$ when $|\\delta| \\le \\frac{1}{2^{n+1}}$} \\\\\n",
    "        &\\ge \\frac{4}{\\pi^2} \\approx 0.405\n",
    "    \\end{align*}\n",
    "$$\n",
    "\n",
    "This... is not perfect, since we cannot guarantee $|a\\rangle$ has the highest probability, but it should be at least in the second place. The good news is that, if we increase the number of qubits, the accuracy will be improved. For any $\\epsilon \\in [0, 1]$, we need $O(\\log(1/\\epsilon))$ number of qubits to assure $P(a) \\ge 1-\\epsilon$ in the probability evaluation<sup>[\\[2\\]][2]</sup>.\n",
    "\n",
    "[2]: https://arxiv.org/abs/quant-ph/9708016"
   ]
  },
  {
   "cell_type": "markdown",
   "id": "e62760c2",
   "metadata": {},
   "source": [
    "### Controlled Unitary Gate <a name=\"controlled-unitary-gate\"></a>\n",
    "\n",
    "There's one thing left. We've used the controlled unitary gates to attach phases to the top register; however, how is that possible? Can we write a general formula for the controlled unitary gates regardless of the unitary gates we have? Good news is that there is a way to do this, but with extra wires (in specific, the same number of wires as the eigenstate).\n",
    "\n",
    "Our main idea is to swap the wires with the auxiliary wires before the unitary matrix, and swap them back after. What we need is called a **Controlled Swap Gate**, i.e. $\\text{CSWAP}$. To build it up, we need some preparation.\n",
    "\n",
    "First let's use a simple notation for $\\frac{\\pi}{4}$ phase shift:\n",
    "\n",
    "$$\n",
    "    T = P\\left(\\frac{\\pi}{4}\\right)\n",
    "    = \\begin{bmatrix}\n",
    "        1 & 0 \\\\ 0 & e^{i\\frac{\\pi}{4}}\n",
    "    \\end{bmatrix}\n",
    "$$\n",
    "\n",
    "The **Toffoli Gate**, or $\\text{CCNOT}$ gate is a Pauli-X gate controlled by two qubits. The target qubit is flipped if and only if both control qubits are $1$. The matrix representation is:\n",
    "\n",
    "$$\n",
    "    \\text{CCNOT} = \n",
    "    \\begin{bmatrix}\n",
    "        1 & 0 & 0 & 0 & 0 & 0 & 0 & 0 \\\\\n",
    "        0 & 1 & 0 & 0 & 0 & 0 & 0 & 0 \\\\\n",
    "        0 & 0 & 1 & 0 & 0 & 0 & 0 & 0 \\\\\n",
    "        0 & 0 & 0 & 1 & 0 & 0 & 0 & 0 \\\\\n",
    "        0 & 0 & 0 & 0 & 1 & 0 & 0 & 0 \\\\\n",
    "        0 & 0 & 0 & 0 & 0 & 1 & 0 & 0 \\\\\n",
    "        0 & 0 & 0 & 0 & 0 & 0 & 0 & 1 \\\\\n",
    "        0 & 0 & 0 & 0 & 0 & 0 & 1 & 1 \\\\\n",
    "    \\end{bmatrix}\n",
    "$$\n",
    "\n",
    "Long story short, a Toffoli gate can be decomposed into our universal gates. The matrix form is just too messy, so let's look at the circuit:"
   ]
  },
  {
   "cell_type": "code",
   "execution_count": 73,
   "id": "54d842f5",
   "metadata": {},
   "outputs": [
    {
     "data": {
      "image/png": "[encoded data removed]",
      "text/plain": [
       "<Figure size 748.797x204.68 with 1 Axes>"
      ]
     },
     "execution_count": 73,
     "metadata": {},
     "output_type": "execute_result"
    }
   ],
   "source": [
    "qc = QuantumCircuit(3)\n",
    "qc.h(2)\n",
    "qc.cx(1, 2)\n",
    "qc.tdg(2)\n",
    "qc.cx(0, 2)\n",
    "qc.t(2)\n",
    "qc.cx(1, 2)\n",
    "qc.tdg(2)\n",
    "qc.cx(0, 2)\n",
    "qc.t(1)\n",
    "qc.t(2)\n",
    "qc.cx(0, 1)\n",
    "qc.h(2)\n",
    "qc.t(0)\n",
    "qc.tdg(1)\n",
    "qc.cx(0, 1)\n",
    "qc.draw(output='mpl')"
   ]
  },
  {
   "cell_type": "markdown",
   "id": "113d5569",
   "metadata": {},
   "source": [
    "The $\\text{CSWAP}$ gate can be easily built on two \\text{CNOT}'s and a Toffoli gate:"
   ]
  },
  {
   "cell_type": "code",
   "execution_count": 74,
   "id": "1c0ae5ea",
   "metadata": {},
   "outputs": [
    {
     "data": {
      "image/png": "[encoded data removed]",
      "text/plain": [
       "<Figure size 267.197x204.68 with 1 Axes>"
      ]
     },
     "execution_count": 74,
     "metadata": {},
     "output_type": "execute_result"
    }
   ],
   "source": [
    "qc = QuantumCircuit(3)\n",
    "qc.cx(2, 1)\n",
    "qc.ccx(0, 1, 2)\n",
    "qc.cx(2, 1)\n",
    "qc.draw(output='mpl')"
   ]
  },
  {
   "cell_type": "markdown",
   "id": "9acecf1d",
   "metadata": {},
   "source": [
    "Now, an example of a controlled unitary matrix is as follows:"
   ]
  },
  {
   "cell_type": "code",
   "execution_count": 75,
   "id": "44a0ebe1",
   "metadata": {},
   "outputs": [
    {
     "data": {
      "image/png": "[encoded data removed]",
      "text/plain": [
       "<Figure size 412.548x325.08 with 1 Axes>"
      ]
     },
     "execution_count": 75,
     "metadata": {},
     "output_type": "execute_result"
    }
   ],
   "source": [
    "qr = QuantumRegister(1, 'ctrl')\n",
    "qr_psi = QuantumRegister(2, 'q')\n",
    "qr_aux = QuantumRegister(2, 'aux')\n",
    "qc = QuantumCircuit(qr, qr_psi, qr_aux)\n",
    "u = Gate(name='U', num_qubits=2, params=[])\n",
    "qc.cswap(0, 1, 3)\n",
    "qc.cswap(0, 2, 4)\n",
    "qc.append(u, [1, 2])\n",
    "qc.cswap(0, 1, 3)\n",
    "qc.cswap(0, 2, 4)\n",
    "qc.draw(output='mpl')"
   ]
  },
  {
   "cell_type": "markdown",
   "id": "bab2649f",
   "metadata": {},
   "source": [
    "Again, we need to write a script to convert all non-atomic gates to our blessed Hadamard, phase shift, and CNOT gates:"
   ]
  },
  {
   "cell_type": "code",
   "execution_count": 76,
   "id": "be4c12e9",
   "metadata": {},
   "outputs": [],
   "source": [
    "qc.h(2)\n",
    "qc.cx(1, 2)\n",
    "qc.tdg(2)\n",
    "qc.cx(0, 2)\n",
    "qc.t(2)\n",
    "qc.cx(1, 2)\n",
    "qc.tdg(2)\n",
    "qc.cx(0, 2)\n",
    "qc.t(1)\n",
    "qc.t(2)\n",
    "qc.cx(0, 1)\n",
    "qc.h(2)\n",
    "qc.t(0)\n",
    "qc.tdg(1)\n",
    "qc.cx(0, 1)\n",
    "\n",
    "def convert_toffoli(c1, c2, i):\n",
    "    arg = pi / 4\n",
    "    return [\n",
    "        ['H', i],\n",
    "        ['CNOT', c2, i],\n",
    "        ['P', i, -arg],\n",
    "        ['CNOT', c1, i],\n",
    "        ['P', i, arg],\n",
    "        ['CNOT', c2, i],\n",
    "        ['P', i, -arg],\n",
    "        ['CNOT', c1, i],\n",
    "        ['P', i, arg],\n",
    "        ['P', c2, arg],\n",
    "        ['CNOT', c1, c2],\n",
    "        ['H', i],\n",
    "        ['P', c1, arg],\n",
    "        ['P', c2, -arg],\n",
    "        ['CNOT', c1, c2]\n",
    "    ]\n",
    "\n",
    "def convert_cswap(ctrl, i, j):\n",
    "    return [\n",
    "        ['CNOT', j, i],\n",
    "        *convert_toffoli(ctrl, i, j),\n",
    "        ['CNOT', j, i]\n",
    "    ]"
   ]
  },
  {
   "cell_type": "markdown",
   "id": "8e9273e9",
   "metadata": {},
   "source": [
    "### Implementation [🔝](#table-of-contents) <a name=\"implementation\"></a>\n",
    "\n",
    "Now, we will design a quantum circuit to simulate the phase estimation algorithm. The initial Hadamard gates and phase shift matrices are easy."
   ]
  },
  {
   "cell_type": "code",
   "execution_count": 77,
   "id": "edb5fd24",
   "metadata": {},
   "outputs": [],
   "source": [
    "def convert_qft(k, offset=0):\n",
    "    if k == 1:\n",
    "        return [\n",
    "            ['H', offset]\n",
    "        ]\n",
    "    return [\n",
    "        *convert_qft(k - 1, offset + 1),\n",
    "        *[['P', offset + k - j - 1, pi/(2 ** (k - j - 1))] for j in range(0, k - 1)],\n",
    "        ['H', offset]\n",
    "    ]\n",
    "\n",
    "def convert_iqft(k, offset=0):\n",
    "    if k == 1:\n",
    "        return [\n",
    "            ['H', offset]\n",
    "        ]\n",
    "    return [\n",
    "        *convert_iqft(k - 1, offset + 1),\n",
    "        *[['P', offset + k - j - 1, -pi/(2 ** (k - j - 1))] for j in range(0, k - 1)],\n",
    "        ['H', offset]\n",
    "    ]\n",
    "\n",
    "def convert_phase_estimation(U, r1, r2):\n",
    "    k = r1 + r2\n",
    "    return [\n",
    "        *[['H', j] for j in range(0, r1)],\n",
    "        *flatten([flatten([\n",
    "            flatten([convert_cswap(r1 - j, r1 + l, k + l) for l in range(0, k)]), \n",
    "            [U for l in range(0, 2 ** j)],\n",
    "            flatten([convert_cswap(r1 - j, r1 + 1, k + l) for l in range(0, k)])]) for j in range(0, r1)]),\n",
    "        *convert_iqft(0, r1),\n",
    "        *flatten([convert_swap(j, r1 - j - 1) for j in range(0, r1 // 2)])\n",
    "    ]"
   ]
  },
  {
   "cell_type": "code",
   "execution_count": 88,
   "id": "880f333b",
   "metadata": {},
   "outputs": [
    {
     "data": {
      "text/plain": [
       "[<matplotlib.lines.Line2D at 0x2a18000aa00>]"
      ]
     },
     "execution_count": 88,
     "metadata": {},
     "output_type": "execute_result"
    },
    {
     "data": {
      "image/png": "[encoded data removed]",
      "text/plain": [
       "<Figure size 432x288 with 1 Axes>"
      ]
     },
     "metadata": {
      "needs_background": "light"
     },
     "output_type": "display_data"
    }
   ],
   "source": [
    "mlist = []\n",
    "xs = []\n",
    "for i in range(0, 100):\n",
    "    phi = 2 * pi / 100 * i\n",
    "    circ = [\n",
    "        ['H', 0],\n",
    "        *convert_controlled_phase(phi, 0, 1),\n",
    "        ['H', 0]\n",
    "    ]\n",
    "    qs = quantum_simulator_3((2, circ))\n",
    "    p = [numpy.sqrt((p * p.conj()).real) for p in qs]\n",
    "    mlist.append(max(p))\n",
    "    xs.append(phi / 2 * pi)\n",
    "plt.plot(xs, mlist)"
   ]
  },
  {
   "cell_type": "code",
   "execution_count": 721,
   "id": "ebddb72a",
   "metadata": {},
   "outputs": [
    {
     "data": {
      "text/plain": [
       "4.000500004571238"
      ]
     },
     "execution_count": 721,
     "metadata": {},
     "output_type": "execute_result"
    }
   ],
   "source": [
    "pi/0.7853"
   ]
  },
  {
   "cell_type": "code",
   "execution_count": 725,
   "id": "2d978bcd",
   "metadata": {},
   "outputs": [
    {
     "data": {
      "image/png": "[encoded data removed]",
      "text/plain": [
       "<Figure size 688.597x626.08 with 1 Axes>"
      ]
     },
     "execution_count": 725,
     "metadata": {},
     "output_type": "execute_result"
    }
   ],
   "source": [
    "draw_quantum_circuit_universal(convert_qft(10), 10)"
   ]
  },
  {
   "cell_type": "markdown",
   "id": "2cbf40b4",
   "metadata": {},
   "source": [
    "## Shor's Algorithm\n",
    "\n",
    "It's time to have some concrete algorithm! The **Shor's algorithm** is a factor finding algorithm explained in the following steps:\n",
    "\n",
    "- If it's the trivial case, e.g. the number is prime, even ($N = 2x$) or the power of some integer ($N = x^a$), we can simply get the factor $2$ (in the former case) and $x$ (in the latter case).\n",
    "- Choose a number $x$ between $(1, \\sqrt{N}]$.\n",
    "- Make sure $\\text{gcd}(x, N) = 1$, otherwise $\\text{gcd}(x, N)$ is a factor.\n",
    "- (**period finding**) Find the minimum $r$ such that $x^r \\equiv 1 (\\text{mod}\\ N)$; this is where our quantum algorithm takes place. If $r$ is odd, go find another $x$.\n",
    "- Then, $x = (x^{r/2} + 1)(x^{r/2} - 1)$, which makes $\\text{gcd}(x^{r/2} + 1, N)$ and $\\text{gcd}(x^{r/2} - 1, N)$ both factors. If $x^{r/2} \\pm 1$ are $1$ and $N$, skip them and find the next $r$ (this happens rarely).\n",
    "\n",
    "This algorithm sounds not really complicated; we can easily implement one in python:"
   ]
  },
  {
   "cell_type": "code",
   "execution_count": 499,
   "id": "0c552335",
   "metadata": {},
   "outputs": [],
   "source": [
    "def shor_classical(n):\n",
    "    def is_prime(n):\n",
    "        if n % 2 == 0 and n > 2:\n",
    "            return False\n",
    "        for i in range(3, int(numpy.sqrt(n)) + 1, 2):\n",
    "            if n % i == 0:\n",
    "                return False\n",
    "        return True\n",
    "    \n",
    "    def gcd(a, b):\n",
    "        while b:\n",
    "            a, b = b, a % b\n",
    "        return a\n",
    "    \n",
    "    def inc(dic, n):\n",
    "        if n not in dic.keys():\n",
    "            dic[n] = 1\n",
    "        else:\n",
    "            dic[n] += 1\n",
    "    \n",
    "    result = {}\n",
    "    while not is_prime(n) and n != 1:\n",
    "        if n % 2 == 0:\n",
    "            inc(result, 2)\n",
    "            n //= 2\n",
    "            continue\n",
    "        if n <= 3:\n",
    "            inc(result, n) if n == 3 else None\n",
    "            break\n",
    "        x = random.randint(2, int(numpy.sqrt(n)) + 1)\n",
    "        d = gcd(x, n)\n",
    "        if d != 1:\n",
    "            df = shor_classical(d)\n",
    "            result = { **result, **df }\n",
    "            n //= d\n",
    "            break\n",
    "        for r in range(2, n):\n",
    "            if int(x ** r) % n == 1:\n",
    "                if r % 2 == 1:\n",
    "                    break\n",
    "                tmp = x ** (r//2)\n",
    "                if tmp - 1 == 1 or tmp + 1 == n:\n",
    "                    continue\n",
    "                    \n",
    "                print('x : ' + str(x))\n",
    "                print('r : ' + str(r))\n",
    "                d1 = gcd(tmp - 1, n)\n",
    "                d2 = gcd(tmp + 1, n)\n",
    "                df1 = shor_classical(d1)\n",
    "                df2 = shor_classical(d2)\n",
    "                result = { **result, **df1 }\n",
    "                result = { **result, **df2 }\n",
    "                n //= (d1 * d2)\n",
    "    if n != 1:\n",
    "        inc(result, n)\n",
    "    return result"
   ]
  },
  {
   "cell_type": "code",
   "execution_count": 472,
   "id": "167df5f3",
   "metadata": {},
   "outputs": [
    {
     "data": {
      "text/plain": [
       "True"
      ]
     },
     "execution_count": 472,
     "metadata": {},
     "output_type": "execute_result"
    }
   ],
   "source": [
    "def is_prime(n):\n",
    "    if n % 2 == 0 and n > 2:\n",
    "        return False\n",
    "    for i in range(3, int(numpy.sqrt(n)) + 1, 2):\n",
    "        if n % i == 0:\n",
    "            return False\n",
    "    return True\n",
    "\n",
    "is_prime(10241221389718247)"
   ]
  },
  {
   "cell_type": "code",
   "execution_count": 475,
   "id": "f54bf2ff",
   "metadata": {},
   "outputs": [
    {
     "name": "stdout",
     "output_type": "stream",
     "text": [
      "Factors of 52700: \n",
      "{2: 2, 31: 1, 5: 2, 17: 1}\n",
      "Factors of 97760: \n",
      "{2: 5, 47: 1, 5: 1, 13: 1}\n",
      "Factors of 6920: \n",
      "{2: 3, 5: 1, 173: 1}\n",
      "Factors of 35972: \n",
      "{2: 2, 23: 2, 17: 1}\n",
      "Factors of 46061: \n",
      "{46061: 1}\n",
      "Factors of 36966: \n",
      "{2: 1, 3: 1, 6161: 1}\n",
      "Factors of 34443: \n",
      "{43: 1, 3: 2, 89: 1}\n",
      "Factors of 82184: \n",
      "{2: 3, 10273: 1}\n",
      "Factors of 44148: \n",
      "{2: 2, 3: 1, 13: 1, 283: 1}\n",
      "Factors of 68629: \n",
      "{11: 1, 367: 1, 17: 1}\n",
      "Wall time: 5min 47s\n"
     ]
    }
   ],
   "source": [
    "%%time\n",
    "for i in range(10):\n",
    "    n = random.randint(1000, 100000)\n",
    "    print('Factors of ' + str(n) + ': ')\n",
    "    print(shor_classical(n))"
   ]
  },
  {
   "cell_type": "code",
   "execution_count": 500,
   "id": "daa7fcc2",
   "metadata": {},
   "outputs": [
    {
     "name": "stdout",
     "output_type": "stream",
     "text": [
      "x : 5\n",
      "r : 10\n"
     ]
    },
    {
     "data": {
      "text/plain": [
       "{11: 1, 3: 1}"
      ]
     },
     "execution_count": 500,
     "metadata": {},
     "output_type": "execute_result"
    }
   ],
   "source": [
    "shor_classical(33)"
   ]
  },
  {
   "cell_type": "markdown",
   "id": "834de495",
   "metadata": {},
   "source": [
    "### Period Finding <a name=\"period-finding\"></a>\n",
    "\n",
    "Phase estimation is quite useful in the period finding step. Our goal is to find a unitary matrix $U_{x, N}$ whose eigenvalue is $r$, such that:\n",
    "\n",
    "$$\n",
    "    [x^r]_N = [1]_N\n",
    "$$\n",
    "\n",
    "From now, we will assume the number of qubits is $n = \\lceil\\log{N}\\rceil$. Then:\n",
    "\n",
    "$$\n",
    "    U|j\\rangle = \n",
    "    \\begin{cases}\n",
    "        |[jx]_N\\rangle & j < N \\\\\n",
    "        |j\\rangle & j \\ge N\n",
    "    \\end{cases}\n",
    "$$"
   ]
  },
  {
   "cell_type": "code",
   "execution_count": 497,
   "id": "65cd75ed",
   "metadata": {},
   "outputs": [
    {
     "data": {
      "text/plain": [
       "array([[1, 0, 0, 0],\n",
       "       [0, 1, 0, 0],\n",
       "       [0, 0, 1, 0],\n",
       "       [0, 0, 0, 1]])"
      ]
     },
     "execution_count": 497,
     "metadata": {},
     "output_type": "execute_result"
    }
   ],
   "source": [
    "CNOT @ CNOT"
   ]
  },
  {
   "cell_type": "code",
   "execution_count": 501,
   "id": "62d92a6b",
   "metadata": {},
   "outputs": [
    {
     "data": {
      "text/plain": [
       "3125"
      ]
     },
     "execution_count": 501,
     "metadata": {},
     "output_type": "execute_result"
    }
   ],
   "source": [
    "5 ** 5"
   ]
  },
  {
   "cell_type": "code",
   "execution_count": null,
   "id": "7c84f0a1",
   "metadata": {},
   "outputs": [],
   "source": []
  },
  {
   "cell_type": "code",
   "execution_count": null,
   "id": "6b29e5bc",
   "metadata": {},
   "outputs": [],
   "source": []
  },
  {
   "cell_type": "code",
   "execution_count": null,
   "id": "e7ad14f8",
   "metadata": {},
   "outputs": [],
   "source": []
  },
  {
   "cell_type": "code",
   "execution_count": null,
   "id": "804b8c2f",
   "metadata": {},
   "outputs": [],
   "source": []
  },
  {
   "cell_type": "code",
   "execution_count": null,
   "id": "afe33b25",
   "metadata": {},
   "outputs": [],
   "source": []
  },
  {
   "cell_type": "code",
   "execution_count": 363,
   "id": "0322afab",
   "metadata": {},
   "outputs": [
    {
     "ename": "ValueError",
     "evalue": "matmul: Input operand 1 has a mismatch in its core dimension 0, with gufunc signature (n?,k),(k,m?)->(n?,m?) (size 0 is different from 32)",
     "output_type": "error",
     "traceback": [
      "\u001b[1;31m---------------------------------------------------------------------------\u001b[0m",
      "\u001b[1;31mValueError\u001b[0m                                Traceback (most recent call last)",
      "\u001b[1;32m~\\AppData\\Local\\Temp/ipykernel_38760/1571882839.py\u001b[0m in \u001b[0;36m<module>\u001b[1;34m\u001b[0m\n\u001b[0;32m      1\u001b[0m \u001b[0mcirc\u001b[0m \u001b[1;33m=\u001b[0m \u001b[0mread_circuit_file\u001b[0m\u001b[1;33m(\u001b[0m\u001b[1;34m'./data/measure.circuit'\u001b[0m\u001b[1;33m)\u001b[0m\u001b[1;33m\u001b[0m\u001b[1;33m\u001b[0m\u001b[0m\n\u001b[1;32m----> 2\u001b[1;33m \u001b[0mqs\u001b[0m \u001b[1;33m=\u001b[0m \u001b[0mquantum_simulator_2\u001b[0m\u001b[1;33m(\u001b[0m\u001b[0mcirc\u001b[0m\u001b[1;33m)\u001b[0m\u001b[1;33m\u001b[0m\u001b[1;33m\u001b[0m\u001b[0m\n\u001b[0m\u001b[0;32m      3\u001b[0m \u001b[0mprint\u001b[0m\u001b[1;33m(\u001b[0m\u001b[0mqs\u001b[0m\u001b[1;33m)\u001b[0m\u001b[1;33m\u001b[0m\u001b[1;33m\u001b[0m\u001b[0m\n",
      "\u001b[1;32m~\\AppData\\Local\\Temp/ipykernel_38760/100901893.py\u001b[0m in \u001b[0;36mquantum_simulator_2\u001b[1;34m(circ)\u001b[0m\n\u001b[0;32m     18\u001b[0m             \u001b[0mtheta\u001b[0m \u001b[1;33m=\u001b[0m \u001b[0meval\u001b[0m\u001b[1;33m(\u001b[0m\u001b[0mg\u001b[0m\u001b[1;33m[\u001b[0m\u001b[1;36m2\u001b[0m\u001b[1;33m]\u001b[0m\u001b[1;33m)\u001b[0m     \u001b[1;31m# eval() is to allow inputs like pi/3\u001b[0m\u001b[1;33m\u001b[0m\u001b[1;33m\u001b[0m\u001b[0m\n\u001b[0;32m     19\u001b[0m             \u001b[0mi\u001b[0m \u001b[1;33m=\u001b[0m \u001b[0mint\u001b[0m\u001b[1;33m(\u001b[0m\u001b[0mg\u001b[0m\u001b[1;33m[\u001b[0m\u001b[1;36m1\u001b[0m\u001b[1;33m]\u001b[0m\u001b[1;33m)\u001b[0m\u001b[1;33m\u001b[0m\u001b[1;33m\u001b[0m\u001b[0m\n\u001b[1;32m---> 20\u001b[1;33m             \u001b[0mstate\u001b[0m \u001b[1;33m=\u001b[0m \u001b[0mphase_matrix\u001b[0m\u001b[1;33m(\u001b[0m\u001b[0mtheta\u001b[0m\u001b[1;33m,\u001b[0m \u001b[0mi\u001b[0m\u001b[1;33m+\u001b[0m\u001b[1;36m1\u001b[0m\u001b[1;33m,\u001b[0m \u001b[0mw\u001b[0m\u001b[1;33m)\u001b[0m \u001b[1;33m@\u001b[0m \u001b[0mstate\u001b[0m\u001b[1;33m\u001b[0m\u001b[1;33m\u001b[0m\u001b[0m\n\u001b[0m\u001b[0;32m     21\u001b[0m \u001b[1;33m\u001b[0m\u001b[0m\n\u001b[0;32m     22\u001b[0m         \u001b[1;32melif\u001b[0m \u001b[0mg\u001b[0m\u001b[1;33m[\u001b[0m\u001b[1;36m0\u001b[0m\u001b[1;33m]\u001b[0m \u001b[1;33m==\u001b[0m \u001b[1;34m'CNOT'\u001b[0m\u001b[1;33m:\u001b[0m\u001b[1;33m\u001b[0m\u001b[1;33m\u001b[0m\u001b[0m\n",
      "\u001b[1;31mValueError\u001b[0m: matmul: Input operand 1 has a mismatch in its core dimension 0, with gufunc signature (n?,k),(k,m?)->(n?,m?) (size 0 is different from 32)"
     ]
    }
   ],
   "source": [
    "circ = read_circuit_file('./data/measure.circuit')\n",
    "qs = quantum_simulator_2(circ)\n",
    "print(qs)"
   ]
  },
  {
   "cell_type": "code",
   "execution_count": 318,
   "id": "fc03061c",
   "metadata": {},
   "outputs": [
    {
     "name": "stdout",
     "output_type": "stream",
     "text": [
      "[ 0.70710677+0.j          0.        +0.j         -0.6324555 +0.j\n",
      "  0.        +0.j          0.        +0.j          0.        +0.31622776j\n",
      "  0.        +0.j          0.        +0.j        ]\n",
      "[((0.70710677+0j), '000'), ((-0.6324555+0j), '010'), (0.31622776j, '101')]\n"
     ]
    }
   ],
   "source": [
    "myState2=[\n",
    "  (numpy.sqrt(0.1)*1.j, '101'),\n",
    "  (numpy.sqrt(0.5), '000') ,\n",
    "  (-numpy.sqrt(0.4), '010' )\n",
    "]\n",
    "\n",
    "print(state_to_vector(myState2))\n",
    "print(vector_to_state(state_to_vector(myState2)))"
   ]
  },
  {
   "cell_type": "code",
   "execution_count": 307,
   "id": "6052b71d",
   "metadata": {},
   "outputs": [
    {
     "data": {
      "text/plain": [
       "['abc', 'acd', 'def']"
      ]
     },
     "execution_count": 307,
     "metadata": {},
     "output_type": "execute_result"
    }
   ],
   "source": [
    "a = ['abc', 'def', 'acd']\n",
    "a.sort(key=lambda s : s [1])\n",
    "a"
   ]
  },
  {
   "cell_type": "markdown",
   "id": "2e87e013",
   "metadata": {},
   "source": [
    "## Utilities\n",
    "\n",
    "There are some helpful functions I wrote to better complete this post. Run the following cells right after the import statements to ensure the validity of code above."
   ]
  },
  {
   "cell_type": "code",
   "execution_count": 9,
   "id": "cd44204d",
   "metadata": {},
   "outputs": [],
   "source": [
    "def reload_header():\n",
    "    Javascript(\"Jupyter.notebook.execute_cells([7])\")\n",
    "\n",
    "def flatten(arr):\n",
    "    return list(chain.from_iterable(arr))\n",
    "\n",
    "def binary_to_decimal(binary):\n",
    "    result = 0\n",
    "    for d in binary:\n",
    "        result = result * 2 + int(d)\n",
    "    return str(result)\n",
    "\n",
    "def decimal_to_binary(decimal, length):\n",
    "    result = bin(decimal)[2:]    # abandon the '0b' prefix\n",
    "    return '0'*(length - len(result)) + result\n",
    "\n",
    "def draw_hadamard_gate():\n",
    "    qc = QuantumCircuit(1, name='Hadamard')\n",
    "    qc.h(0)\n",
    "    return qc.draw(output='mpl')\n",
    "\n",
    "def draw_phase_gate(theta):\n",
    "    qc = QuantumCircuit(1, name='Phase')\n",
    "    qc.p(theta, 0)\n",
    "    return qc.draw(output='mpl')\n",
    "\n",
    "def draw_cnot_gate():\n",
    "    qc = QuantumCircuit(2, name='CNOT')\n",
    "    qc.cx(0, 1)\n",
    "    return qc.draw(output='mpl')\n",
    "\n",
    "def draw_tonc_gate():\n",
    "    qc = QuantumCircuit(2, name='TONC')\n",
    "    qc.cx(1, 0)\n",
    "    return qc.draw(output='mpl')\n",
    "\n",
    "def draw_pauli_x_gate():\n",
    "    qc = QuantumCircuit(1, name='Pauli-X (NOT)')\n",
    "    qc.h(0)\n",
    "    qc.z(0)\n",
    "    qc.h(0)\n",
    "    return qc.draw(output='mpl')\n",
    "\n",
    "def draw_pauli_y_gate():\n",
    "    qc = QuantumCircuit(1, name='Pauli-Y')\n",
    "    qc.p(pi/2, 0)\n",
    "    qc.x(0)\n",
    "    qc.p(-pi/2, 0)\n",
    "    return qc.draw(output='mpl')\n",
    "    \n",
    "def draw_pauli_z_gate():\n",
    "    qc = QuantumCircuit(1, name='Pauli-Z')\n",
    "    qc.p(pi, 0)\n",
    "    return qc.draw(output='mpl')\n",
    "\n",
    "def draw_rotate_x_gate():\n",
    "    qc = QuantumCircuit(1, name='Rotation-X')\n",
    "    pass\n",
    "\n",
    "def draw_rotate_y_gate():\n",
    "    pass\n",
    "\n",
    "def draw_rotate_z_gate():\n",
    "    pass\n",
    "\n",
    "def draw_qcircuit_example():\n",
    "    qc = QuantumCircuit(3)\n",
    "    qc.h(1)\n",
    "    qc.h(2)\n",
    "    qc.p(numpy.pi / 6, 2)\n",
    "    qc.cx(2, 1)\n",
    "    qc.h(1)\n",
    "    qc.h(2)\n",
    "    qc.cx(2, 0)\n",
    "    return qc.draw(output='mpl')\n",
    "\n",
    "# draw a quantum circuit using qiskit\n",
    "def draw_quantum_circuit_universal(code, k):\n",
    "    qc = QuantumCircuit(k)\n",
    "    for gate in code:\n",
    "        name = gate[0]\n",
    "        i = gate[1]\n",
    "        if name == 'H':\n",
    "            qc.h(i)\n",
    "        elif name == 'P':\n",
    "            qc.p(gate[2], i)\n",
    "        elif name == 'CNOT':\n",
    "            qc.cx(i, gate[2])\n",
    "    return qc.draw(output='mpl')\n",
    "\n",
    "# calculate I x ... x mat x ... x I\n",
    "# where `x` is the kronecker operator\n",
    "def kronecker_product(mat, i, k):\n",
    "    result = numpy.array([[1]])\n",
    "    for j in range(1, i):\n",
    "        result = numpy.kron(result, I2)\n",
    "    result = numpy.kron(result, mat)\n",
    "    for j in range(i + 1, k + 1):\n",
    "        result = numpy.kron(result, I2)\n",
    "    return result\n",
    "\n",
    "# same as `kronecker_product` but the matrix is sparse\n",
    "def kronecker_product_sparse(mat, i, k):\n",
    "    result = sparse.csr_matrix([[1]])\n",
    "    for j in range(1, i):\n",
    "        result = sparse.kron(result, I2)\n",
    "    result = sparse.kron(result, mat)\n",
    "    for j in range(i + 1, k + 1):\n",
    "        result = sparse.kron(result, I2)\n",
    "    return result\n",
    "\n",
    "# turn a numpy.matrix to a tex matrix.\n",
    "# saves me tons of time\n",
    "def matrix_to_tex(mat):\n",
    "    result = '\\\\begin{bmatrix}\\n'\n",
    "    (row_ct, col_ct) = mat.shape\n",
    "    for i in range(0, row_ct):\n",
    "        tmp = '    '\n",
    "        for j in range(0, col_ct):\n",
    "            curr = mat[i, j]\n",
    "            if math.isclose(curr, 0):\n",
    "                tmp += '0'\n",
    "            elif math.isclose(curr, 1):\n",
    "                tmp += '1'\n",
    "            elif math.isclose(curr, 1 / numpy.sqrt(2)):\n",
    "                tmp += '\\\\frac{1}{\\\\sqrt{2}}'\n",
    "            elif math.isclose(curr, -1 / numpy.sqrt(2)):\n",
    "                tmp += '-\\\\frac{1}{\\\\sqrt{2}}'\n",
    "            else:\n",
    "                tmp += str(mat[i, j])\n",
    "            tmp += ' & '\n",
    "        result += tmp[:-2] + '\\\\\\\\\\n'\n",
    "    result += '\\\\end{bmatrix}'\n",
    "    print(result)\n",
    "    \n",
    "def show_matrix_pattern(mat, black='■', blank='□'):\n",
    "    result = ''\n",
    "    (row_ct, col_ct) = mat.shape\n",
    "    for i in range(0, row_ct):\n",
    "        for j in range(0, col_ct):\n",
    "            result += blank if math.isclose(abs(mat[i, j]), 0) else black\n",
    "            result += ' '         # a half space\n",
    "        result += '\\n'\n",
    "    print(result)\n",
    "    \n",
    "def approximate(mat, l=0):\n",
    "    result = []\n",
    "    (row_ct, col_ct) = mat.shape\n",
    "    for i in range(0, row_ct):\n",
    "        result.append([])\n",
    "        for j in range(0, col_ct):\n",
    "            result[i].append(round(mat[i, j].real, l) + 1j * round(mat[i, j].imag, l))\n",
    "    return result"
   ]
  },
  {
   "cell_type": "markdown",
   "id": "71509c9b",
   "metadata": {},
   "source": [
    "Also, I defined several variables for convenience:"
   ]
  },
  {
   "cell_type": "code",
   "execution_count": 8,
   "id": "fa7957a2",
   "metadata": {},
   "outputs": [],
   "source": [
    "I2 = numpy.identity(2, dtype='complex128')\n",
    "R2 = numpy.array([[0, 1], [1, 0]], dtype='complex128')\n",
    "S2 = sparse.csr_matrix(I2)"
   ]
  },
  {
   "cell_type": "markdown",
   "id": "d06b1419",
   "metadata": {},
   "source": [
    "Other setup:"
   ]
  },
  {
   "cell_type": "code",
   "execution_count": 7,
   "id": "71a44d86",
   "metadata": {},
   "outputs": [],
   "source": [
    "path = './data/benchmark_dataset'\n",
    "if not os.path.exists(path):\n",
    "    os.makedirs(path)"
   ]
  }
 ],
 "metadata": {
  "kernelspec": {
   "display_name": "Python 3 (ipykernel)",
   "language": "python",
   "name": "python3"
  },
  "language_info": {
   "codemirror_mode": {
    "name": "ipython",
    "version": 3
   },
   "file_extension": ".py",
   "mimetype": "text/x-python",
   "name": "python",
   "nbconvert_exporter": "python",
   "pygments_lexer": "ipython3",
   "version": "3.8.12"
  }
 },
 "nbformat": 4,
 "nbformat_minor": 5
}
