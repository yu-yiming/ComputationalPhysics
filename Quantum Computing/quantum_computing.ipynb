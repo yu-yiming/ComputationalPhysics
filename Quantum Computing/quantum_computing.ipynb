{
 "cells": [
  {
   "cell_type": "markdown",
   "id": "1c358b31",
   "metadata": {},
   "source": [
    "## Dirac Notation\n",
    "\n",
    "A **qubit** is a \"quantum bit\" that owns a state of either 0 or 1. Unlike in the classical interpretaion that the bit should be either 0 or 1 exclusively at a time, a qubit can be \"partially\" 0 and partially 1. We specify the \"partially\" by a complex number called **amplitude**. For example, $|\\psi\\rangle = \\sqrt{0.2}|{0}\\rangle + i\\sqrt{0.8}|1\\rangle$ represents a legal state of a qubit, where $\\sqrt{0.2}$ and $i\\sqrt{0.8}$ are the amplitudes of state $0$ and $1$, respectively. We call this \"$|\\rangle$\" the **dirac notation**, which is widely used in quantum mechanics.\n",
    "\n",
    "Here, the certificate for a legal qubit is that the sqaures of the amplitudes sum up to $1$. There will be no surprise if you know that these factors are essentially the square roots of the probability of each state. \n",
    "\n",
    "If the state is represented by multiple qubits, we need more factors to describe the probability distribution. In gerneral it's $2^w$ factors for a $w$-qubit state. For example:\n",
    "\n",
    "$$\n",
    "    \\alpha|00\\rangle + \\beta|01\\rangle + \\gamma|10\\rangle + \\delta|11\\rangle \\quad \\alpha, \\beta, \\gamma, \\delta \\in \\mathbb{C}\n",
    "$$\n",
    "\n",
    "is the general form for 2-qubit quantum states. A concrete example may be $\\sqrt{0.1}|00\\rangle + \\sqrt{0.4}|01\\rangle -\\sqrt{0.5}|11\\rangle$. For simplicity (arguable), we can also write the bits in base 10, in which case we will have $\\sqrt{0.1}|0\\rangle + \\sqrt{0.4}|1\\rangle - \\sqrt{0.5}|3\\rangle$ for the same example.\n",
    "\n",
    "If we already have two wires each carrying one qubit of states $\\psi_1$ and $\\psi_2$, how can we get the overall state? i.e. how to get the 4 factors out of the original ones? Say $\\psi_1 = \\sqrt{0.2}|0\\rangle + \\sqrt{0.8}|1\\rangle$, $\\psi_2 = \\sqrt{0.4}|0\\rangle + \\sqrt{0.6}|1\\rangle$, the tensor product is helpful here:\n",
    "\n",
    "$$\n",
    "\\begin{align*}\n",
    "    \\psi &= \\psi_1 \\otimes \\psi_2 \\\\\n",
    "    &= (\\sqrt{0.2}|0\\rangle + \\sqrt{0.8}|1\\rangle)\\otimes(\\sqrt{0.4}|0\\rangle + \\sqrt{0.6}|1\\rangle) \\\\\n",
    "    &= \\sqrt{0.2\\times0.4}|00\\rangle + \\sqrt{0.2\\times0.6}|01\\rangle + \\sqrt{0.8\\times0.4}|10\\rangle + \\sqrt{0.8\\times0.6}|11\\rangle \\\\\n",
    "    &= \\sqrt{0.08}|00\\rangle + \\sqrt{0.12}|01\\rangle + \\sqrt{0.32}|10\\rangle + \\sqrt{0.48}|11\\rangle\n",
    "\\end{align*}\n",
    "$$\n",
    "\n",
    "Note that *not* all states can be derived from tensor products. States that can be represented as a tensor product are called **product states**. Others are called **entangled states**. An example of the latter is $\\psi = \\frac{1}{\\sqrt{2}}|01\\rangle + \\frac{1}{\\sqrt{2}}|10\\rangle$, in which case the measured results of the qubits are dependent on each other (say we get 1 for the first qubit, then it's sure the other qubit is 0)."
   ]
  },
  {
   "cell_type": "markdown",
   "id": "337c20fc",
   "metadata": {},
   "source": [
    "## Vector Notation\n",
    "\n",
    "Another notation for quantum states is the **vector notation**. Since conventially, each possible state are listed in the increasing order, we can just keep the amplitudes of each state and write them in the vector form. For example, $\\psi = \\sqrt{0.2}|0\\rangle + \\sqrt{0.8}1\\rangle$ can be equivalently written as:\n",
    "\n",
    "$$\n",
    "    \\psi = \n",
    "    \\begin{bmatrix}\n",
    "        \\sqrt{0.2} \\\\ \\sqrt{0.8}\n",
    "    \\end{bmatrix}\n",
    "$$\n",
    "\n",
    "Note that in this notation we cannot omit the items with 0 amplitude.\n",
    "\n",
    "It's natural to consider each possible state as a basic vector, so that the total state can be represented by the weighed sum of these vectors, just like how we interpret a vector in $\\mathbb{R}^k$. For example, for a $w$-qubit state where $w = 2$, we have the following basic vectors in $\\mathbb{R}^{2^w}$:\n",
    "\n",
    "$$\n",
    "    |00\\rangle =\n",
    "    \\begin{bmatrix}\n",
    "        1 \\\\ 0 \\\\ 0 \\\\ 0\n",
    "    \\end{bmatrix}\n",
    "    \\qquad\n",
    "    |01\\rangle =\n",
    "    \\begin{bmatrix}\n",
    "        0 \\\\ 1 \\\\ 0 \\\\ 0\n",
    "    \\end{bmatrix}\n",
    "    \\qquad\n",
    "    |10\\rangle =\n",
    "    \\begin{bmatrix}\n",
    "        0 \\\\ 0 \\\\ 1 \\\\ 0\n",
    "    \\end{bmatrix}\n",
    "    \\qquad\n",
    "    |11\\rangle =\n",
    "    \\begin{bmatrix}\n",
    "        0 \\\\ 0 \\\\ 0 \\\\ 1\n",
    "    \\end{bmatrix}\n",
    "$$\n",
    "\n",
    "Then, a state $\\psi = \\sqrt{0.08}|00\\rangle + \\sqrt{0.12}|01\\rangle + \\sqrt{0.32}|10\\rangle + \\sqrt{0.48}|11\\rangle$ can be written in the following vector form:\n",
    "\n",
    "$$\n",
    "\\begin{align*}\n",
    "    \\psi &= \\sqrt{0.08}|00\\rangle + \\sqrt{0.12}|01\\rangle + \\sqrt{0.32}|10\\rangle + \\sqrt{0.48}|11\\rangle \\\\\n",
    "    &=\n",
    "    \\sqrt{0.08}\\,\n",
    "    \\begin{bmatrix}\n",
    "        1 & 0 & 0 & 0\n",
    "    \\end{bmatrix}^T + \n",
    "    \\sqrt{0.12}\\,\n",
    "    \\begin{bmatrix}\n",
    "        0 & 1 & 0 & 0\n",
    "    \\end{bmatrix}^T + \n",
    "    \\sqrt{0.32}\\,\n",
    "    \\begin{bmatrix}\n",
    "        0 & 0 & 1 & 0\n",
    "    \\end{bmatrix}^T + \n",
    "    \\sqrt{0.48}\\,\n",
    "    \\begin{bmatrix}\n",
    "        0 & 0 & 0 & 1\n",
    "    \\end{bmatrix} \\\\\n",
    "    &= \n",
    "    \\begin{bmatrix}\n",
    "        0.08 & 0.12 & 0.32 & 0.48\n",
    "    \\end{bmatrix}^T\n",
    "\\end{align*}\n",
    "$$\n",
    "\n",
    "Earlier we've said that the square sum of all amplitudes should be $1$, this can be formally expressed in mathematical form:\n",
    "\n",
    "$$\n",
    "    \\langle \\psi|\\psi\\rangle = |\\psi\\rangle(|\\psi\\rangle^T)^* = 1\n",
    "$$\n",
    "\n",
    "\n",
    "We will find vectors very helpful later when doing calculations."
   ]
  },
  {
   "cell_type": "markdown",
   "id": "f34194df",
   "metadata": {},
   "source": [
    "## Simulating Qubits\n",
    "\n",
    "We will use data structures in python to simulate qubits. Let's first import some useful packages:"
   ]
  },
  {
   "cell_type": "code",
   "execution_count": 1,
   "id": "3a340d9b",
   "metadata": {},
   "outputs": [],
   "source": [
    "import math\n",
    "import numpy"
   ]
  },
  {
   "cell_type": "markdown",
   "id": "094cdcac",
   "metadata": {},
   "source": [
    "A state can be expressed in the following form:"
   ]
  },
  {
   "cell_type": "code",
   "execution_count": 2,
   "id": "a3a5b460",
   "metadata": {},
   "outputs": [],
   "source": [
    "state = [\n",
    "    (numpy.sqrt(0.1), '00'),\n",
    "    (numpy.sqrt(0.4), '01'),\n",
    "    (numpy.sqrt(0.5), '11')\n",
    "]"
   ]
  },
  {
   "cell_type": "markdown",
   "id": "643430bd",
   "metadata": {},
   "source": [
    "The following function is used to print a state in the dirac notation, one in binary and one in decimal"
   ]
  },
  {
   "cell_type": "code",
   "execution_count": 3,
   "id": "f168019b",
   "metadata": {},
   "outputs": [],
   "source": [
    "def print_dirac_binary(state):\n",
    "    result = '('\n",
    "    for (p, bits) in state:\n",
    "        result += str(p) + ' |' + bits + '> + '\n",
    "    result = result[:-3] + ')'\n",
    "    print(result)\n",
    "\n",
    "def print_dirac_decimal(state):\n",
    "    def binary_to_decimal(binary):\n",
    "        result = 0\n",
    "        for d in binary:\n",
    "            result = result * 2 + int(d)\n",
    "        return str(result)\n",
    "    result = '('\n",
    "    for (p, bits) in state:\n",
    "        result += str(p) + ' |' + binary_to_decimal(bits) + '> + '\n",
    "    result = result[:-3] + ')'\n",
    "    print(result)"
   ]
  },
  {
   "cell_type": "markdown",
   "id": "104d4296",
   "metadata": {},
   "source": [
    "Here's the effect:"
   ]
  },
  {
   "cell_type": "code",
   "execution_count": 4,
   "id": "74b80478",
   "metadata": {},
   "outputs": [
    {
     "name": "stdout",
     "output_type": "stream",
     "text": [
      "(0.31622776601683794 |00> + 0.6324555320336759 |01> + 0.7071067811865476 |11>)\n",
      "(0.31622776601683794 |0> + 0.6324555320336759 |1> + 0.7071067811865476 |3>)\n"
     ]
    }
   ],
   "source": [
    "print_dirac_binary(state)\n",
    "print_dirac_decimal(state)"
   ]
  },
  {
   "cell_type": "markdown",
   "id": "07929d6b",
   "metadata": {},
   "source": [
    "We may also want to convert between states and their vector forms:"
   ]
  },
  {
   "cell_type": "code",
   "execution_count": 5,
   "id": "fd722e7e",
   "metadata": {},
   "outputs": [],
   "source": [
    "def state_to_vector(state):\n",
    "    limit = 2 ** len(state[0][1])\n",
    "    result = numpy.zeros(limit)\n",
    "    j = 0\n",
    "    for i in range(0, limit):\n",
    "        (p, bits) = state[j]\n",
    "        if i == int(bits, 2):\n",
    "            result[i] = p\n",
    "            j += 1\n",
    "        else:\n",
    "            result[i] = 0.0\n",
    "    return result\n",
    "\n",
    "def vector_to_state(vec):\n",
    "    def decimal_to_binary(decimal, length):\n",
    "        result = bin(decimal)[2:]\n",
    "        return '0'*(length - len(result)) + result\n",
    "    length = math.frexp(len(vec))[1] - 1  \n",
    "    return [(p, decimal_to_binary(i, length)) for i, p in enumerate(vec)]"
   ]
  },
  {
   "cell_type": "markdown",
   "id": "dbc0105d",
   "metadata": {},
   "source": [
    "Let's see what we've got:"
   ]
  },
  {
   "cell_type": "code",
   "execution_count": 6,
   "id": "797810d6",
   "metadata": {},
   "outputs": [
    {
     "name": "stdout",
     "output_type": "stream",
     "text": [
      "[0.31622777 0.63245553 0.         0.70710678]\n",
      "(0.31622776601683794 |00> + 0.6324555320336759 |01> + 0.0 |10> + 0.7071067811865476 |11>)\n"
     ]
    }
   ],
   "source": [
    "print(state_to_vector(state))\n",
    "print_dirac_binary(vector_to_state(state_to_vector(state)))"
   ]
  },
  {
   "cell_type": "markdown",
   "id": "9ebcc5e6",
   "metadata": {},
   "source": [
    "## Quantum Gates\n",
    "\n",
    "Just like logic gates for classical system, there are **quantum gates** that modify the states of a quantum system. Let's introduce some of them:\n",
    "\n",
    "### Hadamard\n",
    "\n",
    "The Hadamard gate operates on a single qubit with the following mapping rule:\n",
    "\n",
    "$$\n",
    "    |0\\rangle \\mapsto \\frac{1}{\\sqrt{2}}|0\\rangle + \\frac{1}{\\sqrt{2}}|1\\rangle\n",
    "    \\qquad\n",
    "    |1\\rangle \\mapsto \\frac{1}{\\sqrt{2}}|0\\rangle - \\frac{1}{\\sqrt{2}}|1\\rangle\n",
    "$$\n",
    "\n",
    "As usual, it can be represented by a matrix:\n",
    "\n",
    "$$\n",
    "    H = \\frac{1}{\\sqrt{2}}\n",
    "    \\begin{bmatrix}\n",
    "        1 & 1 \\\\ 1 & -1\n",
    "    \\end{bmatrix}\n",
    "$$\n",
    "\n",
    "For a 1-qubit state, we can apply $H$ to it to get the state after the Hadamard gate. Say $\\psi = \\sqrt{0.5}|0\\rangle + \\sqrt{0.5}|1\\rangle$, then:\n",
    "\n",
    "$$\n",
    "    H\\psi = \n",
    "    \\frac{1}{\\sqrt{2}}\n",
    "    \\begin{bmatrix}\n",
    "        1 & 1 \\\\ 1 & -1\n",
    "    \\end{bmatrix}\n",
    "    \\begin{bmatrix}\n",
    "        \\sqrt{0.5} \\\\ \\sqrt{0.5}\n",
    "    \\end{bmatrix}\n",
    "    = \n",
    "    \\begin{bmatrix}\n",
    "        1 \\\\ 0\n",
    "    \\end{bmatrix}\n",
    "    = |0\\rangle\n",
    "$$\n",
    "\n",
    "### Phase Shift Gate\n",
    "\n",
    "The phase shift gate has the following rule:\n",
    "\n",
    "$$\n",
    "    |0\\rangle \\mapsto |0\\rangle\n",
    "    \\qquad\n",
    "    |1\\rangle \\mapsto e^{i\\theta}|1\\rangle\n",
    "$$\n",
    "\n",
    "Here $\\theta$ is some given value. The matrix form is as follows:\n",
    "\n",
    "$$\n",
    "    P(\\theta) =\n",
    "    \\begin{bmatrix}\n",
    "        1 & 0 \\\\ 0 & e^{i\\theta}\n",
    "    \\end{bmatrix}\n",
    "$$\n",
    "\n",
    "### CNOT Gate\n",
    "\n",
    "The CNOT gate is a controlled gate that takes two qubits and performs NOT operation on the second qubit if the first qubit is 1:\n",
    "\n",
    "$$\n",
    "    |00\\rangle \\mapsto |00\\rangle\n",
    "    \\qquad\n",
    "    |01\\rangle \\mapsto |01\\rangle\n",
    "    \\qquad\n",
    "    |10\\rangle \\mapsto |11\\rangle\n",
    "    \\qquad\n",
    "    |11\\rangle \\mapsto |10\\rangle\n",
    "$$\n",
    "\n",
    "The matrix form of the CNOT gate is:\n",
    "\n",
    "$$\n",
    "    CNOT =\n",
    "    \\begin{bmatrix}\n",
    "        1 & 0 & 0 & 0 \\\\\n",
    "        0 & 1 & 0 & 0 \\\\\n",
    "        0 & 0 & 0 & 1 \\\\\n",
    "        0 & 0 & 1 & 0\n",
    "    \\end{bmatrix}\n",
    "$$\n",
    "\n",
    "The three gates introduced above will be our **universal gate set**, like the NAND and NOR gates among the classical gates. In other words, we can use these three gates to perform anything in quantum computing. All the gates we will learn later can be constructed from the universal gates.\n",
    "\n",
    "We can simulate these gates by defining functions:"
   ]
  },
  {
   "cell_type": "code",
   "execution_count": null,
   "id": "95229222",
   "metadata": {},
   "outputs": [],
   "source": []
  },
  {
   "cell_type": "code",
   "execution_count": 7,
   "id": "76c3f407",
   "metadata": {},
   "outputs": [
    {
     "data": {
      "text/plain": [
       "'0b1010'"
      ]
     },
     "execution_count": 7,
     "metadata": {},
     "output_type": "execute_result"
    }
   ],
   "source": [
    "bin(10)"
   ]
  },
  {
   "cell_type": "code",
   "execution_count": null,
   "id": "9da05231",
   "metadata": {},
   "outputs": [],
   "source": []
  },
  {
   "cell_type": "code",
   "execution_count": 8,
   "id": "833f25b1",
   "metadata": {},
   "outputs": [],
   "source": [
    "H = numpy.matrix([[1, 1], [1, -1]]) / numpy.sqrt(2)"
   ]
  },
  {
   "cell_type": "code",
   "execution_count": 9,
   "id": "283a6b13",
   "metadata": {},
   "outputs": [
    {
     "data": {
      "text/plain": [
       "matrix([[ 0.70710678,  0.70710678],\n",
       "        [ 0.70710678, -0.70710678]])"
      ]
     },
     "execution_count": 9,
     "metadata": {},
     "output_type": "execute_result"
    }
   ],
   "source": [
    "H"
   ]
  },
  {
   "cell_type": "code",
   "execution_count": 10,
   "id": "e89f7ced",
   "metadata": {},
   "outputs": [],
   "source": [
    "def P(theta):\n",
    "    return numpy.matrix([[1, 0], [0, numpy.exp(1j * theta)]])"
   ]
  },
  {
   "cell_type": "code",
   "execution_count": 11,
   "id": "eb8dbe67",
   "metadata": {},
   "outputs": [
    {
     "data": {
      "text/plain": [
       "matrix([[1.        +0.j        , 0.        +0.j        ],\n",
       "        [0.        +0.j        , 0.87758256+0.47942554j]])"
      ]
     },
     "execution_count": 11,
     "metadata": {},
     "output_type": "execute_result"
    }
   ],
   "source": [
    "P(0.5)"
   ]
  },
  {
   "cell_type": "code",
   "execution_count": 12,
   "id": "3abff466",
   "metadata": {},
   "outputs": [],
   "source": [
    "CNOT = numpy.matrix([[1, 0, 0, 0], [0, 1, 0, 0], [0, 0, 0, 1], [0, 0, 1, 0]])"
   ]
  },
  {
   "cell_type": "code",
   "execution_count": 13,
   "id": "48d407c2",
   "metadata": {},
   "outputs": [
    {
     "data": {
      "text/plain": [
       "array([0.31622777, 0.63245553, 0.        , 0.70710678])"
      ]
     },
     "execution_count": 13,
     "metadata": {},
     "output_type": "execute_result"
    }
   ],
   "source": [
    "state_to_vector(state)"
   ]
  },
  {
   "cell_type": "code",
   "execution_count": 14,
   "id": "90cbb97e",
   "metadata": {},
   "outputs": [],
   "source": [
    "s = [\n",
    "    (numpy.sqrt(0.2), '0'),\n",
    "    (numpy.sqrt(0.8), '1')\n",
    "]"
   ]
  },
  {
   "cell_type": "code",
   "execution_count": 15,
   "id": "f846c5a5",
   "metadata": {},
   "outputs": [],
   "source": [
    "sv = state_to_vector(s)"
   ]
  },
  {
   "cell_type": "code",
   "execution_count": 16,
   "id": "728fcbcd",
   "metadata": {},
   "outputs": [
    {
     "data": {
      "text/plain": [
       "matrix([[ 0.9486833 , -0.31622777]])"
      ]
     },
     "execution_count": 16,
     "metadata": {},
     "output_type": "execute_result"
    }
   ],
   "source": [
    "numpy.matmul(H, sv)"
   ]
  },
  {
   "cell_type": "code",
   "execution_count": 17,
   "id": "8be4ef94",
   "metadata": {},
   "outputs": [],
   "source": [
    "def read_input(fileName):\n",
    "    myInput_lines=open(fileName).readlines()\n",
    "    myInput=[]\n",
    "    numberOfWires=int(myInput_lines[0])\n",
    "    for line in myInput_lines[1:]:\n",
    "        myInput.append(line.split())\n",
    "    return (numberOfWires,myInput)"
   ]
  },
  {
   "cell_type": "code",
   "execution_count": 18,
   "id": "e31de89f",
   "metadata": {},
   "outputs": [
    {
     "data": {
      "text/plain": [
       "(3, [['H', '1'], ['CNOT', '1', '2'], ['P', '0', '0.45']])"
      ]
     },
     "execution_count": 18,
     "metadata": {},
     "output_type": "execute_result"
    }
   ],
   "source": [
    "circ_1 = read_input('data/circuit_1.txt')\n",
    "circ_1"
   ]
  },
  {
   "cell_type": "code",
   "execution_count": 19,
   "id": "517feffe",
   "metadata": {},
   "outputs": [
    {
     "name": "stdout",
     "output_type": "stream",
     "text": [
      "['H', '1']\n",
      "['CNOT', '1', '2']\n",
      "['P', '0', '0.45']\n"
     ]
    }
   ],
   "source": [
    "for gate in circ_1[1]:\n",
    "    print(gate)"
   ]
  },
  {
   "cell_type": "code",
   "execution_count": 27,
   "id": "6fdb6331",
   "metadata": {},
   "outputs": [],
   "source": [
    "def hadamard_matrix(i, k):\n",
    "    if k >= 14:\n",
    "        print(\"The input is too large, expect to wait exponential time.\")\n",
    "    result = H if i == 1 else numpy.identity(2)\n",
    "    for j in range(1, i):\n",
    "        result = numpy.kron(result, numpy.identity(2))\n",
    "    result = numpy.kron(result, H) if i != 1 else result\n",
    "    for j in range(i + 1, k + 1):\n",
    "        result = numpy.kron(result, numpy.identity(2))\n",
    "    return result"
   ]
  },
  {
   "cell_type": "code",
   "execution_count": 28,
   "id": "3be1cdb3",
   "metadata": {},
   "outputs": [
    {
     "data": {
      "text/plain": [
       "matrix([[ 0.70710678,  0.        ,  0.        , ...,  0.        ,\n",
       "          0.        ,  0.        ],\n",
       "        [ 0.        ,  0.70710678,  0.        , ...,  0.        ,\n",
       "          0.        ,  0.        ],\n",
       "        [ 0.        ,  0.        ,  0.70710678, ...,  0.        ,\n",
       "          0.        ,  0.        ],\n",
       "        ...,\n",
       "        [ 0.        ,  0.        ,  0.        , ..., -0.70710678,\n",
       "         -0.        , -0.        ],\n",
       "        [ 0.        ,  0.        ,  0.        , ..., -0.        ,\n",
       "         -0.70710678, -0.        ],\n",
       "        [ 0.        ,  0.        ,  0.        , ..., -0.        ,\n",
       "         -0.        , -0.70710678]])"
      ]
     },
     "execution_count": 28,
     "metadata": {},
     "output_type": "execute_result"
    }
   ],
   "source": [
    "hadamard_matrix(1, 10)"
   ]
  },
  {
   "cell_type": "code",
   "execution_count": null,
   "id": "de83e47a",
   "metadata": {},
   "outputs": [],
   "source": [
    "def cnot_matrix(ctrl, i, k):\n",
    "    "
   ]
  },
  {
   "cell_type": "code",
   "execution_count": 30,
   "id": "7ecf7f5e",
   "metadata": {},
   "outputs": [],
   "source": [
    "I2 = numpy.identity(2)"
   ]
  },
  {
   "cell_type": "code",
   "execution_count": 34,
   "id": "4187afd0",
   "metadata": {},
   "outputs": [
    {
     "ename": "ValueError",
     "evalue": "need at least one array to concatenate",
     "output_type": "error",
     "traceback": [
      "\u001b[0;31m---------------------------------------------------------------------------\u001b[0m",
      "\u001b[0;31mValueError\u001b[0m                                Traceback (most recent call last)",
      "\u001b[0;32m<ipython-input-34-886dc2f7effe>\u001b[0m in \u001b[0;36m<module>\u001b[0;34m\u001b[0m\n\u001b[0;32m----> 1\u001b[0;31m \u001b[0mnumpy\u001b[0m\u001b[0;34m.\u001b[0m\u001b[0mkron\u001b[0m\u001b[0;34m(\u001b[0m\u001b[0mnumpy\u001b[0m\u001b[0;34m.\u001b[0m\u001b[0mmatrix\u001b[0m\u001b[0;34m(\u001b[0m\u001b[0;34m[\u001b[0m\u001b[0;34m[\u001b[0m\u001b[0;34m]\u001b[0m\u001b[0;34m]\u001b[0m\u001b[0;34m)\u001b[0m\u001b[0;34m,\u001b[0m \u001b[0mI2\u001b[0m\u001b[0;34m)\u001b[0m\u001b[0;34m\u001b[0m\u001b[0;34m\u001b[0m\u001b[0m\n\u001b[0m",
      "\u001b[0;32m<__array_function__ internals>\u001b[0m in \u001b[0;36mkron\u001b[0;34m(*args, **kwargs)\u001b[0m\n",
      "\u001b[0;32m/opt/anaconda3/lib/python3.8/site-packages/numpy/lib/shape_base.py\u001b[0m in \u001b[0;36mkron\u001b[0;34m(a, b)\u001b[0m\n\u001b[1;32m   1155\u001b[0m     \u001b[0maxis\u001b[0m \u001b[0;34m=\u001b[0m \u001b[0mnd\u001b[0m\u001b[0;34m-\u001b[0m\u001b[0;36m1\u001b[0m\u001b[0;34m\u001b[0m\u001b[0;34m\u001b[0m\u001b[0m\n\u001b[1;32m   1156\u001b[0m     \u001b[0;32mfor\u001b[0m \u001b[0m_\u001b[0m \u001b[0;32min\u001b[0m \u001b[0mrange\u001b[0m\u001b[0;34m(\u001b[0m\u001b[0mnd\u001b[0m\u001b[0;34m)\u001b[0m\u001b[0;34m:\u001b[0m\u001b[0;34m\u001b[0m\u001b[0;34m\u001b[0m\u001b[0m\n\u001b[0;32m-> 1157\u001b[0;31m         \u001b[0mresult\u001b[0m \u001b[0;34m=\u001b[0m \u001b[0mconcatenate\u001b[0m\u001b[0;34m(\u001b[0m\u001b[0mresult\u001b[0m\u001b[0;34m,\u001b[0m \u001b[0maxis\u001b[0m\u001b[0;34m=\u001b[0m\u001b[0maxis\u001b[0m\u001b[0;34m)\u001b[0m\u001b[0;34m\u001b[0m\u001b[0;34m\u001b[0m\u001b[0m\n\u001b[0m\u001b[1;32m   1158\u001b[0m     \u001b[0mwrapper\u001b[0m \u001b[0;34m=\u001b[0m \u001b[0mget_array_prepare\u001b[0m\u001b[0;34m(\u001b[0m\u001b[0ma\u001b[0m\u001b[0;34m,\u001b[0m \u001b[0mb\u001b[0m\u001b[0;34m)\u001b[0m\u001b[0;34m\u001b[0m\u001b[0;34m\u001b[0m\u001b[0m\n\u001b[1;32m   1159\u001b[0m     \u001b[0;32mif\u001b[0m \u001b[0mwrapper\u001b[0m \u001b[0;32mis\u001b[0m \u001b[0;32mnot\u001b[0m \u001b[0;32mNone\u001b[0m\u001b[0;34m:\u001b[0m\u001b[0;34m\u001b[0m\u001b[0;34m\u001b[0m\u001b[0m\n",
      "\u001b[0;32m<__array_function__ internals>\u001b[0m in \u001b[0;36mconcatenate\u001b[0;34m(*args, **kwargs)\u001b[0m\n",
      "\u001b[0;31mValueError\u001b[0m: need at least one array to concatenate"
     ]
    }
   ],
   "source": [
    "numpy.kron(numpy.matrix([[]]), I2)"
   ]
  },
  {
   "cell_type": "code",
   "execution_count": 35,
   "id": "b5b1d62f",
   "metadata": {},
   "outputs": [
    {
     "data": {
      "text/plain": [
       "matrix([], shape=(1, 0), dtype=float64)"
      ]
     },
     "execution_count": 35,
     "metadata": {},
     "output_type": "execute_result"
    }
   ],
   "source": [
    "numpy.matrix([[]])"
   ]
  },
  {
   "cell_type": "code",
   "execution_count": 43,
   "id": "66873898",
   "metadata": {},
   "outputs": [],
   "source": [
    "X = numpy.matrix(\n",
    "    [\n",
    "        [1, 0, 0, 0, 0, 0, 0, 0],\n",
    "        [0, 1, 0, 0, 0, 0, 0, 0],\n",
    "        [0, 0, 1, 0, 0, 0, 0, 0],\n",
    "        [0, 0, 0, 1, 0, 0, 0, 0],\n",
    "        [0, 0, 0, 0, 0, 0, 1, 0],\n",
    "        [0, 0, 0, 0, 0, 1, 0, 0],\n",
    "        [0, 0, 0, 0, 1, 0, 0, 0],\n",
    "        [0, 0, 0, 0, 0, 0, 0, 1],\n",
    "    ]\n",
    ")"
   ]
  },
  {
   "cell_type": "code",
   "execution_count": 44,
   "id": "1b3418d4",
   "metadata": {},
   "outputs": [
    {
     "data": {
      "text/plain": [
       "matrix([[0, 0, 0, 0, 1, 0, 1, 0]])"
      ]
     },
     "execution_count": 44,
     "metadata": {},
     "output_type": "execute_result"
    }
   ],
   "source": [
    "v = numpy.array(\n",
    "    [0, 0, 0, 0,\n",
    "    1,\n",
    "    0,\n",
    "    1,\n",
    "    0]\n",
    ")\n",
    "numpy.matmul(X, v)"
   ]
  },
  {
   "cell_type": "code",
   "execution_count": null,
   "id": "abe71e53",
   "metadata": {},
   "outputs": [],
   "source": []
  }
 ],
 "metadata": {
  "kernelspec": {
   "display_name": "Python 3",
   "language": "python",
   "name": "python3"
  },
  "language_info": {
   "codemirror_mode": {
    "name": "ipython",
    "version": 3
   },
   "file_extension": ".py",
   "mimetype": "text/x-python",
   "name": "python",
   "nbconvert_exporter": "python",
   "pygments_lexer": "ipython3",
   "version": "3.8.8"
  }
 },
 "nbformat": 4,
 "nbformat_minor": 5
}
